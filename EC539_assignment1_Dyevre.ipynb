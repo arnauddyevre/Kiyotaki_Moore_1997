{
  "nbformat": 4,
  "nbformat_minor": 0,
  "metadata": {
    "colab": {
      "name": "Copy of EC539_assignment1_Dyevre.ipynb",
      "provenance": [],
      "collapsed_sections": [],
      "include_colab_link": true
    },
    "kernelspec": {
      "name": "python3",
      "display_name": "Python 3"
    }
  },
  "cells": [
    {
      "cell_type": "markdown",
      "metadata": {
        "id": "view-in-github",
        "colab_type": "text"
      },
      "source": [
        "<a href=\"https://colab.research.google.com/github/arnauddyevre/ec539_assignment1/blob/master/EC539_assignment1_Dyevre.ipynb\" target=\"_parent\"><img src=\"https://colab.research.google.com/assets/colab-badge.svg\" alt=\"Open In Colab\"/></a>"
      ]
    },
    {
      "cell_type": "markdown",
      "metadata": {
        "id": "2SnqTwDbrGso",
        "colab_type": "text"
      },
      "source": [
        "# EC539 - Assignment 1\n",
        "Reproduction of the numerical results in *N. Kiyotaki & J. Moore* \"Credit Cycles\" (1997) \n",
        "\n",
        "*Sunday, January 06*\n",
        "\n",
        "[![Open In Colab](https://colab.research.google.com/assets/colab-badge.svg)](https://colab.research.google.com/github/arnauddyevre/Python-for-Social-Scientists/blob/master/statistics_and_econometrics/time_series/time_series.ipynb)\n",
        "\n",
        "This Notebook presents the tools we need to analyse time series in Python.\n",
        "\n",
        "We first review some essential results about covariance stationarity and strict stationarity, MA, AR and ARMA processes. We then use the `statsmodels` library to decompose seasonal time series into trends and cyclical components, we show how to do time series forecasting and how to use common filters. Finally, we implement tests of unit roots in `statsmodels`.\n",
        "\n",
        "Some familiarity with time-series is required.\n",
        "\n",
        "### Content\n",
        "\n",
        "- [1. Setup](#1.-Setup)\n",
        "    - [1.1. Parameter values](#1.1.-Parameter-values)\n",
        "    - [1.2. Model equilibrium](#1.2.-Model-equilibrium)\n",
        "    - [1.3. Wold's decomposition theorem](#1.3.-Wold's-decomposition-theorem)\n",
        "    - [1.4. AR(p) processes](#1.4.-AR(p)-processes)\n",
        "    - [1.5. MA(p) processes](#1.5.-MA(q)-processes)\n",
        "    - [1.6. ARMA(p, q) processes](#1.6.-ARMA(p,-q)-processes)\n",
        "- [2. Time series in statsmodels](#2.-Time-series-in-statsmodels)\n",
        "    - [2.1. Seasonal decomposition](#2.1.-Seasonal-decomposition)\n",
        "    - [2.2. Time series forecasting](#2.2.-Time-series-forecasting)\n",
        "    - [2.3. Time series filters](#2.3.-Time-series-filters)\n",
        "    - [2.4. Tests of stationarity and unit roots](#2.4.-Tests-of-stationarity-and-unit-roots)"
      ]
    },
    {
      "cell_type": "markdown",
      "metadata": {
        "id": "EP1dTYh3rE8J",
        "colab_type": "text"
      },
      "source": [
        ""
      ]
    },
    {
      "cell_type": "markdown",
      "metadata": {
        "id": "8n9bFvdSNl8L",
        "colab_type": "text"
      },
      "source": [
        "### 1. Setup\n",
        "\n",
        "### 1.1. Assumptions\n",
        "\n",
        "#### 1.2. Parameter values\n",
        "\n",
        "$R = 1.01 \\\\\n",
        "\\lambda = 0.975\\\\\n",
        "u(K) = K - v\\\\\n",
        "\\eta = 0.10 \\\\\n",
        "a = 1\\\\\n",
        "\\pi = 0.1\\\\\n",
        "\\phi = 20\\\\\n",
        "\\Delta = 0.01\\\\\n",
        "c = 1$\n",
        "\n",
        "#### 1.3. Model equilibrium\n",
        "\n",
        "*(1) Land market equilibrium condition*\n",
        "$$q_{t+1}= R(q_{t} - u\\left(K_{t}\\right))$$\n",
        "\n",
        "*(2) Law of motion of the farmers' aggregate landholding*\n",
        "$$\\begin{equation}\n",
        "K_{t}=(1-\\pi) \\lambda K_{t-1} +\\frac{\\pi}{\\phi + q_t - \\frac{1}{R} q_{t+1}}\\left[\\left(a+q_{t}+\\lambda \\phi\\right) K_{t-1}-R B_{t-1}\\right]\n",
        "\\end{equation}$$\n",
        "\n",
        "*(3) Law of motion of the farmers' aggregate debt*\n",
        "$$B_{t}=R B_{t-1}+q_{t}\\left(K_{t}-K_{t-1}\\right)+\\phi\\left(K_{t}-\\lambda K_{t-1}\\right)-a K_{t-1}$$\n",
        "\n",
        "Where:\n",
        "\n",
        "- $ q_t = $ price of land \n",
        "- $K_t=$ landholding of farmers\n",
        "- $ B_t = $ aggregate debt of farmers\n",
        "- $R_t = R = $ constant rate of interest\n",
        "- $u(.) =$ downpayment required for the purchase of $K_t$ units or land (or opportunity cost of holding land)\n",
        "- $a = $ constant proportional to the share of tradeable fruit\n",
        "- $\\lambda =$ fraction of trees surviving after one period\n",
        "- $\\pi = $ probability that a new opportunity to plant tree arises\n",
        "- $\\phi = $ amount of trees created with one fruit  \n",
        "\n",
        "I simulate this non-linear model.\n",
        "\n",
        "#### 1.4. (No NEED!) Linearisation around the steady state\n",
        "\n",
        "Equations (1), (2) and (3) form a nonlinear system that I need to solve for $(K_{t}^{*}, B_{t}^*, q_{t}^*)$. I linearise the model around its steady state\n",
        "\n",
        "*Steady state*\n",
        "$$\\begin{align} \n",
        "\\frac{R-1}{R} q^{*}=u^{*} & =\\frac{\\pi a-(1-\\lambda)(1-R+\\pi R) \\phi}{\\lambda \\pi+(1-\\lambda)(1-R+\\pi R)} \\\\\n",
        "u^{*} & =\\frac{1}{R} G^{\\prime}\\left[\\frac{1}{m}\\left(\\bar{K}-K^{*}\\right)\\right] \\\\\n",
        "B^{*} & =\\frac{1}{R-1}(a-\\phi+\\lambda \\phi) K^{*}\n",
        "\\end{align}$$\n",
        "\n",
        "To find the steady state value of $K$, we instead use (1): $$K^* = \\frac{R - 1}{R} q^* + \\nu$$ \n",
        "\n",
        "\n",
        "In the text of the paper, $\\eta$ is defined as the elasticity of the residual supply of land to the farmers with respect to the user/opportunity cost in the steady state. We can thus calculate $v$ in the expression of $u(K) = K - v$ that we are assuming.\n",
        "\n",
        "$$ \\dfrac{1}{\\eta} = \\left . \\dfrac{\\mathrm{d} \\log(K - \\nu)}{\\mathrm{d} log(K)} \\right|_{K = K^*} = \\left.\\dfrac{\\mathrm{d} (K - \\nu)}{\\mathrm{d}K}\\right|_{K=K^*} \\dfrac{K^*}{K^*-\\nu} = \\dfrac{K^*}{K^*-\\nu} $$\n",
        "\n",
        "So $v = K^*(1 - \\eta)$ and $K^* = \\frac{R - 1}{R} \\dfrac{q^*}{\\eta}$\n",
        "\n",
        "#### 1.5. Impact of a small change in productivity\n",
        "\n",
        "\n"
      ]
    },
    {
      "cell_type": "code",
      "metadata": {
        "id": "wb-ME2HVe5b7",
        "colab_type": "code",
        "colab": {}
      },
      "source": [
        "#Necessary modules\n",
        "import numpy as np\n",
        "import matplotlib.pyplot as plt\n",
        "import pandas as pd\n",
        "import statsmodels as sm\n",
        "import scipy.optimize as opt\n",
        "#%matplotlib nbagg"
      ],
      "execution_count": 0,
      "outputs": []
    },
    {
      "cell_type": "code",
      "metadata": {
        "id": "NHIqX1T8gM_0",
        "colab_type": "code",
        "outputId": "2f3558c7-c3e8-4c66-8e12-bd6c2a388a99",
        "colab": {
          "base_uri": "https://localhost:8080/",
          "height": 34
        }
      },
      "source": [
        "#Setting timeline\n",
        "periods = 100                                        \n",
        "time = np.linspace(0, 100, 100)\n",
        "\n",
        "#Vectors of variable of interest\n",
        "B = np.zeros(periods)\n",
        "q = np.zeros(periods)\n",
        "K = np.zeros(periods)\n",
        "\n",
        "#Parameter values\n",
        "R = 1.01\n",
        "λ = 0.975\n",
        "v = 1.0\n",
        "η = 0.10\n",
        "a = 1.0\n",
        "Δa = 0.01\n",
        "π = 0.1\n",
        "ϕ = 20.0\n",
        "Δ = 0.01\n",
        "c = 1.0\n",
        "\n",
        "#Finding the steady state values\n",
        "q_star = (R/(R-1))*(π*a - (1-λ)*(1 - R + π*R)*ϕ) / (λ*π + (1-λ)*(1 - R + π*R))\n",
        "K_star = ((R-1)/R)*(q_star/η)\n",
        "B_star = (1/(R-1))*(a - ϕ + λ*ϕ)*K_star\n",
        "q_star, K_star, B_star"
      ],
      "execution_count": 266,
      "outputs": [
        {
          "output_type": "execute_result",
          "data": {
            "text/plain": [
              "(55.1691305437233, 5.462290152843895, 273.11450764219455)"
            ]
          },
          "metadata": {
            "tags": []
          },
          "execution_count": 266
        }
      ]
    },
    {
      "cell_type": "code",
      "metadata": {
        "id": "ZENObO4T0pb6",
        "colab_type": "code",
        "outputId": "06b2b8b6-4858-457d-a029-38198e135aa8",
        "colab": {
          "base_uri": "https://localhost:8080/",
          "height": 187
        }
      },
      "source": [
        "#Calculating the values of q, B and K after the productivity shock (need to solve non-linear equations for each period)\n",
        "a_t = np.ones(periods)\n",
        "a_t[1] = a + Δa\n",
        "B[0], K[0] = B_star, K_star\n",
        "q[0] = q_star\n",
        "a_t"
      ],
      "execution_count": 267,
      "outputs": [
        {
          "output_type": "execute_result",
          "data": {
            "text/plain": [
              "array([1.  , 1.01, 1.  , 1.  , 1.  , 1.  , 1.  , 1.  , 1.  , 1.  , 1.  ,\n",
              "       1.  , 1.  , 1.  , 1.  , 1.  , 1.  , 1.  , 1.  , 1.  , 1.  , 1.  ,\n",
              "       1.  , 1.  , 1.  , 1.  , 1.  , 1.  , 1.  , 1.  , 1.  , 1.  , 1.  ,\n",
              "       1.  , 1.  , 1.  , 1.  , 1.  , 1.  , 1.  , 1.  , 1.  , 1.  , 1.  ,\n",
              "       1.  , 1.  , 1.  , 1.  , 1.  , 1.  , 1.  , 1.  , 1.  , 1.  , 1.  ,\n",
              "       1.  , 1.  , 1.  , 1.  , 1.  , 1.  , 1.  , 1.  , 1.  , 1.  , 1.  ,\n",
              "       1.  , 1.  , 1.  , 1.  , 1.  , 1.  , 1.  , 1.  , 1.  , 1.  , 1.  ,\n",
              "       1.  , 1.  , 1.  , 1.  , 1.  , 1.  , 1.  , 1.  , 1.  , 1.  , 1.  ,\n",
              "       1.  , 1.  , 1.  , 1.  , 1.  , 1.  , 1.  , 1.  , 1.  , 1.  , 1.  ,\n",
              "       1.  ])"
            ]
          },
          "metadata": {
            "tags": []
          },
          "execution_count": 267
        }
      ]
    },
    {
      "cell_type": "markdown",
      "metadata": {
        "id": "TWS8CUKGM_bq",
        "colab_type": "text"
      },
      "source": [
        "I need to use shooting method to solve for this nonlinear dynamic problem. For this, I need two boundary conditions.\n",
        "\n",
        "$$ (q_0, B_0, K_0) = (q^*, B^*, K^*) $$ and $$ (q_\\infty, B_\\infty, K_\\infty) = (q^g, B^g, K^g) $$ where $(q^g, B^g, K^g)$ are guesses for the final values of our variables of interest.\n",
        "\n",
        "And my three dynamic equations.\n",
        "\n",
        "Use reverse shooting here."
      ]
    },
    {
      "cell_type": "code",
      "metadata": {
        "id": "BQzXDcaOCipX",
        "colab_type": "code",
        "colab": {}
      },
      "source": [
        "#t = 1\n",
        "\n",
        "#def f(variables):\n",
        "#  (q_tplus1, K_t, B_t) = variables\n",
        "#  first_eq = q_tplus1 - R*(q[t] - K[t-1] - v)\n",
        "#  sec_eq = K_t - (1 - π)*λ*K[t-1] - ((π)/(ϕ + q[t] - (1/R)*q_tplus1))*( (a_t[t] + q[t] + λ*ϕ)*K[t-1] - R*B[t-1])\n",
        "#  third_eq = B_t - R*B[t] - q[t]*(K[t]-K[t-1]) - ϕ*(K[t]-λ*K[t-1]) + a_t[t]*K[t-1]\n",
        "#  return [first_eq, sec_eq, third_eq]\n",
        "          \n",
        "#solution = opt.fsolve(f, (0, 0, 0))\n",
        "#print(solution)"
      ],
      "execution_count": 0,
      "outputs": []
    },
    {
      "cell_type": "code",
      "metadata": {
        "id": "qRgZpPE_ctmE",
        "colab_type": "code",
        "colab": {
          "base_uri": "https://localhost:8080/",
          "height": 357
        },
        "outputId": "e8e29122-fd2c-4caf-bbab-ca9c1447d826"
      },
      "source": [
        "#Vectors of variable of interest\n",
        "B = np.zeros(periods)\n",
        "q = np.zeros(periods)\n",
        "K = np.zeros(periods)\n",
        "\n",
        "#Calculating the values of q, B and K after the productivity shock (need to solve non-linear equations for each period)\n",
        "a_t = np.ones(periods)\n",
        "a_t[1] = a + Δa\n",
        "B[0], K[0] = B_star, K_star\n",
        "a_t\n",
        "\n",
        "#Generating test values for q_1, checking which ones lead to the steady state\n",
        "q_vec = np.linspace(q_star*(1.0037-0.00005), q_star*(1.0037+0.00005), 100)\n",
        "q_vecSS = np.linspace(q_star, q_star, 100)\n",
        "q_mat = np.zeros((100, 100))\n",
        "q_mat[:,1] = q_vec\n",
        "q_mat[:,0] = q_vecSS\n",
        "\n",
        "B_mat = np.zeros((100, 100))\n",
        "K_mat = np.zeros((100, 100))\n",
        "B_vec = np.linspace(B_star, B_star, 100)\n",
        "K_vec = np.linspace(K_star, K_star, 100)\n",
        "B_mat[:,0] = B_vec\n",
        "K_mat[:,0] = K_vec\n",
        "q_vec"
      ],
      "execution_count": 269,
      "outputs": [
        {
          "output_type": "execute_result",
          "data": {
            "text/plain": [
              "array([55.37049787, 55.3705536 , 55.37060932, 55.37066505, 55.37072078,\n",
              "       55.3707765 , 55.37083223, 55.37088795, 55.37094368, 55.37099941,\n",
              "       55.37105513, 55.37111086, 55.37116659, 55.37122231, 55.37127804,\n",
              "       55.37133377, 55.37138949, 55.37144522, 55.37150095, 55.37155667,\n",
              "       55.3716124 , 55.37166812, 55.37172385, 55.37177958, 55.3718353 ,\n",
              "       55.37189103, 55.37194676, 55.37200248, 55.37205821, 55.37211394,\n",
              "       55.37216966, 55.37222539, 55.37228111, 55.37233684, 55.37239257,\n",
              "       55.37244829, 55.37250402, 55.37255975, 55.37261547, 55.3726712 ,\n",
              "       55.37272693, 55.37278265, 55.37283838, 55.37289411, 55.37294983,\n",
              "       55.37300556, 55.37306128, 55.37311701, 55.37317274, 55.37322846,\n",
              "       55.37328419, 55.37333992, 55.37339564, 55.37345137, 55.3735071 ,\n",
              "       55.37356282, 55.37361855, 55.37367427, 55.37373   , 55.37378573,\n",
              "       55.37384145, 55.37389718, 55.37395291, 55.37400863, 55.37406436,\n",
              "       55.37412009, 55.37417581, 55.37423154, 55.37428727, 55.37434299,\n",
              "       55.37439872, 55.37445444, 55.37451017, 55.3745659 , 55.37462162,\n",
              "       55.37467735, 55.37473308, 55.3747888 , 55.37484453, 55.37490026,\n",
              "       55.37495598, 55.37501171, 55.37506743, 55.37512316, 55.37517889,\n",
              "       55.37523461, 55.37529034, 55.37534607, 55.37540179, 55.37545752,\n",
              "       55.37551325, 55.37556897, 55.3756247 , 55.37568042, 55.37573615,\n",
              "       55.37579188, 55.3758476 , 55.37590333, 55.37595906, 55.37601478])"
            ]
          },
          "metadata": {
            "tags": []
          },
          "execution_count": 269
        }
      ]
    },
    {
      "cell_type": "code",
      "metadata": {
        "id": "aCuKA9QKE9SR",
        "colab_type": "code",
        "colab": {
          "base_uri": "https://localhost:8080/",
          "height": 119
        },
        "outputId": "59958d27-86b1-4d69-e329-fb8f5343c2ad"
      },
      "source": [
        "\n",
        "for s in range(0, 100):\n",
        "\n",
        "  for t in range(1, periods-1):\n",
        "    def f(variables):\n",
        "      (q_tplus1, K_t, B_t) = variables\n",
        "      \n",
        "      first_eq = q_tplus1 - R*(q_mat[s, t] - K_t - v)\n",
        "      sec_eq = K_t - (1 - π)*λ*K_mat[s, t-1] - ((π)/(ϕ + q_mat[s, t] - (1/R)*q_tplus1))*( (a_t[t] + q_mat[s, t] + λ*ϕ)*K_mat[s, t-1] - R*B_mat[s, t-1])\n",
        "      third_eq = B_t - R*B_mat[s, t-1] - q_mat[s, t]*(K_mat[s, t]-K_mat[s, t-1]) - ϕ*(K_mat[s, t]-λ*K_mat[s, t-1]) + a_t[t]*K_mat[s, t-1]\n",
        "      return [first_eq, sec_eq, third_eq]\n",
        "\n",
        "    solution = opt.fsolve(f, (0, 0, 0))\n",
        "    #print(solution)\n",
        "\n",
        "    q_mat[s, t+1], K_mat[s, t], B_mat[s, t] = solution\n"
      ],
      "execution_count": 272,
      "outputs": [
        {
          "output_type": "stream",
          "text": [
            "/usr/local/lib/python3.6/dist-packages/scipy/optimize/minpack.py:162: RuntimeWarning: The iteration is not making good progress, as measured by the \n",
            "  improvement from the last ten iterations.\n",
            "  warnings.warn(msg, RuntimeWarning)\n",
            "/usr/local/lib/python3.6/dist-packages/scipy/optimize/minpack.py:162: RuntimeWarning: The iteration is not making good progress, as measured by the \n",
            "  improvement from the last five Jacobian evaluations.\n",
            "  warnings.warn(msg, RuntimeWarning)\n"
          ],
          "name": "stderr"
        }
      ]
    },
    {
      "cell_type": "code",
      "metadata": {
        "id": "zKwEn390MQmk",
        "colab_type": "code",
        "colab": {
          "base_uri": "https://localhost:8080/",
          "height": 442
        },
        "outputId": "7fa66990-2f6a-46d8-808a-7e4cfc77674a"
      },
      "source": [
        "q_mat[:, -1]"
      ],
      "execution_count": 273,
      "outputs": [
        {
          "output_type": "execute_result",
          "data": {
            "text/plain": [
              "array([-7.31293682e+01, -9.17575306e+03,  1.37727797e+01,  7.61235887e+01,\n",
              "       -1.76920266e+00, -4.73741462e+02, -2.31570792e+01, -1.63818958e+02,\n",
              "       -4.33851650e+00,  2.15919704e+02, -7.26155733e+01,  3.14482895e+00,\n",
              "       -1.05168695e+03, -4.55122078e+01, -3.17959548e+01, -2.17091302e+01,\n",
              "       -3.16686871e+02, -1.94801465e+03, -1.25688494e+02, -7.71923616e+02,\n",
              "       -1.75506301e+02,  1.32698834e+01, -1.86330450e+02, -1.58794176e+02,\n",
              "       -8.01661451e+02,  1.28617362e+01,  5.05834146e+00, -1.77466463e+03,\n",
              "       -7.73479848e+01, -1.59032897e+02, -1.09048393e+02, -9.99584349e+01,\n",
              "       -1.06114903e+02, -3.08732253e+00,  7.74260749e+00, -3.80225053e+02,\n",
              "       -1.62308478e+03,  5.28096862e+01, -2.97150449e+01, -7.21573050e+01,\n",
              "       -6.48363505e+01,  2.19749650e+02, -8.27732176e+00, -2.04299566e+01,\n",
              "        2.37181317e+00, -3.24657462e+00, -4.63720434e+00, -2.21112834e+01,\n",
              "        6.66036542e+01,  4.05495708e+01, -1.20431729e+00, -4.19594583e+02,\n",
              "        2.94708963e+01,  5.99958600e+02, -1.54829298e+01, -3.67896409e+01,\n",
              "        2.25881130e+02,  1.99929499e+02, -6.99172620e+01,  8.11762099e+01,\n",
              "        4.45619365e+00, -1.52166282e+01,  1.19163580e+01, -3.56708119e+01,\n",
              "       -1.99093788e+01,  3.18093909e+02, -9.94340517e+00, -2.42874211e+01,\n",
              "       -1.26816768e+01, -2.47731177e+01,  2.47458670e+01, -9.74423472e+01,\n",
              "        2.62710348e+01, -8.47534216e+01,  2.66457922e+01, -4.48324545e+02,\n",
              "       -8.31362648e+00, -6.31521569e+03, -1.06964344e+02,  2.19224519e+02,\n",
              "       -4.71829807e+00,  2.07619821e+02, -1.15267140e+01,  3.44750681e-02,\n",
              "       -1.53426525e+03,  1.93189968e+02,  3.67594193e+01, -3.25568536e+01,\n",
              "       -2.25903578e+02, -1.14913611e+01, -1.42804113e+01, -2.43216074e+02,\n",
              "       -6.33488440e+01,  1.21553368e+01, -1.66759584e+01, -9.83694175e+01,\n",
              "       -7.16877821e+01, -2.43002194e+02,  2.08346136e-01,  1.33353574e+01])"
            ]
          },
          "metadata": {
            "tags": []
          },
          "execution_count": 273
        }
      ]
    },
    {
      "cell_type": "code",
      "metadata": {
        "id": "4YR335NkNL8J",
        "colab_type": "code",
        "colab": {
          "base_uri": "https://localhost:8080/",
          "height": 357
        },
        "outputId": "503082ab-3c3e-4377-9a2e-2353b9fe63d8"
      },
      "source": [
        "q_vec_abs = np.zeros(100)\n",
        "for i in range(0, 100):\n",
        "  q_vec_abs[i] = abs(q_mat[i, -1]/q_star)\n",
        "q_vec_abs"
      ],
      "execution_count": 258,
      "outputs": [
        {
          "output_type": "execute_result",
          "data": {
            "text/plain": [
              "array([ 0.5634904 ,  0.56404795,  0.56507083,  0.56412108,  0.56478384,\n",
              "        0.56499289,  0.56463495,  0.56597224,  0.56587358,  0.56565349,\n",
              "        0.56246569,  0.56699388,  0.57228171,  0.5691233 , 14.97190211,\n",
              "       15.61231766, 11.66139255,  1.1604325 , 20.83602259,  9.95179906,\n",
              "        6.94540624,  6.94532033,  6.94521616,  6.94511746,  6.94501843,\n",
              "        6.94490803,  6.94482194,  1.48071716,  0.57168304,  6.94578216,\n",
              "        6.94569029,  6.9455688 ,  6.94541066,  0.56198321,  0.56176907,\n",
              "        0.55857094,  0.55790842,  0.55757437,  0.56255581,  0.56226609,\n",
              "        0.560817  ,  0.55966273,  0.55909698,  0.55276532,  0.55147662,\n",
              "        0.55541042,  0.56379515,  0.56434769,  0.5624669 ,  6.94531291,\n",
              "        6.94525647,  6.94564187,  0.56941204,  0.56754974,  0.56879611,\n",
              "        0.56683992,  0.56843314,  0.56980248,  0.56935088,  0.56974849,\n",
              "        0.56802321,  0.57220705,  6.9452041 ,  0.57260284,  0.57153005,\n",
              "        0.56999528,  0.56871688,  0.56708783,  0.57267313,  0.57100302,\n",
              "        0.56962636,  0.56873665,  0.55387816,  0.55337541,  0.56419958,\n",
              "        0.57026321,  0.57010427,  0.57080948,  0.57032566,  0.56934461,\n",
              "        0.56293895,  0.56484541,  0.56365038,  0.56888049,  0.57070488,\n",
              "        0.57119822,  0.57027182,  0.57138913,  0.53417526,  6.94522365,\n",
              "        6.94512138,  6.94527558,  6.94544397,  6.94559693,  6.94498236,\n",
              "        6.9450835 ,  0.57221856,  0.5714232 ,  0.57234695,  6.94513883])"
            ]
          },
          "metadata": {
            "tags": []
          },
          "execution_count": 258
        }
      ]
    },
    {
      "cell_type": "code",
      "metadata": {
        "id": "JcMBq85nSg1n",
        "colab_type": "code",
        "colab": {
          "base_uri": "https://localhost:8080/",
          "height": 34
        },
        "outputId": "1c13fd90-a3b7-4942-8ff3-28945a90b9f1"
      },
      "source": [
        "index = np.argwhere(q_vec_abs == np.min(q_vec_abs))\n",
        "index"
      ],
      "execution_count": 259,
      "outputs": [
        {
          "output_type": "execute_result",
          "data": {
            "text/plain": [
              "array([[88]])"
            ]
          },
          "metadata": {
            "tags": []
          },
          "execution_count": 259
        }
      ]
    },
    {
      "cell_type": "code",
      "metadata": {
        "id": "nP-rnefCSycN",
        "colab_type": "code",
        "colab": {
          "base_uri": "https://localhost:8080/",
          "height": 238
        },
        "outputId": "3586d582-7a3b-45a8-f9ec-0688faed6236"
      },
      "source": [
        "#Generating test values for q_1, checking which ones lead to the steady state\n",
        "q_vec2 = np.linspace(q_vec[index[0, 0]] - (-55.37049787+55.3705536), q_vec[index[0, 0]] + (-55.37049787+55.3705536), 100)\n",
        "q_vec2\n",
        "#q_vecSS = np.linspace(q_star, q_star, 100)\n",
        "q_mat = np.zeros((100, 100))\n",
        "q_mat[:,1] = q_vec2\n",
        "q_mat[:,0] = q_vecSS\n",
        "\n",
        "B_mat = np.zeros((100, 100))\n",
        "K_mat = np.zeros((100, 100))\n",
        "B_vec = np.linspace(B_star, B_star, 100)\n",
        "K_vec = np.linspace(K_star, K_star, 100)\n",
        "B_mat[:,0] = B_vec\n",
        "K_mat[:,0] = K_vec\n",
        "q_mat"
      ],
      "execution_count": 262,
      "outputs": [
        {
          "output_type": "execute_result",
          "data": {
            "text/plain": [
              "array([[55.16913054, 55.37534606,  0.        , ...,  0.        ,\n",
              "         0.        ,  0.        ],\n",
              "       [55.16913054, 55.37534719,  0.        , ...,  0.        ,\n",
              "         0.        ,  0.        ],\n",
              "       [55.16913054, 55.37534831,  0.        , ...,  0.        ,\n",
              "         0.        ,  0.        ],\n",
              "       ...,\n",
              "       [55.16913054, 55.37545527,  0.        , ...,  0.        ,\n",
              "         0.        ,  0.        ],\n",
              "       [55.16913054, 55.3754564 ,  0.        , ...,  0.        ,\n",
              "         0.        ,  0.        ],\n",
              "       [55.16913054, 55.37545752,  0.        , ...,  0.        ,\n",
              "         0.        ,  0.        ]])"
            ]
          },
          "metadata": {
            "tags": []
          },
          "execution_count": 262
        }
      ]
    },
    {
      "cell_type": "code",
      "metadata": {
        "id": "x9PsYaAdVba5",
        "colab_type": "code",
        "colab": {
          "base_uri": "https://localhost:8080/",
          "height": 119
        },
        "outputId": "36a809ce-de51-4404-8e2d-66760ada1cd5"
      },
      "source": [
        "for s in range(0, 100):\n",
        "\n",
        "  for t in range(1, periods-1):\n",
        "    def f(variables):\n",
        "      (q_tplus1, K_t, B_t) = variables\n",
        "      \n",
        "      first_eq = q_tplus1 - R*(q_mat[s, t] - K_t - v)\n",
        "      sec_eq = K_t - (1 - π)*λ*K_mat[s, t-1] - ((π)/(ϕ + q_mat[s, t] - (1/R)*q_tplus1))*( (a_t[t] + q_mat[s, t] + λ*ϕ)*K_mat[s, t-1] - R*B_mat[s, t-1])\n",
        "      third_eq = B_t - R*B_mat[s, t-1] - q_mat[s, t]*(K_mat[s, t]-K_mat[s, t-1]) - ϕ*(K_mat[s, t]-λ*K_mat[s, t-1]) + a_t[t]*K_mat[s, t-1]\n",
        "      return [first_eq, sec_eq, third_eq]\n",
        "\n",
        "    solution = opt.fsolve(f, (0, 0, 0))\n",
        "    #print(solution)\n",
        "\n",
        "    q_mat[s, t+1], K_mat[s, t], B_mat[s, t] = solution"
      ],
      "execution_count": 263,
      "outputs": [
        {
          "output_type": "stream",
          "text": [
            "/usr/local/lib/python3.6/dist-packages/scipy/optimize/minpack.py:162: RuntimeWarning: The iteration is not making good progress, as measured by the \n",
            "  improvement from the last ten iterations.\n",
            "  warnings.warn(msg, RuntimeWarning)\n",
            "/usr/local/lib/python3.6/dist-packages/scipy/optimize/minpack.py:162: RuntimeWarning: The iteration is not making good progress, as measured by the \n",
            "  improvement from the last five Jacobian evaluations.\n",
            "  warnings.warn(msg, RuntimeWarning)\n"
          ],
          "name": "stderr"
        }
      ]
    },
    {
      "cell_type": "code",
      "metadata": {
        "id": "toF6gvKrNmBm",
        "colab_type": "code",
        "colab": {
          "base_uri": "https://localhost:8080/",
          "height": 442
        },
        "outputId": "9513e510-96c7-48c4-d75a-583d7f4dbb2a"
      },
      "source": [
        "q_mat[:, -1]"
      ],
      "execution_count": 264,
      "outputs": [
        {
          "output_type": "execute_result",
          "data": {
            "text/plain": [
              "array([ -31.51598823,  -31.51950547,  -31.51314284,  -31.51728948,\n",
              "        -31.51733457,  -31.51428894,  -31.51459187,  -31.5137124 ,\n",
              "        -31.51370475,  -31.51120274, -383.21487762, -383.21496994,\n",
              "       -383.21497338, -383.21561057, -383.21529   , -383.21562966,\n",
              "       -383.21602925, -383.21602361, -383.21563029, -383.21572858,\n",
              "       -383.21657541, -383.21656226, -383.21669185, -383.21679209,\n",
              "       -383.21625091, -383.21644541, -383.21645207, -383.21663283,\n",
              "       -383.17477919, -383.21740158, -383.21721324, -383.21708401,\n",
              "        -31.27475907, -383.17483227,  -31.27478504,  -31.27024569,\n",
              "        -31.2677748 ,  -31.27453903, -383.21794955,  -31.27448097,\n",
              "        -31.27210738,  -31.26552898, -383.21780595, -383.21883697,\n",
              "       -383.21791505, -383.21793507, -383.21750916,  -31.59685617,\n",
              "       -383.21887468, -383.21893863, -383.21887044, -383.14790804,\n",
              "        -31.59677236, -383.14775365, -383.1477486 , -383.14788784,\n",
              "       -383.14796253, -383.14814454, -383.14831224, -383.14858412,\n",
              "       -383.14863728, -383.14865022, -383.14874555, -383.14879533,\n",
              "       -383.14878197, -383.14872262, -383.14873243, -383.14870535,\n",
              "       -383.14854261, -383.14862053, -383.14850304, -383.14867137,\n",
              "       -383.14839222, -383.1484055 , -383.14844427, -383.14847883,\n",
              "       -383.14853777, -383.14855438, -383.1489353 , -383.15078828,\n",
              "       -383.15126874, -383.15138692, -383.1634582 , -383.16353996,\n",
              "       -383.16310222, -383.17175346, -383.16328637, -383.16321082,\n",
              "       -383.16289438, -383.16273227, -383.16269554, -383.16257538,\n",
              "       -383.16263699, -383.16240775, -383.1624699 , -383.16255668,\n",
              "       -383.16231418, -383.16225152, -383.16211607, -383.16195324])"
            ]
          },
          "metadata": {
            "tags": []
          },
          "execution_count": 264
        }
      ]
    },
    {
      "cell_type": "code",
      "metadata": {
        "id": "2Us0c2nagIp_",
        "colab_type": "code",
        "colab": {
          "base_uri": "https://localhost:8080/",
          "height": 608
        },
        "outputId": "d6b11c19-f443-44d7-c51b-b4534af00f17"
      },
      "source": [
        "B_graph = B/B_star\n",
        "K_graph = K/K_star\n",
        "q_graph = q/q_star\n",
        "\n",
        "plt.figure(1, figsize=(15,10))\n",
        "plt.plot(time, B_graph, alpha=0.8, label='$B_t/B^*$')\n",
        "plt.plot(time, K_graph, alpha=0.8, label='$K_t/K^*$')\n",
        "plt.plot(time, q_graph, alpha=0.8, label='$q_t/q^*$')\n",
        "plt.xlabel(\"$\\mathrm{t}$\")\n",
        "plt.legend()\n",
        "plt.grid()"
      ],
      "execution_count": 198,
      "outputs": [
        {
          "output_type": "display_data",
          "data": {
            "image/png": "[encoded data removed]",
            "text/plain": [
              "<Figure size 1080x720 with 1 Axes>"
            ]
          },
          "metadata": {
            "tags": []
          }
        }
      ]
    },
    {
      "cell_type": "code",
      "metadata": {
        "id": "r2PUVKdsNKlv",
        "colab_type": "code",
        "colab": {}
      },
      "source": [
        ""
      ],
      "execution_count": 0,
      "outputs": []
    },
    {
      "cell_type": "code",
      "metadata": {
        "id": "Ze0DO4jK7VCe",
        "colab_type": "code",
        "colab": {
          "base_uri": "https://localhost:8080/",
          "height": 442
        },
        "outputId": "ca183218-54cb-42fd-af07-cb90711aefd6"
      },
      "source": [
        "q"
      ],
      "execution_count": 194,
      "outputs": [
        {
          "output_type": "execute_result",
          "data": {
            "text/plain": [
              "array([  55.37105513,    0.        ,   -5.19300952,   -9.49981481,\n",
              "        -13.16145512,  -16.32771425,  -19.08981789,  -21.50213422,\n",
              "        -23.5971625 ,  -25.39627922,  -26.91756897,  -28.18137747,\n",
              "        -29.21385577,  -30.04863137,  -30.72677474,  -31.2953522 ,\n",
              "        -31.80498448,  -32.30689491,  -32.84989806,  -33.47766306,\n",
              "        -34.22643509,  -35.12326936,  -36.18476196,  -37.41625969,\n",
              "        -38.81157919,  -40.35333428,  -42.01402333,  -43.75803558,\n",
              "        -45.54467178,  -47.33212915,  -49.08217954,  -50.7650047 ,\n",
              "        -52.36341011,  -53.87551446,  -55.31511267,  -56.70929425,\n",
              "        -58.09351815,  -59.50501666,  -60.97587764,  -62.52725902,\n",
              "        -64.16591126,  -65.88366142,  -67.65991484,  -69.46667173,\n",
              "        -71.27507415,  -73.06212399,  -74.81602279,  -76.53871747,\n",
              "        -78.24481473,  -79.95701579,  -81.69933408,  -83.49013821,\n",
              "        -85.33714848,  -87.23587052,  -89.17184957,  -91.12595634,\n",
              "        -93.08099023,  -95.0274323 ,  -96.96637231,  -98.90853775,\n",
              "       -100.86977877, -102.8647822 , -104.90153162, -106.97870773,\n",
              "       -109.08697744, -111.21351372, -113.34777058, -115.48601113,\n",
              "       -117.63260395, -119.79754782, -121.99147333, -124.22060675,\n",
              "       -126.48416924, -128.77540875, -131.0856003 , -133.4088493 ,\n",
              "       -135.74514033, -138.1000326 , -140.48127538, -142.89437644,\n",
              "       -145.33973194, -147.8129373 , -150.30795315, -152.82108099,\n",
              "       -155.35324747, -157.90921083, -160.49432717, -163.11112394,\n",
              "       -165.75799791, -168.43082732, -171.12623889, -173.84413908,\n",
              "       -176.58771186, -179.36099868, -182.16599347, -185.00149662,\n",
              "       -187.86452834, -190.75305724, -193.6677885 , -196.61159445])"
            ]
          },
          "metadata": {
            "tags": []
          },
          "execution_count": 194
        }
      ]
    },
    {
      "cell_type": "code",
      "metadata": {
        "id": "kKWqmsTjg5mr",
        "colab_type": "code",
        "outputId": "9ae9f6f6-b0d1-4b21-e156-0bda0bd4176e",
        "colab": {
          "base_uri": "https://localhost:8080/",
          "height": 1000
        }
      },
      "source": [
        "for t in range(1, periods):\n",
        "  def f(variables):\n",
        "    (q_tplus1, K_t, B_t) = variables\n",
        "    first_eq = q_tplus1 - R*(q[t] - K_t - v)\n",
        "    sec_eq = K_t - (1 - π)*λ*K[t-1] - ((π)/(ϕ + q[t] - (1/R)*q_tplus1))*( (a_t[t] + q[t] + λ*ϕ)*K[t-1] - R*B[t-1])\n",
        "    third_eq = B_t - R*B[t] - q[t]*(K[t]-K[t-1]) - ϕ*(K[t]-λ*K[t-1]) + a_t[t]*K[t-1]\n",
        "    return [first_eq, sec_eq, third_eq]\n",
        "\n",
        "  solution = opt.fsolve(f, (0, 0, 0))\n",
        "  print(solution)\n",
        "\n",
        "  q[t+1], K[t], B[t] = solution"
      ],
      "execution_count": 9,
      "outputs": [
        {
          "output_type": "stream",
          "text": [
            "[ -10.31995686    4.02499482 -160.75436159]\n",
            "[-15.81104076   4.33453894 -84.81074906]\n",
            "[-21.24511949   4.22373102 -96.01762341]\n",
            "[-26.58881775   4.08044263 -68.36601025]\n",
            "[-31.6614242    3.75912701 579.39897248]\n",
            "[-3.33546098e+01  3.62941973e-01  1.02134241e+03]\n",
            "[ -27.44745571   -7.17891111 1224.96376839]\n",
            "[ -18.54901053  -13.59898041 1236.4944307 ]\n",
            "[  -9.95631938  -16.38456347 1301.66715908]\n",
            "[  -2.18685799  -17.58773428 1425.17599779]\n",
            "[   4.59747814  -18.12210345 1551.33292188]\n",
            "[  10.47103668  -18.32114458 1673.01823688]\n",
            "[  15.58760502  -18.42667673 1766.19334504]\n",
            "[  20.1698967   -18.50309069 1856.33788624]\n",
            "[  24.19590905  -18.49352316 1934.65546369]\n",
            "[  27.76398734  -18.47148838 2008.02286428]\n",
            "[  30.94872433  -18.42445898 2051.83983084]\n",
            "[  33.94400723  -18.44638122 2109.70568129]\n",
            "[  36.59774053  -18.50542441 2161.27958726]\n",
            "[  38.97575169  -18.46550648 2226.16574329]\n",
            "[  41.10902738  -18.43948424 2256.12832064]\n",
            "[  43.05705195  -18.41679137 2295.62611453]\n",
            "[  44.84966943  -18.44115872 2320.86845994]\n",
            "[  46.49288211  -18.44589105 2334.34866592]\n",
            "[  48.0379272   -18.52344335 2394.26450565]\n",
            "[  49.33908264  -18.4938784  2417.74293075]\n",
            "[  50.57172354  -18.62860437 2427.57286443]\n",
            "[  51.63935317  -18.4583415  2441.76425323]\n",
            "[  52.65347776  -18.38906127 2459.34967153]\n",
            "[  53.66721637  -18.43086809 2462.35350787]\n",
            "[  54.2475077   -18.13046785 2504.16807396]\n",
            "[  54.98843189  -18.1662518  2492.75201041]\n",
            "[  55.80709118  -18.26943542 2495.91451181]\n",
            "[  56.58326996  -18.33228612 2515.47154102]\n",
            "[  57.190011    -18.35154972 2530.18719482]\n",
            "[  57.69383671  -18.26227585 2539.22130864]\n",
            "[  58.24535218  -18.31490175 2540.46750525]\n",
            "[  58.81762104  -18.36602358 2555.84401695]\n",
            "[  59.33954941  -18.40465691 2584.39384481]\n",
            "[  59.75542636  -18.56066602 2559.73762552]\n",
            "[  60.15401535  -18.4698373  2572.08798291]\n",
            "[  60.50405056  -18.24604788 2577.53727227]\n",
            "[  60.87685438  -18.3060118  2560.85199649]\n",
            "[  61.39098098  -18.62772542 2589.78431795]\n",
            "[  61.62511614  -18.37615366 2615.17471818]\n",
            "[  61.91832052  -18.39012925 2603.62712468]\n",
            "[  62.18036344  -18.46433014 2608.21833796]\n",
            "[  62.44946946  -18.47190166 2605.15672319]\n",
            "[  62.65418682  -18.40208052 2616.21767056]\n",
            "[  62.87444396  -18.42786312 2603.64050546]\n",
            "[  63.08385607  -18.33864158 2616.3482993 ]\n",
            "[  63.27294745  -18.31458479 2606.5863286 ]\n",
            "[  63.49491195  -18.36726723 2593.29142858]\n",
            "[  63.67596373  -18.3316337  2623.00098469]\n",
            "[  63.81249334  -18.30306654 2606.96760176]\n",
            "[  64.03798533  -18.37616414 2597.82934938]\n",
            "[  64.05265577  -18.00010879 2616.00575903]\n",
            "[  64.24605937  -18.1587396  2583.62397324]\n",
            "[  64.51433879  -18.29991788 2584.40569677]\n",
            "[  64.76437976  -18.30808016 2600.71616964]\n",
            "[  65.02600437  -18.44108722 2610.15990165]\n",
            "[  65.12490191  -18.38699844 2607.97626292]\n",
            "[  65.24480895  -18.3607999  2618.17642985]\n",
            "[  65.3456789   -18.36557347 2598.87821505]\n",
            "[  65.51248647  -18.4049478  2603.62199727]\n",
            "[  65.69325346  -18.48322666 2619.09452777]\n",
            "[  65.74741062  -18.43539709 2610.44318203]\n",
            "[  65.85429803  -18.41572445 2612.53880344]\n",
            "[  65.90762088  -18.33662084 2610.97320633]\n",
            "[  65.99061709  -18.27205562 2615.24953607]\n",
            "[  66.09722994  -18.34107448 2599.72634781]\n",
            "[  66.27519514  -18.45870956 2607.8230385 ]\n",
            "[  66.34274631  -18.41694315 2620.97899164]\n",
            "[  66.36355223  -18.37235308 2605.19250476]\n",
            "[  66.387675    -18.31675303 2613.61699523]\n",
            "[  66.48700938  -18.31442495 2614.38333994]\n",
            "[  66.55300271  -18.35202744 2609.03843096]\n",
            "[  66.7006655   -18.42598935 2600.45264692]\n",
            "[  66.78987784  -18.39678384 2618.3183093 ]\n",
            "[  66.82877217  -18.37993664 2611.77747918]\n",
            "[  66.90316862  -18.42101276 2608.65777188]\n",
            "[  66.94147872  -18.37884071 2609.73557124]\n",
            "[  67.21067479  -18.56414339 2611.41095605]\n",
            "[  67.24151276  -18.51492285 2617.03102519]\n",
            "[  67.24474421  -18.45298908 2621.83742392]\n",
            "[  67.2511637   -18.41365136 2616.46444677]\n",
            "[  67.27670238  -18.30831058 2611.65655595]\n",
            "[  67.32872192  -18.33940981 2601.36677974]\n",
            "[  67.35624653  -18.3034079  2603.99899515]\n",
            "[  67.38566154  -18.26693644 2607.38150089]\n",
            "[  67.52218189  -18.43821188 2593.07107425]\n",
            "[  67.8186552   -18.60802887 2611.99750792]\n",
            "[  67.80086286  -18.55450126 2623.15767534]\n",
            "[  67.7338522   -18.41871692 2626.07211644]\n",
            "[  67.71755082  -18.36693203 2620.38869799]\n",
            "[  67.71959948  -18.34726871 2607.20861208]\n",
            "[  67.76455241  -18.36602942 2602.0227667 ]\n",
            "[  67.81790319  -18.38786015 2615.40126722]\n",
            "[  67.83820852  -18.38893222 2454.40535661]\n"
          ],
          "name": "stdout"
        },
        {
          "output_type": "stream",
          "text": [
            "/usr/local/lib/python3.6/dist-packages/scipy/optimize/minpack.py:162: RuntimeWarning: The iteration is not making good progress, as measured by the \n",
            "  improvement from the last five Jacobian evaluations.\n",
            "  warnings.warn(msg, RuntimeWarning)\n",
            "/usr/local/lib/python3.6/dist-packages/scipy/optimize/minpack.py:162: RuntimeWarning: The iteration is not making good progress, as measured by the \n",
            "  improvement from the last ten iterations.\n",
            "  warnings.warn(msg, RuntimeWarning)\n"
          ],
          "name": "stderr"
        },
        {
          "output_type": "error",
          "ename": "IndexError",
          "evalue": "ignored",
          "traceback": [
            "\u001b[0;31m---------------------------------------------------------------------------\u001b[0m",
            "\u001b[0;31mIndexError\u001b[0m                                Traceback (most recent call last)",
            "\u001b[0;32m<ipython-input-9-c0a091b8652a>\u001b[0m in \u001b[0;36m<module>\u001b[0;34m()\u001b[0m\n\u001b[1;32m     10\u001b[0m   \u001b[0mprint\u001b[0m\u001b[0;34m(\u001b[0m\u001b[0msolution\u001b[0m\u001b[0;34m)\u001b[0m\u001b[0;34m\u001b[0m\u001b[0;34m\u001b[0m\u001b[0m\n\u001b[1;32m     11\u001b[0m \u001b[0;34m\u001b[0m\u001b[0m\n\u001b[0;32m---> 12\u001b[0;31m   \u001b[0mq\u001b[0m\u001b[0;34m[\u001b[0m\u001b[0mt\u001b[0m\u001b[0;34m+\u001b[0m\u001b[0;36m1\u001b[0m\u001b[0;34m]\u001b[0m\u001b[0;34m,\u001b[0m \u001b[0mK\u001b[0m\u001b[0;34m[\u001b[0m\u001b[0mt\u001b[0m\u001b[0;34m]\u001b[0m\u001b[0;34m,\u001b[0m \u001b[0mB\u001b[0m\u001b[0;34m[\u001b[0m\u001b[0mt\u001b[0m\u001b[0;34m]\u001b[0m \u001b[0;34m=\u001b[0m \u001b[0msolution\u001b[0m\u001b[0;34m\u001b[0m\u001b[0;34m\u001b[0m\u001b[0m\n\u001b[0m",
            "\u001b[0;31mIndexError\u001b[0m: index 100 is out of bounds for axis 0 with size 100"
          ]
        }
      ]
    },
    {
      "cell_type": "code",
      "metadata": {
        "id": "WFvwPv0apItx",
        "colab_type": "code",
        "outputId": "17274cf7-8d30-42e7-fa68-2ab055c06132",
        "colab": {
          "base_uri": "https://localhost:8080/",
          "height": 282
        }
      },
      "source": [
        "plt.plot(time, B, alpha=0.5)\n",
        "plt.plot(time, K, alpha=0.5)\n",
        "plt.plot(time, q, alpha=0.5)"
      ],
      "execution_count": 8,
      "outputs": [
        {
          "output_type": "execute_result",
          "data": {
            "text/plain": [
              "[<matplotlib.lines.Line2D at 0x7fc79094dcc0>]"
            ]
          },
          "metadata": {
            "tags": []
          },
          "execution_count": 8
        },
        {
          "output_type": "display_data",
          "data": {
            "image/png": "[encoded data removed]",
            "text/plain": [
              "<Figure size 432x288 with 1 Axes>"
            ]
          },
          "metadata": {
            "tags": []
          }
        }
      ]
    },
    {
      "cell_type": "code",
      "metadata": {
        "id": "X3vOExygqKwR",
        "colab_type": "code",
        "colab": {}
      },
      "source": [
        ""
      ],
      "execution_count": 0,
      "outputs": []
    }
  ]
}