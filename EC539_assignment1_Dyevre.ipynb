{
  "nbformat": 4,
  "nbformat_minor": 0,
  "metadata": {
    "colab": {
      "name": "Copy of EC539_assignment1_Dyevre.ipynb",
      "provenance": [],
      "collapsed_sections": [],
      "include_colab_link": true
    },
    "kernelspec": {
      "name": "python3",
      "display_name": "Python 3"
    }
  },
  "cells": [
    {
      "cell_type": "markdown",
      "metadata": {
        "id": "view-in-github",
        "colab_type": "text"
      },
      "source": [
        "<a href=\"https://colab.research.google.com/github/arnauddyevre/ec539_assignment1/blob/master/EC539_assignment1_Dyevre.ipynb\" target=\"_parent\"><img src=\"https://colab.research.google.com/assets/colab-badge.svg\" alt=\"Open In Colab\"/></a>"
      ]
    },
    {
      "cell_type": "markdown",
      "metadata": {
        "id": "2SnqTwDbrGso",
        "colab_type": "text"
      },
      "source": [
        "# EC539 - Assignment 1\n",
        "Reproduction of the numerical results in *N. Kiyotaki & J. Moore* \"Credit Cycles\" (1997) \n",
        "\n",
        "*Sunday, January 06*\n",
        "\n",
        "[![Open In Colab](https://colab.research.google.com/assets/colab-badge.svg)](https://colab.research.google.com/github/arnauddyevre/Python-for-Social-Scientists/blob/master/statistics_and_econometrics/time_series/time_series.ipynb)\n",
        "\n",
        "This Notebook presents the tools we need to analyse time series in Python.\n",
        "\n",
        "We first review some essential results about covariance stationarity and strict stationarity, MA, AR and ARMA processes. We then use the `statsmodels` library to decompose seasonal time series into trends and cyclical components, we show how to do time series forecasting and how to use common filters. Finally, we implement tests of unit roots in `statsmodels`.\n",
        "\n",
        "Some familiarity with time-series is required.\n",
        "\n",
        "### Content\n",
        "\n",
        "- [1. Setup](#1.-Setup)\n",
        "    - [1.1. Parameter values](#1.1.-Parameter-values)\n",
        "    - [1.2. Model equilibrium](#1.2.-Model-equilibrium)\n",
        "    - [1.3. Wold's decomposition theorem](#1.3.-Wold's-decomposition-theorem)\n",
        "    - [1.4. AR(p) processes](#1.4.-AR(p)-processes)\n",
        "    - [1.5. MA(p) processes](#1.5.-MA(q)-processes)\n",
        "    - [1.6. ARMA(p, q) processes](#1.6.-ARMA(p,-q)-processes)\n",
        "- [2. Time series in statsmodels](#2.-Time-series-in-statsmodels)\n",
        "    - [2.1. Seasonal decomposition](#2.1.-Seasonal-decomposition)\n",
        "    - [2.2. Time series forecasting](#2.2.-Time-series-forecasting)\n",
        "    - [2.3. Time series filters](#2.3.-Time-series-filters)\n",
        "    - [2.4. Tests of stationarity and unit roots](#2.4.-Tests-of-stationarity-and-unit-roots)"
      ]
    },
    {
      "cell_type": "markdown",
      "metadata": {
        "id": "EP1dTYh3rE8J",
        "colab_type": "text"
      },
      "source": [
        ""
      ]
    },
    {
      "cell_type": "markdown",
      "metadata": {
        "id": "8n9bFvdSNl8L",
        "colab_type": "text"
      },
      "source": [
        "### 1. Setup\n",
        "\n",
        "### 1.1. Assumptions\n",
        "\n",
        "#### 1.2. Parameter values\n",
        "\n",
        "$R = 1.01 \\\\\n",
        "\\lambda = 0.975\\\\\n",
        "u(K) = K - v\\\\\n",
        "\\eta = 0.10 \\\\\n",
        "a = 1\\\\\n",
        "\\pi = 0.1\\\\\n",
        "\\phi = 20\\\\\n",
        "\\Delta = 0.01\\\\\n",
        "c = 1$\n",
        "\n",
        "#### 1.3. Model equilibrium\n",
        "\n",
        "*(1) Land market equilibrium condition*\n",
        "$$q_{t+1}= R(q_{t} - u\\left(K_{t}\\right))$$\n",
        "\n",
        "*(2) Law of motion of the farmers' aggregate landholding*\n",
        "$$\\begin{equation}\n",
        "K_{t}=(1-\\pi) \\lambda K_{t-1} +\\frac{\\pi}{\\phi + q_t - \\frac{1}{R} q_{t+1}}\\left[\\left(a+q_{t}+\\lambda \\phi\\right) K_{t-1}-R B_{t-1}\\right]\n",
        "\\end{equation}$$\n",
        "\n",
        "*(3) Law of motion of the farmers' aggregate debt*\n",
        "$$B_{t}=R B_{t-1}+q_{t}\\left(K_{t}-K_{t-1}\\right)+\\phi\\left(K_{t}-\\lambda K_{t-1}\\right)-a K_{t-1}$$\n",
        "\n",
        "Where:\n",
        "\n",
        "- $ q_t = $ price of land \n",
        "- $K_t=$ landholding of farmers\n",
        "- $ B_t = $ aggregate debt of farmers\n",
        "- $R_t = R = $ constant rate of interest\n",
        "- $u(.) =$ downpayment required for the purchase of $K_t$ units or land (or opportunity cost of holding land)\n",
        "- $a = $ constant proportional to the share of tradeable fruit\n",
        "- $\\lambda =$ fraction of trees surviving after one period\n",
        "- $\\pi = $ probability that a new opportunity to plant tree arises\n",
        "- $\\phi = $ amount of trees created with one fruit  \n",
        "\n",
        "I simulate this non-linear model.\n",
        "\n",
        "#### 1.4. (No NEED!) Linearisation around the steady state\n",
        "\n",
        "Equations (1), (2) and (3) form a nonlinear system that I need to solve for $(K_{t}^{*}, B_{t}^*, q_{t}^*)$. I linearise the model around its steady state\n",
        "\n",
        "*Steady state*\n",
        "$$\\begin{align} \n",
        "\\frac{R-1}{R} q^{*}=u^{*} & =\\frac{\\pi a-(1-\\lambda)(1-R+\\pi R) \\phi}{\\lambda \\pi+(1-\\lambda)(1-R+\\pi R)} \\\\\n",
        "u^{*} & =\\frac{1}{R} G^{\\prime}\\left[\\frac{1}{m}\\left(\\bar{K}-K^{*}\\right)\\right] \\\\\n",
        "B^{*} & =\\frac{1}{R-1}(a-\\phi+\\lambda \\phi) K^{*}\n",
        "\\end{align}$$\n",
        "\n",
        "To find the steady state value of $K$, we instead use (1): $$K^* = \\frac{R - 1}{R} q^* + \\nu$$ \n",
        "\n",
        "\n",
        "In the text of the paper, $\\eta$ is defined as the elasticity of the residual supply of land to the farmers with respect to the user/opportunity cost in the steady state. We can thus calculate $v$ in the expression of $u(K) = K - v$ that we are assuming.\n",
        "\n",
        "$$ \\dfrac{1}{\\eta} = \\left . \\dfrac{\\mathrm{d} \\log(K - \\nu)}{\\mathrm{d} log(K)} \\right|_{K = K^*} = \\left.\\dfrac{\\mathrm{d} (K - \\nu)}{\\mathrm{d}K}\\right|_{K=K^*} \\dfrac{K^*}{K^*-\\nu} = \\dfrac{K^*}{K^*-\\nu} $$\n",
        "\n",
        "So $v = K^*(1 - \\eta)$ and $K^* = \\frac{R - 1}{R} \\dfrac{q^*}{\\eta}$\n",
        "\n",
        "#### 1.5. Impact of a small change in productivity\n",
        "\n",
        "\n"
      ]
    },
    {
      "cell_type": "code",
      "metadata": {
        "id": "wb-ME2HVe5b7",
        "colab_type": "code",
        "colab": {}
      },
      "source": [
        "#Necessary modules\n",
        "import numpy as np\n",
        "import matplotlib.pyplot as plt\n",
        "import pandas as pd\n",
        "import statsmodels as sm\n",
        "import scipy.optimize as opt\n",
        "#%matplotlib nbagg"
      ],
      "execution_count": 0,
      "outputs": []
    },
    {
      "cell_type": "code",
      "metadata": {
        "id": "NHIqX1T8gM_0",
        "colab_type": "code",
        "outputId": "f2811874-903a-44bd-b29c-f180bdd1e174",
        "colab": {
          "base_uri": "https://localhost:8080/",
          "height": 34
        }
      },
      "source": [
        "#Setting timeline\n",
        "periods = 100                                        \n",
        "time = np.linspace(0, 100, 100)\n",
        "\n",
        "#Vectors of variable of interest\n",
        "B = np.zeros(periods)\n",
        "q = np.zeros(periods)\n",
        "K = np.zeros(periods)\n",
        "\n",
        "#Parameter values\n",
        "R = 1.01\n",
        "λ = 0.975\n",
        "v = 1.0\n",
        "η = 0.10\n",
        "a = 1.0\n",
        "Δa = 0.01\n",
        "π = 0.1\n",
        "ϕ = 20.0\n",
        "Δ = 0.01\n",
        "c = 1.0\n",
        "\n",
        "#Finding the steady state values\n",
        "q_star = (R/(R-1))*(π*a - (1-λ)*(1 - R + π*R)*ϕ) / (λ*π + (1-λ)*(1 - R + π*R))\n",
        "K_star = ((R-1)/R)*(q_star/η)\n",
        "B_star = (1/(R-1))*(a - ϕ + λ*ϕ)*K_star\n",
        "q_star, K_star, B_star\n",
        "\n",
        "π"
      ],
      "execution_count": 35,
      "outputs": [
        {
          "output_type": "execute_result",
          "data": {
            "text/plain": [
              "0.1"
            ]
          },
          "metadata": {
            "tags": []
          },
          "execution_count": 35
        }
      ]
    },
    {
      "cell_type": "code",
      "metadata": {
        "id": "ZENObO4T0pb6",
        "colab_type": "code",
        "outputId": "df427b6e-3ce0-47dc-cfe7-199cde4fa599",
        "colab": {
          "base_uri": "https://localhost:8080/",
          "height": 187
        }
      },
      "source": [
        "#Calculating the values of q, B and K after the productivity shock (need to solve non-linear equations for each period)\n",
        "a_t = np.ones(periods)\n",
        "a_t[1] = a + Δa\n",
        "B[0], q[0], K[0] = B_star, q_star, K_star\n",
        "a_t"
      ],
      "execution_count": 36,
      "outputs": [
        {
          "output_type": "execute_result",
          "data": {
            "text/plain": [
              "array([1.  , 1.01, 1.  , 1.  , 1.  , 1.  , 1.  , 1.  , 1.  , 1.  , 1.  ,\n",
              "       1.  , 1.  , 1.  , 1.  , 1.  , 1.  , 1.  , 1.  , 1.  , 1.  , 1.  ,\n",
              "       1.  , 1.  , 1.  , 1.  , 1.  , 1.  , 1.  , 1.  , 1.  , 1.  , 1.  ,\n",
              "       1.  , 1.  , 1.  , 1.  , 1.  , 1.  , 1.  , 1.  , 1.  , 1.  , 1.  ,\n",
              "       1.  , 1.  , 1.  , 1.  , 1.  , 1.  , 1.  , 1.  , 1.  , 1.  , 1.  ,\n",
              "       1.  , 1.  , 1.  , 1.  , 1.  , 1.  , 1.  , 1.  , 1.  , 1.  , 1.  ,\n",
              "       1.  , 1.  , 1.  , 1.  , 1.  , 1.  , 1.  , 1.  , 1.  , 1.  , 1.  ,\n",
              "       1.  , 1.  , 1.  , 1.  , 1.  , 1.  , 1.  , 1.  , 1.  , 1.  , 1.  ,\n",
              "       1.  , 1.  , 1.  , 1.  , 1.  , 1.  , 1.  , 1.  , 1.  , 1.  , 1.  ,\n",
              "       1.  ])"
            ]
          },
          "metadata": {
            "tags": []
          },
          "execution_count": 36
        }
      ]
    },
    {
      "cell_type": "markdown",
      "metadata": {
        "id": "TWS8CUKGM_bq",
        "colab_type": "text"
      },
      "source": [
        "I need to use shooting method to solve for this nonlinear dynamic problem. For this, I need two boundary conditions.\n",
        "\n",
        "$$ (q_0, B_0, K_0) = (q^*, B^*, K^*) $$ and $$ (q_\\infty, B_\\infty, K_\\infty) = (q^g, B^g, K^g) $$ where $(q^g, B^g, K^g)$ are guesses for the final values of our variables of interest.\n",
        "\n",
        "And my three dynamic equations.\n",
        "\n",
        "Use reverse shooting here."
      ]
    },
    {
      "cell_type": "code",
      "metadata": {
        "id": "BQzXDcaOCipX",
        "colab_type": "code",
        "colab": {}
      },
      "source": [
        "#t = 1\n",
        "\n",
        "#def f(variables):\n",
        "#  (q_tplus1, K_t, B_t) = variables\n",
        "#  first_eq = q_tplus1 - R*(q[t] - K[t-1] - v)\n",
        "#  sec_eq = K_t - (1 - π)*λ*K[t-1] - ((π)/(ϕ + q[t] - (1/R)*q_tplus1))*( (a_t[t] + q[t] + λ*ϕ)*K[t-1] - R*B[t-1])\n",
        "#  third_eq = B_t - R*B[t] - q[t]*(K[t]-K[t-1]) - ϕ*(K[t]-λ*K[t-1]) + a_t[t]*K[t-1]\n",
        "#  return [first_eq, sec_eq, third_eq]\n",
        "          \n",
        "#solution = opt.fsolve(f, (0, 0, 0))\n",
        "#print(solution)"
      ],
      "execution_count": 0,
      "outputs": []
    },
    {
      "cell_type": "code",
      "metadata": {
        "id": "qRgZpPE_ctmE",
        "colab_type": "code",
        "colab": {
          "base_uri": "https://localhost:8080/",
          "height": 1000
        },
        "outputId": "a5e60491-8593-47cd-a7a5-c4e6013e2cda"
      },
      "source": [
        "q[0] = q_star\n",
        "\n",
        "for t in range(1, periods-1):\n",
        "  def f(variables):\n",
        "    (q_tplus1, K_t, B_t) = variables\n",
        "    \n",
        "    first_eq = q_tplus1 - R*(q[t] - K_t - v)\n",
        "    sec_eq = K_t - (1 - π)*λ*K[t-1] - ((π)/(ϕ + q[t] - (1/R)*q_tplus1))*( (a_t[t] + q[t] + λ*ϕ)*K[t-1] - R*B[t-1])\n",
        "    third_eq = B_t - R*B[t-1] - q[t]*(K[t]-K[t-1]) - ϕ*(K[t]-λ*K[t-1]) + a_t[t]*K[t-1]\n",
        "    return [first_eq, sec_eq, third_eq]\n",
        "\n",
        "  solution = opt.fsolve(f, (0, 0, 0))\n",
        "  print(solution)\n",
        "\n",
        "  q[t+1], K[t], B[t] = solution"
      ],
      "execution_count": 38,
      "outputs": [
        {
          "output_type": "stream",
          "text": [
            "[ -5.19300952   4.14159359 163.81408168]\n",
            "[ -9.49981481   3.21274772 102.05688892]\n",
            "[-13.16145512   2.53132887  67.73663793]\n",
            "[-16.32771425   2.0045986   49.8377338 ]\n",
            "[-19.08981789   1.57309554  41.97235298]\n",
            "[-21.50213422   1.19942391  40.17372533]\n",
            "[-23.5971625    0.861393    41.77744633]\n",
            "[-25.39627922   0.54766842  44.86309489]\n",
            "[-26.91756897   0.25477917  47.99326333]\n",
            "[-2.81813775e+01 -1.52150421e-02  5.01082588e+01]\n",
            "[-29.21385577  -0.25676779  50.49246894]\n",
            "[-30.04863137  -0.4627356   48.75995613]\n",
            "[-30.72677474  -0.62608212  44.829064  ]\n",
            "[-31.2953522   -0.74127751  38.8745538 ]\n",
            "[-31.80498448  -0.80526856  31.26094751]\n",
            "[-32.30689491  -0.81795981  22.47000843]\n",
            "[-32.84989806  -0.78224336  13.03714295]\n",
            "[-33.47766306  -0.70369701   3.50688856]\n",
            "[-34.22643509  -0.59010357  -5.59038528]\n",
            "[-35.12326936  -0.45092088 -13.74630744]\n",
            "[-36.18476196  -0.29677237 -20.47770793]\n",
            "[-37.41625969  -0.13896029 -25.33728892]\n",
            "[-3.88115792e+01  1.10464409e-02 -2.79413502e+01]\n",
            "[-40.35333428   0.14221713 -28.0184859 ]\n",
            "[-42.01402333   0.24470862 -25.47518655]\n",
            "[-43.75803558   0.31076437 -20.46527144]\n",
            "[-45.54467178   0.33569885 -13.44215539]\n",
            "[-47.33212915   0.31882244  -5.16910939]\n",
            "[-49.08217954   0.26408821   3.33388427]\n",
            "[-50.7650047    0.18020135  10.91543986]\n",
            "[-52.36341011   0.0799558   16.4783891 ]\n",
            "[-5.38755145e+01 -2.13165837e-02  1.91908374e+01]\n",
            "[-55.31511267  -0.10807617  18.67129381]\n",
            "[-56.70929425  -0.16729658  15.09532268]\n",
            "[-58.09351815  -0.19095944   9.18858483]\n",
            "[-59.50501666  -0.17766008   2.10163332]\n",
            "[-60.97587764  -0.13286057  -4.80698469]\n",
            "[-62.52725902  -0.0677004  -10.23270284]\n",
            "[-6.41659113e+01  3.34619509e-03 -1.31802921e+01]\n",
            "[-6.58836614e+01  6.54366777e-02 -1.31659804e+01]\n",
            "[-67.65991484   0.10635327 -10.32788418]\n",
            "[-69.46667173   0.11896806  -5.4155519 ]\n",
            "[-71.27507415   0.10270861   0.35576274]\n",
            "[-7.30621240e+01  6.36624752e-02  5.57435785e+00]\n",
            "[-7.48160228e+01  1.31461047e-02  8.97633634e+00]\n",
            "[-7.65387175e+01 -3.51144109e-02  9.78014382e+00]\n",
            "[-7.82448147e+01 -6.86038707e-02  7.91017871e+00]\n",
            "[-7.99570158e+01 -7.94525605e-02  4.02776269e+00]\n",
            "[-8.16993341e+01 -6.65860105e-02 -6.55971826e-01]\n",
            "[-8.34901382e+01 -3.58308993e-02 -4.73755105e+00]\n",
            "[-8.53371485e+01  2.08800374e-03 -7.04191986e+00]\n",
            "[-8.72358705e+01  3.50005554e-02 -6.97695885e+00]\n",
            "[-8.91718496e+01  5.30894463e-02 -4.71093590e+00]\n",
            "[-9.11259563e+01  5.18695806e-02 -1.11229480e+00]\n",
            "[-9.30809902e+01  3.34399241e-02  2.53992099e+00]\n",
            "[-9.50274323e+01  5.57640169e-03  4.99242301e+00]\n",
            "[-9.69663723e+01 -2.11230770e-02  5.45794214e+00]\n",
            "[-9.89085377e+01 -3.71270189e-02  3.89731649e+00]\n",
            "[-1.00869779e+02 -3.74696587e-02  1.02521438e+00]\n",
            "[-1.02864782e+02 -2.34597611e-02 -1.97596165e+00]\n",
            "[-1.04901532e+02 -1.87960232e-03 -3.92797938e+00]\n",
            "[-1.06978708e+02  1.79809859e-02 -4.12590049e+00]\n",
            "[-1.09086977e+02  2.82006194e-02 -2.61218707e+00]\n",
            "[-1.11213514e+02  2.54123863e-02 -1.40101301e-01]\n",
            "[-1.13347771e+02  1.20017088e-02  2.16374454e+00]\n",
            "[-1.15486011e+02 -5.18530460e-03  3.29971388e+00]\n",
            "[-1.17632604e+02 -1.80864279e-02  2.84017962e+00]\n",
            "[-1.19797548e+02 -2.11704668e-02  1.11179958e+00]\n",
            "[-1.21991473e+02 -1.39108609e-02 -9.79257871e-01]\n",
            "[-1.24220607e+02 -7.73577294e-04 -2.40088422e+00]\n",
            "[-1.26484169e+02  1.12439877e-02 -2.50512897e+00]\n",
            "[-1.28775409e+02  1.62354637e-02 -1.33849556e+00]\n",
            "[-1.31085600e+02  1.23143194e-02  4.06020951e-01]\n",
            "[-1.33408849e+02  2.36930253e-03  1.77186756e+00]\n",
            "[-1.35745140e+02 -7.72026082e-03  2.05710146e+00]\n",
            "[-1.38100033e+02 -1.24347849e-02  1.18794994e+00]\n",
            "[-1.40481275e+02 -9.66094047e-03 -2.62501680e-01]\n",
            "[-1.42894376e+02 -1.69474381e-03 -1.42425866e+00]\n",
            "[-1.45339732e+02  6.34824776e-03 -1.64592835e+00]\n",
            "[-1.47812937e+02  9.71093037e-03 -8.69874089e-01]\n",
            "[-1.50307953e+02  6.81830273e-03  3.57754240e-01]\n",
            "[-1.52821081e+02  4.78279537e-05  1.24640170e+00]\n",
            "[-1.55353247e+02 -5.98448344e-03  1.26519437e+00]\n",
            "[-1.57909211e+02 -7.49418119e-03  4.70819284e-01]\n",
            "[-1.60494327e+02 -3.93640134e-03 -5.54242046e-01]\n",
            "[-1.63111124e+02  1.83514714e-03 -1.11085832e+00]\n",
            "[-1.65757998e+02  5.70567897e-03 -8.60254511e-01]\n",
            "[-1.68430827e+02  5.19745539e-03 -4.00615523e-02]\n",
            "[-1.71126239e+02  1.09236796e-03  7.28401708e-01]\n",
            "[-1.73844139e+02 -3.32891249e-03  9.00225002e-01]\n",
            "[-1.76587712e+02 -4.82040445e-03  3.98758033e-01]\n",
            "[-1.79360999e+02 -2.56465254e-03 -3.49660288e-01]\n",
            "[-1.82165993e+02  1.37109120e-03 -7.60580155e-01]\n",
            "[-1.85001497e+02  3.80517121e-03 -5.46527135e-01]\n",
            "[-1.87864528e+02  2.98687853e-03  7.39639524e-02]\n",
            "[-1.90753057e+02 -1.15224855e-04  5.74601108e-01]\n",
            "[-1.93667788e+02 -2.77160386e-03  5.60729735e-01]\n",
            "[-1.96611594e+02 -2.84349296e-03  8.63845212e-02]\n"
          ],
          "name": "stdout"
        }
      ]
    },
    {
      "cell_type": "code",
      "metadata": {
        "id": "2Us0c2nagIp_",
        "colab_type": "code",
        "colab": {
          "base_uri": "https://localhost:8080/",
          "height": 608
        },
        "outputId": "f772d387-857b-44ad-9d78-e69a4901c5b9"
      },
      "source": [
        "B_graph = B/B_star\n",
        "K_graph = K/K_star\n",
        "q_graph = q/q_star\n",
        "\n",
        "plt.figure(1, figsize=(15,10))\n",
        "plt.plot(time, B_graph, alpha=0.8, label='$B_t/B^*$')\n",
        "plt.plot(time, K_graph, alpha=0.8, label='$K_t/K^*$')\n",
        "plt.plot(time, q_graph, alpha=0.8, label='$q_t/q^*$')\n",
        "plt.xlabel(\"$\\mathrm{t}$\")\n",
        "plt.legend()\n",
        "plt.grid()\n"
      ],
      "execution_count": 39,
      "outputs": [
        {
          "output_type": "display_data",
          "data": {
            "image/png": "[encoded data removed]",
            "text/plain": [
              "<Figure size 1080x720 with 1 Axes>"
            ]
          },
          "metadata": {
            "tags": []
          }
        }
      ]
    },
    {
      "cell_type": "code",
      "metadata": {
        "id": "kKWqmsTjg5mr",
        "colab_type": "code",
        "outputId": "9ae9f6f6-b0d1-4b21-e156-0bda0bd4176e",
        "colab": {
          "base_uri": "https://localhost:8080/",
          "height": 1000
        }
      },
      "source": [
        "for t in range(1, periods):\n",
        "  def f(variables):\n",
        "    (q_tplus1, K_t, B_t) = variables\n",
        "    first_eq = q_tplus1 - R*(q[t] - K_t - v)\n",
        "    sec_eq = K_t - (1 - π)*λ*K[t-1] - ((π)/(ϕ + q[t] - (1/R)*q_tplus1))*( (a_t[t] + q[t] + λ*ϕ)*K[t-1] - R*B[t-1])\n",
        "    third_eq = B_t - R*B[t] - q[t]*(K[t]-K[t-1]) - ϕ*(K[t]-λ*K[t-1]) + a_t[t]*K[t-1]\n",
        "    return [first_eq, sec_eq, third_eq]\n",
        "\n",
        "  solution = opt.fsolve(f, (0, 0, 0))\n",
        "  print(solution)\n",
        "\n",
        "  q[t+1], K[t], B[t] = solution"
      ],
      "execution_count": 9,
      "outputs": [
        {
          "output_type": "stream",
          "text": [
            "[ -10.31995686    4.02499482 -160.75436159]\n",
            "[-15.81104076   4.33453894 -84.81074906]\n",
            "[-21.24511949   4.22373102 -96.01762341]\n",
            "[-26.58881775   4.08044263 -68.36601025]\n",
            "[-31.6614242    3.75912701 579.39897248]\n",
            "[-3.33546098e+01  3.62941973e-01  1.02134241e+03]\n",
            "[ -27.44745571   -7.17891111 1224.96376839]\n",
            "[ -18.54901053  -13.59898041 1236.4944307 ]\n",
            "[  -9.95631938  -16.38456347 1301.66715908]\n",
            "[  -2.18685799  -17.58773428 1425.17599779]\n",
            "[   4.59747814  -18.12210345 1551.33292188]\n",
            "[  10.47103668  -18.32114458 1673.01823688]\n",
            "[  15.58760502  -18.42667673 1766.19334504]\n",
            "[  20.1698967   -18.50309069 1856.33788624]\n",
            "[  24.19590905  -18.49352316 1934.65546369]\n",
            "[  27.76398734  -18.47148838 2008.02286428]\n",
            "[  30.94872433  -18.42445898 2051.83983084]\n",
            "[  33.94400723  -18.44638122 2109.70568129]\n",
            "[  36.59774053  -18.50542441 2161.27958726]\n",
            "[  38.97575169  -18.46550648 2226.16574329]\n",
            "[  41.10902738  -18.43948424 2256.12832064]\n",
            "[  43.05705195  -18.41679137 2295.62611453]\n",
            "[  44.84966943  -18.44115872 2320.86845994]\n",
            "[  46.49288211  -18.44589105 2334.34866592]\n",
            "[  48.0379272   -18.52344335 2394.26450565]\n",
            "[  49.33908264  -18.4938784  2417.74293075]\n",
            "[  50.57172354  -18.62860437 2427.57286443]\n",
            "[  51.63935317  -18.4583415  2441.76425323]\n",
            "[  52.65347776  -18.38906127 2459.34967153]\n",
            "[  53.66721637  -18.43086809 2462.35350787]\n",
            "[  54.2475077   -18.13046785 2504.16807396]\n",
            "[  54.98843189  -18.1662518  2492.75201041]\n",
            "[  55.80709118  -18.26943542 2495.91451181]\n",
            "[  56.58326996  -18.33228612 2515.47154102]\n",
            "[  57.190011    -18.35154972 2530.18719482]\n",
            "[  57.69383671  -18.26227585 2539.22130864]\n",
            "[  58.24535218  -18.31490175 2540.46750525]\n",
            "[  58.81762104  -18.36602358 2555.84401695]\n",
            "[  59.33954941  -18.40465691 2584.39384481]\n",
            "[  59.75542636  -18.56066602 2559.73762552]\n",
            "[  60.15401535  -18.4698373  2572.08798291]\n",
            "[  60.50405056  -18.24604788 2577.53727227]\n",
            "[  60.87685438  -18.3060118  2560.85199649]\n",
            "[  61.39098098  -18.62772542 2589.78431795]\n",
            "[  61.62511614  -18.37615366 2615.17471818]\n",
            "[  61.91832052  -18.39012925 2603.62712468]\n",
            "[  62.18036344  -18.46433014 2608.21833796]\n",
            "[  62.44946946  -18.47190166 2605.15672319]\n",
            "[  62.65418682  -18.40208052 2616.21767056]\n",
            "[  62.87444396  -18.42786312 2603.64050546]\n",
            "[  63.08385607  -18.33864158 2616.3482993 ]\n",
            "[  63.27294745  -18.31458479 2606.5863286 ]\n",
            "[  63.49491195  -18.36726723 2593.29142858]\n",
            "[  63.67596373  -18.3316337  2623.00098469]\n",
            "[  63.81249334  -18.30306654 2606.96760176]\n",
            "[  64.03798533  -18.37616414 2597.82934938]\n",
            "[  64.05265577  -18.00010879 2616.00575903]\n",
            "[  64.24605937  -18.1587396  2583.62397324]\n",
            "[  64.51433879  -18.29991788 2584.40569677]\n",
            "[  64.76437976  -18.30808016 2600.71616964]\n",
            "[  65.02600437  -18.44108722 2610.15990165]\n",
            "[  65.12490191  -18.38699844 2607.97626292]\n",
            "[  65.24480895  -18.3607999  2618.17642985]\n",
            "[  65.3456789   -18.36557347 2598.87821505]\n",
            "[  65.51248647  -18.4049478  2603.62199727]\n",
            "[  65.69325346  -18.48322666 2619.09452777]\n",
            "[  65.74741062  -18.43539709 2610.44318203]\n",
            "[  65.85429803  -18.41572445 2612.53880344]\n",
            "[  65.90762088  -18.33662084 2610.97320633]\n",
            "[  65.99061709  -18.27205562 2615.24953607]\n",
            "[  66.09722994  -18.34107448 2599.72634781]\n",
            "[  66.27519514  -18.45870956 2607.8230385 ]\n",
            "[  66.34274631  -18.41694315 2620.97899164]\n",
            "[  66.36355223  -18.37235308 2605.19250476]\n",
            "[  66.387675    -18.31675303 2613.61699523]\n",
            "[  66.48700938  -18.31442495 2614.38333994]\n",
            "[  66.55300271  -18.35202744 2609.03843096]\n",
            "[  66.7006655   -18.42598935 2600.45264692]\n",
            "[  66.78987784  -18.39678384 2618.3183093 ]\n",
            "[  66.82877217  -18.37993664 2611.77747918]\n",
            "[  66.90316862  -18.42101276 2608.65777188]\n",
            "[  66.94147872  -18.37884071 2609.73557124]\n",
            "[  67.21067479  -18.56414339 2611.41095605]\n",
            "[  67.24151276  -18.51492285 2617.03102519]\n",
            "[  67.24474421  -18.45298908 2621.83742392]\n",
            "[  67.2511637   -18.41365136 2616.46444677]\n",
            "[  67.27670238  -18.30831058 2611.65655595]\n",
            "[  67.32872192  -18.33940981 2601.36677974]\n",
            "[  67.35624653  -18.3034079  2603.99899515]\n",
            "[  67.38566154  -18.26693644 2607.38150089]\n",
            "[  67.52218189  -18.43821188 2593.07107425]\n",
            "[  67.8186552   -18.60802887 2611.99750792]\n",
            "[  67.80086286  -18.55450126 2623.15767534]\n",
            "[  67.7338522   -18.41871692 2626.07211644]\n",
            "[  67.71755082  -18.36693203 2620.38869799]\n",
            "[  67.71959948  -18.34726871 2607.20861208]\n",
            "[  67.76455241  -18.36602942 2602.0227667 ]\n",
            "[  67.81790319  -18.38786015 2615.40126722]\n",
            "[  67.83820852  -18.38893222 2454.40535661]\n"
          ],
          "name": "stdout"
        },
        {
          "output_type": "stream",
          "text": [
            "/usr/local/lib/python3.6/dist-packages/scipy/optimize/minpack.py:162: RuntimeWarning: The iteration is not making good progress, as measured by the \n",
            "  improvement from the last five Jacobian evaluations.\n",
            "  warnings.warn(msg, RuntimeWarning)\n",
            "/usr/local/lib/python3.6/dist-packages/scipy/optimize/minpack.py:162: RuntimeWarning: The iteration is not making good progress, as measured by the \n",
            "  improvement from the last ten iterations.\n",
            "  warnings.warn(msg, RuntimeWarning)\n"
          ],
          "name": "stderr"
        },
        {
          "output_type": "error",
          "ename": "IndexError",
          "evalue": "ignored",
          "traceback": [
            "\u001b[0;31m---------------------------------------------------------------------------\u001b[0m",
            "\u001b[0;31mIndexError\u001b[0m                                Traceback (most recent call last)",
            "\u001b[0;32m<ipython-input-9-c0a091b8652a>\u001b[0m in \u001b[0;36m<module>\u001b[0;34m()\u001b[0m\n\u001b[1;32m     10\u001b[0m   \u001b[0mprint\u001b[0m\u001b[0;34m(\u001b[0m\u001b[0msolution\u001b[0m\u001b[0;34m)\u001b[0m\u001b[0;34m\u001b[0m\u001b[0;34m\u001b[0m\u001b[0m\n\u001b[1;32m     11\u001b[0m \u001b[0;34m\u001b[0m\u001b[0m\n\u001b[0;32m---> 12\u001b[0;31m   \u001b[0mq\u001b[0m\u001b[0;34m[\u001b[0m\u001b[0mt\u001b[0m\u001b[0;34m+\u001b[0m\u001b[0;36m1\u001b[0m\u001b[0;34m]\u001b[0m\u001b[0;34m,\u001b[0m \u001b[0mK\u001b[0m\u001b[0;34m[\u001b[0m\u001b[0mt\u001b[0m\u001b[0;34m]\u001b[0m\u001b[0;34m,\u001b[0m \u001b[0mB\u001b[0m\u001b[0;34m[\u001b[0m\u001b[0mt\u001b[0m\u001b[0;34m]\u001b[0m \u001b[0;34m=\u001b[0m \u001b[0msolution\u001b[0m\u001b[0;34m\u001b[0m\u001b[0;34m\u001b[0m\u001b[0m\n\u001b[0m",
            "\u001b[0;31mIndexError\u001b[0m: index 100 is out of bounds for axis 0 with size 100"
          ]
        }
      ]
    },
    {
      "cell_type": "code",
      "metadata": {
        "id": "WFvwPv0apItx",
        "colab_type": "code",
        "outputId": "17274cf7-8d30-42e7-fa68-2ab055c06132",
        "colab": {
          "base_uri": "https://localhost:8080/",
          "height": 282
        }
      },
      "source": [
        "plt.plot(time, B, alpha=0.5)\n",
        "plt.plot(time, K, alpha=0.5)\n",
        "plt.plot(time, q, alpha=0.5)"
      ],
      "execution_count": 8,
      "outputs": [
        {
          "output_type": "execute_result",
          "data": {
            "text/plain": [
              "[<matplotlib.lines.Line2D at 0x7fc79094dcc0>]"
            ]
          },
          "metadata": {
            "tags": []
          },
          "execution_count": 8
        },
        {
          "output_type": "display_data",
          "data": {
            "image/png": "[encoded data removed]",
            "text/plain": [
              "<Figure size 432x288 with 1 Axes>"
            ]
          },
          "metadata": {
            "tags": []
          }
        }
      ]
    },
    {
      "cell_type": "code",
      "metadata": {
        "id": "X3vOExygqKwR",
        "colab_type": "code",
        "colab": {}
      },
      "source": [
        ""
      ],
      "execution_count": 0,
      "outputs": []
    }
  ]
}