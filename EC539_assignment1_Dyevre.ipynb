{
  "nbformat": 4,
  "nbformat_minor": 0,
  "metadata": {
    "colab": {
      "name": "Copy of EC539_assignment1_Dyevre.ipynb",
      "provenance": [],
      "collapsed_sections": [],
      "include_colab_link": true
    },
    "kernelspec": {
      "name": "python3",
      "display_name": "Python 3"
    }
  },
  "cells": [
    {
      "cell_type": "markdown",
      "metadata": {
        "id": "view-in-github",
        "colab_type": "text"
      },
      "source": [
        "<a href=\"https://colab.research.google.com/github/arnauddyevre/ec539_assignment1/blob/master/EC539_assignment1_Dyevre.ipynb\" target=\"_parent\"><img src=\"https://colab.research.google.com/assets/colab-badge.svg\" alt=\"Open In Colab\"/></a>"
      ]
    },
    {
      "cell_type": "markdown",
      "metadata": {
        "id": "2SnqTwDbrGso",
        "colab_type": "text"
      },
      "source": [
        "# EC539 - Assignment 1\n",
        "Reproduction of the numerical results in *N. Kiyotaki & J. Moore* \"Credit Cycles\" (1997) \n",
        "\n",
        "*Sunday, January 06*\n",
        "\n",
        "[![Open In Colab](https://colab.research.google.com/assets/colab-badge.svg)](https://colab.research.google.com/github/arnauddyevre/Python-for-Social-Scientists/blob/master/statistics_and_econometrics/time_series/time_series.ipynb)\n",
        "\n",
        "This Notebook presents the tools we need to analyse time series in Python.\n",
        "\n",
        "We first review some essential results about covariance stationarity and strict stationarity, MA, AR and ARMA processes. We then use the `statsmodels` library to decompose seasonal time series into trends and cyclical components, we show how to do time series forecasting and how to use common filters. Finally, we implement tests of unit roots in `statsmodels`.\n",
        "\n",
        "Some familiarity with time-series is required.\n",
        "\n",
        "### Content\n",
        "\n",
        "- [1. Setup](#1.-Setup)\n",
        "    - [1.1. Parameter values](#1.1.-Parameter-values)\n",
        "    - [1.2. Model equilibrium](#1.2.-Model-equilibrium)\n",
        "    - [1.3. Wold's decomposition theorem](#1.3.-Wold's-decomposition-theorem)\n",
        "    - [1.4. AR(p) processes](#1.4.-AR(p)-processes)\n",
        "    - [1.5. MA(p) processes](#1.5.-MA(q)-processes)\n",
        "    - [1.6. ARMA(p, q) processes](#1.6.-ARMA(p,-q)-processes)\n",
        "- [2. Time series in statsmodels](#2.-Time-series-in-statsmodels)\n",
        "    - [2.1. Seasonal decomposition](#2.1.-Seasonal-decomposition)\n",
        "    - [2.2. Time series forecasting](#2.2.-Time-series-forecasting)\n",
        "    - [2.3. Time series filters](#2.3.-Time-series-filters)\n",
        "    - [2.4. Tests of stationarity and unit roots](#2.4.-Tests-of-stationarity-and-unit-roots)"
      ]
    },
    {
      "cell_type": "markdown",
      "metadata": {
        "id": "EP1dTYh3rE8J",
        "colab_type": "text"
      },
      "source": [
        ""
      ]
    },
    {
      "cell_type": "markdown",
      "metadata": {
        "id": "8n9bFvdSNl8L",
        "colab_type": "text"
      },
      "source": [
        "### 1. Setup\n",
        "\n",
        "### 1.1. Assumptions\n",
        "\n",
        "#### 1.2. Parameter values\n",
        "\n",
        "$R = 1.01 \\\\\n",
        "\\lambda = 0.975\\\\\n",
        "u(K) = K - v\\\\\n",
        "\\eta = 0.10 \\\\\n",
        "a = 1\\\\\n",
        "\\pi = 0.1\\\\\n",
        "\\phi = 20\\\\\n",
        "\\Delta = 0.01\\\\\n",
        "c = 1$\n",
        "\n",
        "#### 1.3. Model equilibrium\n",
        "\n",
        "*(1) Land market equilibrium condition*\n",
        "$$q_{t+1}= R(q_{t} - u\\left(K_{t}\\right))$$\n",
        "\n",
        "*(2) Law of motion of the farmers' aggregate landholding*\n",
        "$$\\begin{equation}\n",
        "K_{t}=(1-\\pi) \\lambda K_{t-1} +\\frac{\\pi}{\\phi + q_t - \\frac{1}{R} q_{t+1}}\\left[\\left(a+q_{t}+\\lambda \\phi\\right) K_{t-1}-R B_{t-1}\\right]\n",
        "\\end{equation}$$\n",
        "\n",
        "*(3) Law of motion of the farmers' aggregate debt*\n",
        "$$B_{t}=R B_{t-1}+q_{t}\\left(K_{t}-K_{t-1}\\right)+\\phi\\left(K_{t}-\\lambda K_{t-1}\\right)-a K_{t-1}$$\n",
        "\n",
        "Where:\n",
        "\n",
        "- $ q_t = $ price of land \n",
        "- $K_t=$ landholding of farmers\n",
        "- $ B_t = $ aggregate debt of farmers\n",
        "- $R_t = R = $ constant rate of interest\n",
        "- $u(.) =$ downpayment required for the purchase of $K_t$ units or land (or opportunity cost of holding land)\n",
        "- $a = $ constant proportional to the share of tradeable fruit\n",
        "- $\\lambda =$ fraction of trees surviving after one period\n",
        "- $\\pi = $ probability that a new opportunity to plant tree arises\n",
        "- $\\phi = $ amount of trees created with one fruit  \n",
        "\n",
        "I simulate this non-linear model.\n",
        "\n",
        "#### 1.4. (No NEED!) Linearisation around the steady state\n",
        "\n",
        "Equations (1), (2) and (3) form a nonlinear system that I need to solve for $(K_{t}^{*}, B_{t}^*, q_{t}^*)$. I linearise the model around its steady state\n",
        "\n",
        "*Steady state*\n",
        "$$\\begin{align} \n",
        "\\frac{R-1}{R} q^{*}=u^{*} & =\\frac{\\pi a-(1-\\lambda)(1-R+\\pi R) \\phi}{\\lambda \\pi+(1-\\lambda)(1-R+\\pi R)} \\\\\n",
        "u^{*} & =\\frac{1}{R} G^{\\prime}\\left[\\frac{1}{m}\\left(\\bar{K}-K^{*}\\right)\\right] \\\\\n",
        "B^{*} & =\\frac{1}{R-1}(a-\\phi+\\lambda \\phi) K^{*}\n",
        "\\end{align}$$\n",
        "\n",
        "To find the steady state value of $K$, we instead use (1): $$K^* = \\frac{R - 1}{R} q^* + \\nu$$ \n",
        "\n",
        "\n",
        "In the text of the paper, $\\eta$ is defined as the elasticity of the residual supply of land to the farmers with respect to the user/opportunity cost in the steady state. We can thus calculate $v$ in the expression of $u(K) = K - v$ that we are assuming.\n",
        "\n",
        "$$ \\dfrac{1}{\\eta} = \\left . \\dfrac{\\mathrm{d} \\log(K - \\nu)}{\\mathrm{d} log(K)} \\right|_{K = K^*} = \\left.\\dfrac{\\mathrm{d} (K - \\nu)}{\\mathrm{d}K}\\right|_{K=K^*} \\dfrac{K^*}{K^*-\\nu} = \\dfrac{K^*}{K^*-\\nu} $$\n",
        "\n",
        "So $v = K^*(1 - \\eta)$ and $K^* = \\frac{R - 1}{R} \\dfrac{q^*}{\\eta}$\n",
        "\n",
        "#### 1.5. Impact of a small change in productivity\n",
        "\n",
        "\n"
      ]
    },
    {
      "cell_type": "code",
      "metadata": {
        "id": "wb-ME2HVe5b7",
        "colab_type": "code",
        "colab": {}
      },
      "source": [
        "#Necessary modules\n",
        "import numpy as np\n",
        "import matplotlib.pyplot as plt\n",
        "import pandas as pd\n",
        "import statsmodels as sm\n",
        "import scipy.optimize as opt\n",
        "#%matplotlib nbagg"
      ],
      "execution_count": 0,
      "outputs": []
    },
    {
      "cell_type": "code",
      "metadata": {
        "id": "NHIqX1T8gM_0",
        "colab_type": "code",
        "outputId": "faf0309d-21c0-4b0c-c2a9-14d9e04ff05d",
        "colab": {
          "base_uri": "https://localhost:8080/",
          "height": 34
        }
      },
      "source": [
        "#Setting timeline\n",
        "periods = 100                                        \n",
        "time = np.linspace(0, 100, 100)\n",
        "\n",
        "#Vectors of variable of interest\n",
        "B = np.zeros(periods)\n",
        "q = np.zeros(periods)\n",
        "K = np.zeros(periods)\n",
        "\n",
        "#Parameter values\n",
        "R = 1.01\n",
        "λ = 0.975\n",
        "v = 1.0\n",
        "η = 0.10\n",
        "a = 1.0\n",
        "Δa = 0.01\n",
        "π = 0.1\n",
        "ϕ = 20.0\n",
        "Δ = 0.01\n",
        "c = 1.0\n",
        "\n",
        "#Finding the steady state values\n",
        "q_star = (R/(R-1))*(π*a - (1-λ)*(1 - R + π*R)*ϕ) / (λ*π + (1-λ)*(1 - R + π*R))\n",
        "K_star = ((R-1)/R)*(q_star/η)\n",
        "B_star = (1/(R-1))*(a - ϕ + λ*ϕ)*K_star\n",
        "q_star, K_star, B_star"
      ],
      "execution_count": 4,
      "outputs": [
        {
          "output_type": "execute_result",
          "data": {
            "text/plain": [
              "(55.1691305437233, 5.462290152843895, 273.11450764219455)"
            ]
          },
          "metadata": {
            "tags": []
          },
          "execution_count": 4
        }
      ]
    },
    {
      "cell_type": "code",
      "metadata": {
        "id": "ZENObO4T0pb6",
        "colab_type": "code",
        "outputId": "cd1760b0-aeb7-4a2a-8e38-e18e74413ca5",
        "colab": {
          "base_uri": "https://localhost:8080/",
          "height": 34
        }
      },
      "source": [
        "#Calculating the values of q, B and K after the productivity shock (need to solve non-linear equations for each period)\n",
        "a_t = np.ones(periods)\n",
        "a_t[0] = a + Δa\n",
        "B[0], q[0], K[0] = B_star, q_star, K_star\n",
        "B[0]"
      ],
      "execution_count": 0,
      "outputs": [
        {
          "output_type": "execute_result",
          "data": {
            "text/plain": [
              "273.11450764219455"
            ]
          },
          "metadata": {
            "tags": []
          },
          "execution_count": 12
        }
      ]
    },
    {
      "cell_type": "code",
      "metadata": {
        "id": "BQzXDcaOCipX",
        "colab_type": "code",
        "colab": {}
      },
      "source": [
        "#t = 1\n",
        "\n",
        "#def f(variables):\n",
        "#  (q_tplus1, K_t, B_t) = variables\n",
        "#  first_eq = q_tplus1 - R*(q[t] - K[t-1] - v)\n",
        "#  sec_eq = K_t - (1 - π)*λ*K[t-1] - ((π)/(ϕ + q[t] - (1/R)*q_tplus1))*( (a_t[t] + q[t] + λ*ϕ)*K[t-1] - R*B[t-1])\n",
        "#  third_eq = B_t - R*B[t] - q[t]*(K[t]-K[t-1]) - ϕ*(K[t]-λ*K[t-1]) + a_t[t]*K[t-1]\n",
        "#  return [first_eq, sec_eq, third_eq]\n",
        "          \n",
        "#solution = opt.fsolve(f, (0, 0, 0))\n",
        "#print(solution)"
      ],
      "execution_count": 0,
      "outputs": []
    },
    {
      "cell_type": "code",
      "metadata": {
        "id": "kKWqmsTjg5mr",
        "colab_type": "code",
        "outputId": "0fd60a2f-e7f6-4650-bb20-abac800405e4",
        "colab": {
          "base_uri": "https://localhost:8080/",
          "height": 1000
        }
      },
      "source": [
        "for t in range(1, periods):\n",
        "  def f(variables):\n",
        "    (q_tplus1, K_t, B_t) = variables\n",
        "    first_eq = q_tplus1 - R*(q[t] - K_t - v)\n",
        "    sec_eq = K_t - (1 - π)*λ*K[t-1] - ((π)/(ϕ + q[t] - (1/R)*q_tplus1))*( (a_t[t] + q[t] + λ*ϕ)*K[t-1] - R*B[t-1])\n",
        "    third_eq = B_t - R*B[t] - q[t]*(K[t]-K[t-1]) - ϕ*(K[t]-λ*K[t-1]) + a_t[t]*K[t-1]\n",
        "    return [first_eq, sec_eq, third_eq]\n",
        "\n",
        "  solution = opt.fsolve(f, (0, 0, 0))\n",
        "  print(solution)\n",
        "\n",
        "  q[t], K[t], B[t] = solution"
      ],
      "execution_count": 0,
      "outputs": [
        {
          "output_type": "stream",
          "text": [
            "[  -5.19278425    4.14137054 -111.97694813]\n",
            "[ -5.46728781   4.41315624 -84.89809611]\n",
            "[ -5.6175361    4.56191693 -90.46970301]\n",
            "[ -5.77911929   4.72190029 -93.51929698]\n",
            "[ -5.94122393   4.88239993 -96.79895591]\n",
            "[  -6.10444536    5.04400531 -100.08919856]\n",
            "[  -6.26849207    5.2064278  -103.4021088 ]\n",
            "[  -6.43314008    5.36944562 -106.73176982]\n",
            "[  -6.59816071    5.53283239 -110.07363524]\n",
            "[  -6.76332753    5.69636389 -113.42306395]\n",
            "[  -6.92841705    5.85981886 -116.77545974]\n",
            "[  -7.09320992    6.02298012 -120.12628664]\n",
            "[  -7.25749196    6.1856356  -123.47109244]\n",
            "[  -7.42105511    6.34757932 -126.80552986]\n",
            "[  -7.58369834    6.50861222 -130.12537608]\n",
            "[  -7.74522839    6.66854296 -133.42655054]\n",
            "[  -7.90546046    6.82718857 -136.70513065]\n",
            "[  -8.06421881    6.98437506 -139.95736571]\n",
            "[  -8.22133723    7.13993786 -143.17968868]\n",
            "[  -8.37665945    7.29372223 -146.36872606]\n",
            "[  -8.5300394     7.44558356 -149.52130575]\n",
            "[  -8.68134143    7.59538755 -152.63446306]\n",
            "[  -8.83044044    7.74301033 -155.70544483]\n",
            "[  -8.97722191    7.88833852 -158.73171185]\n",
            "[  -9.12158187    8.03126917 -161.71093972]\n",
            "[  -9.26342678    8.17170968 -164.64101806]\n",
            "[  -9.4026734     8.30957763 -167.5200485 ]\n",
            "[  -9.53924854    8.44480054 -170.34634132]\n",
            "[  -9.67308881    8.57731566 -173.11841103]\n",
            "[  -9.80414031    8.70706961 -175.83497097]\n",
            "[  -9.93235826    8.83401808 -178.49492702]\n",
            "[ -10.05770668    8.95812543 -181.09737064]\n",
            "[ -10.18015796    9.07936431 -183.6415713 ]\n",
            "[ -10.29969242    9.19771527 -186.12696843]\n",
            "[ -10.41629794    9.31316628 -188.55316298]\n",
            "[ -10.52996949    9.42571237 -190.91990874]\n",
            "[ -10.64070867    9.53535512 -193.22710349]\n",
            "[ -10.74852332    9.6421023  -195.47478001]\n",
            "[ -10.85342703    9.74596735 -197.66309712]\n",
            "[ -10.95543872    9.84696903 -199.79233075]\n",
            "[ -11.05458225    9.94513094 -201.86286514]\n",
            "[ -11.15088594   10.04048113 -203.87518421]\n",
            "[ -11.24438223   10.13305171 -205.82986311]\n",
            "[ -11.33510724   10.22287845 -207.72756003]\n",
            "[ -11.42310043   10.31000043 -209.5690083 ]\n",
            "[ -11.50840424   10.39445964 -211.35500882]\n",
            "[ -11.59106371   10.4763007  -213.08642271]\n",
            "[ -11.6711262    10.5555705  -214.76416445]\n",
            "[ -11.74864107   10.63231789 -216.38919523]\n",
            "[ -11.82365936   10.70659343 -217.96251673]\n",
            "[ -11.89623357   10.77844908 -219.48516525]\n",
            "[ -11.96641737   10.84793799 -220.95820619]\n",
            "[ -12.03426537   10.91511423 -222.38272885]\n",
            "[ -12.09983289   10.98003256 -223.75984162]\n",
            "[ -12.16317577   11.04274829 -225.09066751]\n",
            "[ -12.2243502    11.10331703 -226.37633998]\n",
            "[ -12.28341248   11.16179454 -227.6179991 ]\n",
            "[ -12.34041894   11.21823658 -228.81678803]\n",
            "[ -12.39542574   11.27269875 -229.9738498 ]\n",
            "[ -12.44848875   11.32523638 -231.09032435]\n",
            "[ -12.49966345   11.3759044  -232.16734584]\n",
            "[ -12.5490048    11.42475723 -233.20604025]\n",
            "[ -12.59656716   11.47184868 -234.20752316]\n",
            "[ -12.6424042    11.51723188 -235.17289784]\n",
            "[ -12.68656879   11.5609592  -236.10325348]\n",
            "[ -12.72911302   11.60308219 -236.99966366]\n",
            "[ -12.77008802   11.64365151 -237.86318497]\n",
            "[ -12.80954403   11.68271686 -238.69485589]\n",
            "[ -12.84753028   11.72032701 -239.49569571]\n",
            "[ -12.88409498   11.75652968 -240.26670371]\n",
            "[ -12.91928528   11.79137156 -241.00885841]\n",
            "[ -12.95314727   11.82489829 -241.72311701]\n",
            "[ -12.98572594   11.8571544  -242.41041486]\n",
            "[ -13.01706517   11.88818334 -243.07166512]\n",
            "[ -13.04720774   11.91802746 -243.70775848]\n",
            "[ -13.07619528   11.946728   -244.31956301]\n",
            "[ -13.10406833   11.97432508 -244.90792402]\n",
            "[ -13.13086628   12.0008577  -245.47366405]\n",
            "[ -13.15662744   12.0263638  -246.01758293]\n",
            "[ -13.18138898   12.05088017 -246.54045786]\n",
            "[ -13.20518699   12.07444257 -247.04304358]\n",
            "[ -13.22805648   12.09708563 -247.52607259]\n",
            "[ -13.25003139   12.11884296 -247.99025537]\n",
            "[ -13.27114459   12.13974712 -248.43628068]\n",
            "[ -13.29142792   12.15982962 -248.86481589]\n",
            "[ -13.31091221   12.179121   -249.2765073 ]\n",
            "[ -13.32962729   12.19765078 -249.67198055]\n",
            "[ -13.34760199   12.21544752 -250.05184099]\n",
            "[ -13.36486421   12.23253882 -250.41667407]\n",
            "[ -13.38144089   12.24895138 -250.76704583]\n",
            "[ -13.39735808   12.26471097 -251.10350325]\n",
            "[ -13.4126409    12.27984248 -251.42657479]\n",
            "[ -13.42731364   12.29436994 -251.73677078]\n",
            "[ -13.44139973   12.30831656 -252.03458387]\n",
            "[ -13.45492176   12.32170471 -252.32048955]\n",
            "[ -13.46790153   12.33455597 -252.59494658]\n",
            "[ -13.48036007   12.34689116 -252.85839742]\n",
            "[ -13.49231764   12.35873034 -253.11126876]\n",
            "[ -13.50379377   12.37009285 -253.35397192]\n"
          ],
          "name": "stdout"
        }
      ]
    },
    {
      "cell_type": "code",
      "metadata": {
        "id": "WFvwPv0apItx",
        "colab_type": "code",
        "outputId": "68761340-73e7-4e42-d8ba-2870fdb58a6f",
        "colab": {
          "base_uri": "https://localhost:8080/",
          "height": 282
        }
      },
      "source": [
        "plt.plot(time, B, alpha=0.5)\n",
        "plt.plot(time, K, alpha=0.5)\n",
        "plt.plot(time, q, alpha=0.5)"
      ],
      "execution_count": 0,
      "outputs": [
        {
          "output_type": "execute_result",
          "data": {
            "text/plain": [
              "[<matplotlib.lines.Line2D at 0x7f7fbc2c8ef0>]"
            ]
          },
          "metadata": {
            "tags": []
          },
          "execution_count": 21
        },
        {
          "output_type": "display_data",
          "data": {
            "image/png": "[encoded data removed]",
            "text/plain": [
              "<Figure size 432x288 with 1 Axes>"
            ]
          },
          "metadata": {
            "tags": []
          }
        }
      ]
    },
    {
      "cell_type": "code",
      "metadata": {
        "id": "X3vOExygqKwR",
        "colab_type": "code",
        "colab": {}
      },
      "source": [
        ""
      ],
      "execution_count": 0,
      "outputs": []
    }
  ]
}