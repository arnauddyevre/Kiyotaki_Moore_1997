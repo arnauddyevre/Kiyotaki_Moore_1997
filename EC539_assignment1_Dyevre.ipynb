{
  "nbformat": 4,
  "nbformat_minor": 0,
  "metadata": {
    "colab": {
      "name": "Copy of EC539_assignment1_Dyevre.ipynb",
      "provenance": [],
      "collapsed_sections": [],
      "include_colab_link": true
    },
    "kernelspec": {
      "name": "python3",
      "display_name": "Python 3"
    }
  },
  "cells": [
    {
      "cell_type": "markdown",
      "metadata": {
        "id": "view-in-github",
        "colab_type": "text"
      },
      "source": [
        "<a href=\"https://colab.research.google.com/github/arnauddyevre/ec539_assignment1/blob/master/EC539_assignment1_Dyevre.ipynb\" target=\"_parent\"><img src=\"https://colab.research.google.com/assets/colab-badge.svg\" alt=\"Open In Colab\"/></a>"
      ]
    },
    {
      "cell_type": "markdown",
      "metadata": {
        "id": "2SnqTwDbrGso",
        "colab_type": "text"
      },
      "source": [
        "# EC539 - Assignment 1\n",
        "Reproduction of the numerical results in *N. Kiyotaki & J. Moore* \"Credit Cycles\" (1997) \n",
        "\n",
        "*Sunday, January 06*\n",
        "\n",
        "[![Open In Colab](https://colab.research.google.com/assets/colab-badge.svg)](https://colab.research.google.com/github/arnauddyevre/Python-for-Social-Scientists/blob/master/statistics_and_econometrics/time_series/time_series.ipynb)\n",
        "\n",
        "This Notebook presents the tools we need to analyse time series in Python.\n",
        "\n",
        "We first review some essential results about covariance stationarity and strict stationarity, MA, AR and ARMA processes. We then use the `statsmodels` library to decompose seasonal time series into trends and cyclical components, we show how to do time series forecasting and how to use common filters. Finally, we implement tests of unit roots in `statsmodels`.\n",
        "\n",
        "Some familiarity with time-series is required.\n",
        "\n",
        "### Content\n",
        "\n",
        "- [1. Setup](#1.-Setup)\n",
        "    - [1.1. Parameter values](#1.1.-Parameter-values)\n",
        "    - [1.2. Model equilibrium](#1.2.-Model-equilibrium)\n",
        "    - [1.3. Wold's decomposition theorem](#1.3.-Wold's-decomposition-theorem)\n",
        "    - [1.4. AR(p) processes](#1.4.-AR(p)-processes)\n",
        "    - [1.5. MA(p) processes](#1.5.-MA(q)-processes)\n",
        "    - [1.6. ARMA(p, q) processes](#1.6.-ARMA(p,-q)-processes)\n",
        "- [2. Time series in statsmodels](#2.-Time-series-in-statsmodels)\n",
        "    - [2.1. Seasonal decomposition](#2.1.-Seasonal-decomposition)\n",
        "    - [2.2. Time series forecasting](#2.2.-Time-series-forecasting)\n",
        "    - [2.3. Time series filters](#2.3.-Time-series-filters)\n",
        "    - [2.4. Tests of stationarity and unit roots](#2.4.-Tests-of-stationarity-and-unit-roots)"
      ]
    },
    {
      "cell_type": "markdown",
      "metadata": {
        "id": "EP1dTYh3rE8J",
        "colab_type": "text"
      },
      "source": [
        ""
      ]
    },
    {
      "cell_type": "markdown",
      "metadata": {
        "id": "8n9bFvdSNl8L",
        "colab_type": "text"
      },
      "source": [
        "### 1. Setup\n",
        "\n",
        "### 1.1. Assumptions\n",
        "\n",
        "#### 1.2. Parameter values\n",
        "\n",
        "$R = 1.01 \\\\\n",
        "\\lambda = 0.975\\\\\n",
        "u(K) = K - v\\\\\n",
        "\\eta = 0.10 \\\\\n",
        "a = 1\\\\\n",
        "\\pi = 0.1\\\\\n",
        "\\phi = 20\\\\\n",
        "\\Delta = 0.01\\\\\n",
        "c = 1$\n",
        "\n",
        "#### 1.3. Model equilibrium\n",
        "\n",
        "*(1) Land market equilibrium condition*\n",
        "$$q_{t+1}= R(q_{t} - u\\left(K_{t}\\right))$$\n",
        "\n",
        "*(2) Law of motion of the farmers' aggregate landholding*\n",
        "$$\\begin{equation}\n",
        "K_{t}=(1-\\pi) \\lambda K_{t-1} +\\frac{\\pi}{\\phi + q_t - \\frac{1}{R} q_{t+1}}\\left[\\left(a+q_{t}+\\lambda \\phi\\right) K_{t-1}-R B_{t-1}\\right]\n",
        "\\end{equation}$$\n",
        "\n",
        "*(3) Law of motion of the farmers' aggregate debt*\n",
        "$$B_{t}=R B_{t-1}+q_{t}\\left(K_{t}-K_{t-1}\\right)+\\phi\\left(K_{t}-\\lambda K_{t-1}\\right)-a K_{t-1}$$\n",
        "\n",
        "Where:\n",
        "\n",
        "- $ q_t = $ price of land \n",
        "- $K_t=$ landholding of farmers\n",
        "- $ B_t = $ aggregate debt of farmers\n",
        "- $R_t = R = $ constant rate of interest\n",
        "- $u(.) =$ downpayment required for the purchase of $K_t$ units or land (or opportunity cost of holding land)\n",
        "- $a = $ constant proportional to the share of tradeable fruit\n",
        "- $\\lambda =$ fraction of trees surviving after one period\n",
        "- $\\pi = $ probability that a new opportunity to plant tree arises\n",
        "- $\\phi = $ amount of trees created with one fruit  \n",
        "\n",
        "I simulate this non-linear model.\n",
        "\n",
        "#### 1.4. (No NEED!) Linearisation around the steady state\n",
        "\n",
        "Equations (1), (2) and (3) form a nonlinear system that I need to solve for $(K_{t}^{*}, B_{t}^*, q_{t}^*)$. I linearise the model around its steady state\n",
        "\n",
        "*Steady state*\n",
        "$$\\begin{align} \n",
        "\\frac{R-1}{R} q^{*}=u^{*} & =\\frac{\\pi a-(1-\\lambda)(1-R+\\pi R) \\phi}{\\lambda \\pi+(1-\\lambda)(1-R+\\pi R)} \\\\\n",
        "u^{*} & =\\frac{1}{R} G^{\\prime}\\left[\\frac{1}{m}\\left(\\bar{K}-K^{*}\\right)\\right] \\\\\n",
        "B^{*} & =\\frac{1}{R-1}(a-\\phi+\\lambda \\phi) K^{*}\n",
        "\\end{align}$$\n",
        "\n",
        "To find the steady state value of $K$, we instead use (1): $$K^* = \\frac{R - 1}{R} q^* + \\nu$$ \n",
        "\n",
        "\n",
        "In the text of the paper, $\\eta$ is defined as the elasticity of the residual supply of land to the farmers with respect to the user/opportunity cost in the steady state. We can thus calculate $v$ in the expression of $u(K) = K - v$ that we are assuming.\n",
        "\n",
        "$$ \\dfrac{1}{\\eta} = \\left . \\dfrac{\\mathrm{d} \\log(K - \\nu)}{\\mathrm{d} log(K)} \\right|_{K = K^*} = \\left.\\dfrac{\\mathrm{d} (K - \\nu)}{\\mathrm{d}K}\\right|_{K=K^*} \\dfrac{K^*}{K^*-\\nu} = \\dfrac{K^*}{K^*-\\nu} $$\n",
        "\n",
        "So $v = K^*(1 - \\eta)$ and $K^* = \\frac{R - 1}{R} \\dfrac{q^*}{\\eta}$\n",
        "\n",
        "#### 1.5. Impact of a small change in productivity\n",
        "\n",
        "\n"
      ]
    },
    {
      "cell_type": "code",
      "metadata": {
        "id": "wb-ME2HVe5b7",
        "colab_type": "code",
        "colab": {}
      },
      "source": [
        "#Necessary modules\n",
        "import numpy as np\n",
        "import matplotlib.pyplot as plt\n",
        "import pandas as pd\n",
        "import statsmodels as sm\n",
        "import scipy.optimize as opt\n",
        "#%matplotlib nbagg"
      ],
      "execution_count": 0,
      "outputs": []
    },
    {
      "cell_type": "code",
      "metadata": {
        "id": "NHIqX1T8gM_0",
        "colab_type": "code",
        "outputId": "42484031-97e8-462d-8b6c-a45c38e25e74",
        "colab": {
          "base_uri": "https://localhost:8080/",
          "height": 34
        }
      },
      "source": [
        "#Setting timeline\n",
        "periods = 100                                       \n",
        "trials = 10000\n",
        "\n",
        "#Vectors of variable of interest\n",
        "B = np.zeros(periods)\n",
        "q = np.zeros(periods)\n",
        "K = np.zeros(periods)\n",
        "\n",
        "#Parameter values\n",
        "R = 1.01\n",
        "λ = 0.975\n",
        "v = 1.0\n",
        "η = 0.10\n",
        "a = 1.0\n",
        "Δa = 0.01\n",
        "π = 0.1\n",
        "ϕ = 20.0\n",
        "Δ = 0.01\n",
        "c = 1.0\n",
        "\n",
        "#Finding the steady state values\n",
        "q_star = (R/(R-1))*(π*a - (1-λ)*(1 - R + π*R)*ϕ) / (λ*π + (1-λ)*(1 - R + π*R))\n",
        "K_star = ((R-1)/R)*(q_star/η)\n",
        "B_star = (1/(R-1))*(a - ϕ + λ*ϕ)*K_star\n",
        "q_star, K_star, B_star"
      ],
      "execution_count": 351,
      "outputs": [
        {
          "output_type": "execute_result",
          "data": {
            "text/plain": [
              "(55.1691305437233, 5.462290152843895, 273.11450764219455)"
            ]
          },
          "metadata": {
            "tags": []
          },
          "execution_count": 351
        }
      ]
    },
    {
      "cell_type": "code",
      "metadata": {
        "id": "ZENObO4T0pb6",
        "colab_type": "code",
        "outputId": "742d5b62-c1fa-423e-e1cc-92e2d3c9d682",
        "colab": {
          "base_uri": "https://localhost:8080/",
          "height": 187
        }
      },
      "source": [
        "#Calculating the values of q, B and K after the productivity shock (need to solve non-linear equations for each period)\n",
        "a_t = np.ones(periods)\n",
        "a_t[1] = a + Δa\n",
        "B[0], K[0] = B_star, K_star\n",
        "q[0] = q_star\n",
        "a_t"
      ],
      "execution_count": 352,
      "outputs": [
        {
          "output_type": "execute_result",
          "data": {
            "text/plain": [
              "array([1.  , 1.01, 1.  , 1.  , 1.  , 1.  , 1.  , 1.  , 1.  , 1.  , 1.  ,\n",
              "       1.  , 1.  , 1.  , 1.  , 1.  , 1.  , 1.  , 1.  , 1.  , 1.  , 1.  ,\n",
              "       1.  , 1.  , 1.  , 1.  , 1.  , 1.  , 1.  , 1.  , 1.  , 1.  , 1.  ,\n",
              "       1.  , 1.  , 1.  , 1.  , 1.  , 1.  , 1.  , 1.  , 1.  , 1.  , 1.  ,\n",
              "       1.  , 1.  , 1.  , 1.  , 1.  , 1.  , 1.  , 1.  , 1.  , 1.  , 1.  ,\n",
              "       1.  , 1.  , 1.  , 1.  , 1.  , 1.  , 1.  , 1.  , 1.  , 1.  , 1.  ,\n",
              "       1.  , 1.  , 1.  , 1.  , 1.  , 1.  , 1.  , 1.  , 1.  , 1.  , 1.  ,\n",
              "       1.  , 1.  , 1.  , 1.  , 1.  , 1.  , 1.  , 1.  , 1.  , 1.  , 1.  ,\n",
              "       1.  , 1.  , 1.  , 1.  , 1.  , 1.  , 1.  , 1.  , 1.  , 1.  , 1.  ,\n",
              "       1.  ])"
            ]
          },
          "metadata": {
            "tags": []
          },
          "execution_count": 352
        }
      ]
    },
    {
      "cell_type": "markdown",
      "metadata": {
        "id": "TWS8CUKGM_bq",
        "colab_type": "text"
      },
      "source": [
        "I need to use shooting method to solve for this nonlinear dynamic problem. For this, I need two boundary conditions.\n",
        "\n",
        "$$ (q_0, B_0, K_0) = (q^*, B^*, K^*) $$ and $$ (q_\\infty, B_\\infty, K_\\infty) = (q^g, B^g, K^g) $$ where $(q^g, B^g, K^g)$ are guesses for the final values of our variables of interest.\n",
        "\n",
        "And my three dynamic equations.\n",
        "\n",
        "Use reverse shooting here."
      ]
    },
    {
      "cell_type": "code",
      "metadata": {
        "id": "BQzXDcaOCipX",
        "colab_type": "code",
        "colab": {}
      },
      "source": [
        "#t = 1\n",
        "\n",
        "#def f(variables):\n",
        "#  (q_tplus1, K_t, B_t) = variables\n",
        "#  first_eq = q_tplus1 - R*(q[t] - K[t-1] - v)\n",
        "#  sec_eq = K_t - (1 - π)*λ*K[t-1] - ((π)/(ϕ + q[t] - (1/R)*q_tplus1))*( (a_t[t] + q[t] + λ*ϕ)*K[t-1] - R*B[t-1])\n",
        "#  third_eq = B_t - R*B[t] - q[t]*(K[t]-K[t-1]) - ϕ*(K[t]-λ*K[t-1]) + a_t[t]*K[t-1]\n",
        "#  return [first_eq, sec_eq, third_eq]\n",
        "          \n",
        "#solution = opt.fsolve(f, (0, 0, 0))\n",
        "#print(solution)"
      ],
      "execution_count": 0,
      "outputs": []
    },
    {
      "cell_type": "code",
      "metadata": {
        "id": "qRgZpPE_ctmE",
        "colab_type": "code",
        "colab": {
          "base_uri": "https://localhost:8080/",
          "height": 51
        },
        "outputId": "33443163-5188-405b-9842-db5447b1ae1b"
      },
      "source": [
        "#Vectors of variable of interest\n",
        "B = np.zeros(periods)\n",
        "q = np.zeros(periods)\n",
        "K = np.zeros(periods)\n",
        "\n",
        "#Calculating the values of q, B and K after the productivity shock (need to solve non-linear equations for each period)\n",
        "a_t = np.ones(periods)\n",
        "a_t[1] = a + Δa\n",
        "B[0], K[0] = B_star, K_star\n",
        "a_t\n",
        "\n",
        "#Generating test values for q_1, checking which ones lead to the steady state\n",
        "q_vec = np.linspace(q_star*(1.0037-0.00005), q_star*(1.0037+0.00005), trials)\n",
        "q_vecSS = np.linspace(q_star, q_star, trials)\n",
        "q_mat = np.zeros((trials, 100))\n",
        "q_mat[:,1] = q_vec\n",
        "q_mat[:,0] = q_vecSS\n",
        "\n",
        "B_mat = np.zeros((trials, 100))\n",
        "K_mat = np.zeros((trials, 100))\n",
        "B_vec = np.linspace(B_star, B_star, trials)\n",
        "K_vec = np.linspace(K_star, K_star, trials)\n",
        "B_mat[:,0] = B_vec\n",
        "K_mat[:,0] = K_vec\n",
        "q_vec"
      ],
      "execution_count": 354,
      "outputs": [
        {
          "output_type": "execute_result",
          "data": {
            "text/plain": [
              "array([55.37049787, 55.37049842, 55.37049897, ..., 55.37601368,\n",
              "       55.37601423, 55.37601478])"
            ]
          },
          "metadata": {
            "tags": []
          },
          "execution_count": 354
        }
      ]
    },
    {
      "cell_type": "code",
      "metadata": {
        "id": "aCuKA9QKE9SR",
        "colab_type": "code",
        "colab": {
          "base_uri": "https://localhost:8080/",
          "height": 119
        },
        "outputId": "69466935-bea8-46e2-d489-23332eb32723"
      },
      "source": [
        "\n",
        "for s in range(0, trials):\n",
        "\n",
        "  for t in range(1, periods-1):\n",
        "    def f(variables):\n",
        "      (q_tplus1, K_t, B_t) = variables\n",
        "      \n",
        "      first_eq = q_tplus1 - R*(q_mat[s, t] - K_t - v)\n",
        "      sec_eq = K_t - (1 - π)*λ*K_mat[s, t-1] - ((π)/(ϕ + q_mat[s, t] - (1/R)*q_tplus1))*( (a_t[t] + q_mat[s, t] + λ*ϕ)*K_mat[s, t-1] - R*B_mat[s, t-1])\n",
        "      third_eq = B_t - R*B_mat[s, t-1] - q_mat[s, t]*(K_mat[s, t]-K_mat[s, t-1]) - ϕ*(K_mat[s, t]-λ*K_mat[s, t-1]) + a_t[t]*K_mat[s, t-1]\n",
        "      return [first_eq, sec_eq, third_eq]\n",
        "\n",
        "    solution = opt.fsolve(f, (0, 0, 0))\n",
        "    #print(solution)\n",
        "\n",
        "    q_mat[s, t+1], K_mat[s, t], B_mat[s, t] = solution\n"
      ],
      "execution_count": 355,
      "outputs": [
        {
          "output_type": "stream",
          "text": [
            "/usr/local/lib/python3.6/dist-packages/scipy/optimize/minpack.py:162: RuntimeWarning: The iteration is not making good progress, as measured by the \n",
            "  improvement from the last five Jacobian evaluations.\n",
            "  warnings.warn(msg, RuntimeWarning)\n",
            "/usr/local/lib/python3.6/dist-packages/scipy/optimize/minpack.py:162: RuntimeWarning: The iteration is not making good progress, as measured by the \n",
            "  improvement from the last ten iterations.\n",
            "  warnings.warn(msg, RuntimeWarning)\n"
          ],
          "name": "stderr"
        }
      ]
    },
    {
      "cell_type": "code",
      "metadata": {
        "id": "zKwEn390MQmk",
        "colab_type": "code",
        "colab": {
          "base_uri": "https://localhost:8080/",
          "height": 51
        },
        "outputId": "53da87e3-aa5c-4e3a-edaa-44fdff3b25f8"
      },
      "source": [
        "q_mat[:, -1]"
      ],
      "execution_count": 356,
      "outputs": [
        {
          "output_type": "execute_result",
          "data": {
            "text/plain": [
              "array([ -31.08727559,  -31.0871946 ,  -31.13240182, ..., -383.15739318,\n",
              "       -383.15717839, -383.15727103])"
            ]
          },
          "metadata": {
            "tags": []
          },
          "execution_count": 356
        }
      ]
    },
    {
      "cell_type": "code",
      "metadata": {
        "id": "4YR335NkNL8J",
        "colab_type": "code",
        "colab": {
          "base_uri": "https://localhost:8080/",
          "height": 51
        },
        "outputId": "fc0d580d-916b-4505-e31c-b8a1e8bb2580"
      },
      "source": [
        "#q_vec_abs = np.zeros(trials)\n",
        "#for i in range(0, trials):\n",
        "#  q_vec_abs[i] = abs(q_mat[i, -1]/q_star)\n",
        "#q_vec_abs\n",
        "\n",
        "#New loss function: summing up the deviations of q_t/q_star from 0\n",
        "q_vec_sum = abs(q_mat).sum(axis =1)\n",
        "q_vec_sum\n",
        "#np.zeros(trials)\n",
        "\n",
        "#for rows in range(0, trials+1) \n",
        "#  q_vec_sum = ()"
      ],
      "execution_count": 363,
      "outputs": [
        {
          "output_type": "execute_result",
          "data": {
            "text/plain": [
              "array([14453.41381977, 14453.411844  , 14453.84278978, ...,\n",
              "       20255.70665245, 20255.69444257, 20255.6997205 ])"
            ]
          },
          "metadata": {
            "tags": []
          },
          "execution_count": 363
        }
      ]
    },
    {
      "cell_type": "code",
      "metadata": {
        "id": "JcMBq85nSg1n",
        "colab_type": "code",
        "colab": {
          "base_uri": "https://localhost:8080/",
          "height": 102
        },
        "outputId": "3ce52c2c-7b90-4da7-a5fc-f1bbafbd7ee9"
      },
      "source": [
        "index = np.argwhere(q_vec_sum == np.min(q_vec_sum))[0, 0]\n",
        "index, q_mat[index, -1], q_vec[index], q_vec_abs[index], q_vec_sum[index]"
      ],
      "execution_count": 364,
      "outputs": [
        {
          "output_type": "execute_result",
          "data": {
            "text/plain": [
              "(4372,\n",
              " -7.923257504889454,\n",
              " 55.372910105818825,\n",
              " 0.14361758880013561,\n",
              " 7075.348410064209)"
            ]
          },
          "metadata": {
            "tags": []
          },
          "execution_count": 364
        }
      ]
    },
    {
      "cell_type": "code",
      "metadata": {
        "id": "H65u3TxgWtzy",
        "colab_type": "code",
        "colab": {
          "base_uri": "https://localhost:8080/",
          "height": 34
        },
        "outputId": "f714e64a-9833-4d36-a489-8c9785e5a89d"
      },
      "source": [
        "#new_start = q_vec[index]\n",
        "#new_start"
      ],
      "execution_count": 359,
      "outputs": [
        {
          "output_type": "execute_result",
          "data": {
            "text/plain": [
              "55.37155225773133"
            ]
          },
          "metadata": {
            "tags": []
          },
          "execution_count": 359
        }
      ]
    },
    {
      "cell_type": "code",
      "metadata": {
        "id": "nP-rnefCSycN",
        "colab_type": "code",
        "colab": {
          "base_uri": "https://localhost:8080/",
          "height": 238
        },
        "outputId": "54ac1a87-9232-4f4d-968c-5bc55a2a3706"
      },
      "source": [
        "#Generating test values for q_1, checking which ones lead to the steady state\n",
        "q_vec2 = np.linspace(new_start, new_start, trials) \n",
        "#- (-55.37049787+55.3705536), new_start + (-55.37049787+55.3705536), 100)\n",
        "q_vec2\n",
        "#q_vecSS = np.linspace(q_star, q_star, 100)\n",
        "q_mat = np.zeros((trials, 100))\n",
        "q_mat[:,1] = q_vec2\n",
        "q_mat[:,0] = q_vecSS\n",
        "\n",
        "B_mat = np.zeros((trials, 100))\n",
        "K_mat = np.zeros((trials, 100))\n",
        "B_vec = np.linspace(B_star, B_star, trials)\n",
        "K_vec = np.linspace(K_star, K_star, trials)\n",
        "B_mat[:,0] = B_vec\n",
        "K_mat[:,0] = K_vec\n",
        "q_mat"
      ],
      "execution_count": 335,
      "outputs": [
        {
          "output_type": "execute_result",
          "data": {
            "text/plain": [
              "array([[55.16913054, 55.37291117,  0.        , ...,  0.        ,\n",
              "         0.        ,  0.        ],\n",
              "       [55.16913054, 55.37291117,  0.        , ...,  0.        ,\n",
              "         0.        ,  0.        ],\n",
              "       [55.16913054, 55.37291117,  0.        , ...,  0.        ,\n",
              "         0.        ,  0.        ],\n",
              "       ...,\n",
              "       [55.16913054, 55.37291117,  0.        , ...,  0.        ,\n",
              "         0.        ,  0.        ],\n",
              "       [55.16913054, 55.37291117,  0.        , ...,  0.        ,\n",
              "         0.        ,  0.        ],\n",
              "       [55.16913054, 55.37291117,  0.        , ...,  0.        ,\n",
              "         0.        ,  0.        ]])"
            ]
          },
          "metadata": {
            "tags": []
          },
          "execution_count": 335
        }
      ]
    },
    {
      "cell_type": "code",
      "metadata": {
        "id": "x9PsYaAdVba5",
        "colab_type": "code",
        "colab": {
          "base_uri": "https://localhost:8080/",
          "height": 68
        },
        "outputId": "1ac3c399-a998-41de-b0b0-24a4e7250fed"
      },
      "source": [
        "for s in range(0, trials):\n",
        "\n",
        "  for t in range(1, periods-1):\n",
        "    def f(variables):\n",
        "      (q_tplus1, K_t, B_t) = variables\n",
        "      \n",
        "      first_eq = q_tplus1 - R*(q_mat[s, t] - K_t - v)\n",
        "      sec_eq = K_t - (1 - π)*λ*K_mat[s, t-1] - ((π)/(ϕ + q_mat[s, t] - (1/R)*q_tplus1))*( (a_t[t] + q_mat[s, t] + λ*ϕ)*K_mat[s, t-1] - R*B_mat[s, t-1])\n",
        "      third_eq = B_t - R*B_mat[s, t-1] - q_mat[s, t]*(K_mat[s, t]-K_mat[s, t-1]) - ϕ*(K_mat[s, t]-λ*K_mat[s, t-1]) + a_t[t]*K_mat[s, t-1]\n",
        "      return [first_eq, sec_eq, third_eq]\n",
        "\n",
        "    solution = opt.fsolve(f, (0, 0, 0))\n",
        "    #print(solution)\n",
        "\n",
        "    q_mat[s, t+1], K_mat[s, t], B_mat[s, t] = solution"
      ],
      "execution_count": 336,
      "outputs": [
        {
          "output_type": "stream",
          "text": [
            "/usr/local/lib/python3.6/dist-packages/scipy/optimize/minpack.py:162: RuntimeWarning: The iteration is not making good progress, as measured by the \n",
            "  improvement from the last ten iterations.\n",
            "  warnings.warn(msg, RuntimeWarning)\n"
          ],
          "name": "stderr"
        }
      ]
    },
    {
      "cell_type": "code",
      "metadata": {
        "id": "toF6gvKrNmBm",
        "colab_type": "code",
        "colab": {
          "base_uri": "https://localhost:8080/",
          "height": 1000
        },
        "outputId": "8a66e0c9-9779-4b18-d338-84be0af040dc"
      },
      "source": [
        "q_mat[:, -1]"
      ],
      "execution_count": 337,
      "outputs": [
        {
          "output_type": "execute_result",
          "data": {
            "text/plain": [
              "array([-8.12964472, -8.12964472, -8.12964472, -8.12964472, -8.12964472,\n",
              "       -8.12964472, -8.12964472, -8.12964472, -8.12964472, -8.12964472,\n",
              "       -8.12964472, -8.12964472, -8.12964472, -8.12964472, -8.12964472,\n",
              "       -8.12964472, -8.12964472, -8.12964472, -8.12964472, -8.12964472,\n",
              "       -8.12964472, -8.12964472, -8.12964472, -8.12964472, -8.12964472,\n",
              "       -8.12964472, -8.12964472, -8.12964472, -8.12964472, -8.12964472,\n",
              "       -8.12964472, -8.12964472, -8.12964472, -8.12964472, -8.12964472,\n",
              "       -8.12964472, -8.12964472, -8.12964472, -8.12964472, -8.12964472,\n",
              "       -8.12964472, -8.12964472, -8.12964472, -8.12964472, -8.12964472,\n",
              "       -8.12964472, -8.12964472, -8.12964472, -8.12964472, -8.12964472,\n",
              "       -8.12964472, -8.12964472, -8.12964472, -8.12964472, -8.12964472,\n",
              "       -8.12964472, -8.12964472, -8.12964472, -8.12964472, -8.12964472,\n",
              "       -8.12964472, -8.12964472, -8.12964472, -8.12964472, -8.12964472,\n",
              "       -8.12964472, -8.12964472, -8.12964472, -8.12964472, -8.12964472,\n",
              "       -8.12964472, -8.12964472, -8.12964472, -8.12964472, -8.12964472,\n",
              "       -8.12964472, -8.12964472, -8.12964472, -8.12964472, -8.12964472,\n",
              "       -8.12964472, -8.12964472, -8.12964472, -8.12964472, -8.12964472,\n",
              "       -8.12964472, -8.12964472, -8.12964472, -8.12964472, -8.12964472,\n",
              "       -8.12964472, -8.12964472, -8.12964472, -8.12964472, -8.12964472,\n",
              "       -8.12964472, -8.12964472, -8.12964472, -8.12964472, -8.12964472,\n",
              "       -8.12964472, -8.12964472, -8.12964472, -8.12964472, -8.12964472,\n",
              "       -8.12964472, -8.12964472, -8.12964472, -8.12964472, -8.12964472,\n",
              "       -8.12964472, -8.12964472, -8.12964472, -8.12964472, -8.12964472,\n",
              "       -8.12964472, -8.12964472, -8.12964472, -8.12964472, -8.12964472,\n",
              "       -8.12964472, -8.12964472, -8.12964472, -8.12964472, -8.12964472,\n",
              "       -8.12964472, -8.12964472, -8.12964472, -8.12964472, -8.12964472,\n",
              "       -8.12964472, -8.12964472, -8.12964472, -8.12964472, -8.12964472,\n",
              "       -8.12964472, -8.12964472, -8.12964472, -8.12964472, -8.12964472,\n",
              "       -8.12964472, -8.12964472, -8.12964472, -8.12964472, -8.12964472,\n",
              "       -8.12964472, -8.12964472, -8.12964472, -8.12964472, -8.12964472,\n",
              "       -8.12964472, -8.12964472, -8.12964472, -8.12964472, -8.12964472,\n",
              "       -8.12964472, -8.12964472, -8.12964472, -8.12964472, -8.12964472,\n",
              "       -8.12964472, -8.12964472, -8.12964472, -8.12964472, -8.12964472,\n",
              "       -8.12964472, -8.12964472, -8.12964472, -8.12964472, -8.12964472,\n",
              "       -8.12964472, -8.12964472, -8.12964472, -8.12964472, -8.12964472,\n",
              "       -8.12964472, -8.12964472, -8.12964472, -8.12964472, -8.12964472,\n",
              "       -8.12964472, -8.12964472, -8.12964472, -8.12964472, -8.12964472,\n",
              "       -8.12964472, -8.12964472, -8.12964472, -8.12964472, -8.12964472,\n",
              "       -8.12964472, -8.12964472, -8.12964472, -8.12964472, -8.12964472,\n",
              "       -8.12964472, -8.12964472, -8.12964472, -8.12964472, -8.12964472,\n",
              "       -8.12964472, -8.12964472, -8.12964472, -8.12964472, -8.12964472,\n",
              "       -8.12964472, -8.12964472, -8.12964472, -8.12964472, -8.12964472,\n",
              "       -8.12964472, -8.12964472, -8.12964472, -8.12964472, -8.12964472,\n",
              "       -8.12964472, -8.12964472, -8.12964472, -8.12964472, -8.12964472,\n",
              "       -8.12964472, -8.12964472, -8.12964472, -8.12964472, -8.12964472,\n",
              "       -8.12964472, -8.12964472, -8.12964472, -8.12964472, -8.12964472,\n",
              "       -8.12964472, -8.12964472, -8.12964472, -8.12964472, -8.12964472,\n",
              "       -8.12964472, -8.12964472, -8.12964472, -8.12964472, -8.12964472,\n",
              "       -8.12964472, -8.12964472, -8.12964472, -8.12964472, -8.12964472,\n",
              "       -8.12964472, -8.12964472, -8.12964472, -8.12964472, -8.12964472,\n",
              "       -8.12964472, -8.12964472, -8.12964472, -8.12964472, -8.12964472,\n",
              "       -8.12964472, -8.12964472, -8.12964472, -8.12964472, -8.12964472,\n",
              "       -8.12964472, -8.12964472, -8.12964472, -8.12964472, -8.12964472,\n",
              "       -8.12964472, -8.12964472, -8.12964472, -8.12964472, -8.12964472,\n",
              "       -8.12964472, -8.12964472, -8.12964472, -8.12964472, -8.12964472,\n",
              "       -8.12964472, -8.12964472, -8.12964472, -8.12964472, -8.12964472,\n",
              "       -8.12964472, -8.12964472, -8.12964472, -8.12964472, -8.12964472,\n",
              "       -8.12964472, -8.12964472, -8.12964472, -8.12964472, -8.12964472,\n",
              "       -8.12964472, -8.12964472, -8.12964472, -8.12964472, -8.12964472,\n",
              "       -8.12964472, -8.12964472, -8.12964472, -8.12964472, -8.12964472,\n",
              "       -8.12964472, -8.12964472, -8.12964472, -8.12964472, -8.12964472,\n",
              "       -8.12964472, -8.12964472, -8.12964472, -8.12964472, -8.12964472,\n",
              "       -8.12964472, -8.12964472, -8.12964472, -8.12964472, -8.12964472,\n",
              "       -8.12964472, -8.12964472, -8.12964472, -8.12964472, -8.12964472,\n",
              "       -8.12964472, -8.12964472, -8.12964472, -8.12964472, -8.12964472,\n",
              "       -8.12964472, -8.12964472, -8.12964472, -8.12964472, -8.12964472,\n",
              "       -8.12964472, -8.12964472, -8.12964472, -8.12964472, -8.12964472,\n",
              "       -8.12964472, -8.12964472, -8.12964472, -8.12964472, -8.12964472,\n",
              "       -8.12964472, -8.12964472, -8.12964472, -8.12964472, -8.12964472,\n",
              "       -8.12964472, -8.12964472, -8.12964472, -8.12964472, -8.12964472,\n",
              "       -8.12964472, -8.12964472, -8.12964472, -8.12964472, -8.12964472,\n",
              "       -8.12964472, -8.12964472, -8.12964472, -8.12964472, -8.12964472,\n",
              "       -8.12964472, -8.12964472, -8.12964472, -8.12964472, -8.12964472,\n",
              "       -8.12964472, -8.12964472, -8.12964472, -8.12964472, -8.12964472,\n",
              "       -8.12964472, -8.12964472, -8.12964472, -8.12964472, -8.12964472,\n",
              "       -8.12964472, -8.12964472, -8.12964472, -8.12964472, -8.12964472,\n",
              "       -8.12964472, -8.12964472, -8.12964472, -8.12964472, -8.12964472,\n",
              "       -8.12964472, -8.12964472, -8.12964472, -8.12964472, -8.12964472,\n",
              "       -8.12964472, -8.12964472, -8.12964472, -8.12964472, -8.12964472,\n",
              "       -8.12964472, -8.12964472, -8.12964472, -8.12964472, -8.12964472,\n",
              "       -8.12964472, -8.12964472, -8.12964472, -8.12964472, -8.12964472,\n",
              "       -8.12964472, -8.12964472, -8.12964472, -8.12964472, -8.12964472,\n",
              "       -8.12964472, -8.12964472, -8.12964472, -8.12964472, -8.12964472,\n",
              "       -8.12964472, -8.12964472, -8.12964472, -8.12964472, -8.12964472,\n",
              "       -8.12964472, -8.12964472, -8.12964472, -8.12964472, -8.12964472,\n",
              "       -8.12964472, -8.12964472, -8.12964472, -8.12964472, -8.12964472,\n",
              "       -8.12964472, -8.12964472, -8.12964472, -8.12964472, -8.12964472,\n",
              "       -8.12964472, -8.12964472, -8.12964472, -8.12964472, -8.12964472,\n",
              "       -8.12964472, -8.12964472, -8.12964472, -8.12964472, -8.12964472,\n",
              "       -8.12964472, -8.12964472, -8.12964472, -8.12964472, -8.12964472,\n",
              "       -8.12964472, -8.12964472, -8.12964472, -8.12964472, -8.12964472,\n",
              "       -8.12964472, -8.12964472, -8.12964472, -8.12964472, -8.12964472,\n",
              "       -8.12964472, -8.12964472, -8.12964472, -8.12964472, -8.12964472,\n",
              "       -8.12964472, -8.12964472, -8.12964472, -8.12964472, -8.12964472,\n",
              "       -8.12964472, -8.12964472, -8.12964472, -8.12964472, -8.12964472,\n",
              "       -8.12964472, -8.12964472, -8.12964472, -8.12964472, -8.12964472,\n",
              "       -8.12964472, -8.12964472, -8.12964472, -8.12964472, -8.12964472,\n",
              "       -8.12964472, -8.12964472, -8.12964472, -8.12964472, -8.12964472,\n",
              "       -8.12964472, -8.12964472, -8.12964472, -8.12964472, -8.12964472,\n",
              "       -8.12964472, -8.12964472, -8.12964472, -8.12964472, -8.12964472,\n",
              "       -8.12964472, -8.12964472, -8.12964472, -8.12964472, -8.12964472,\n",
              "       -8.12964472, -8.12964472, -8.12964472, -8.12964472, -8.12964472,\n",
              "       -8.12964472, -8.12964472, -8.12964472, -8.12964472, -8.12964472,\n",
              "       -8.12964472, -8.12964472, -8.12964472, -8.12964472, -8.12964472,\n",
              "       -8.12964472, -8.12964472, -8.12964472, -8.12964472, -8.12964472,\n",
              "       -8.12964472, -8.12964472, -8.12964472, -8.12964472, -8.12964472,\n",
              "       -8.12964472, -8.12964472, -8.12964472, -8.12964472, -8.12964472,\n",
              "       -8.12964472, -8.12964472, -8.12964472, -8.12964472, -8.12964472,\n",
              "       -8.12964472, -8.12964472, -8.12964472, -8.12964472, -8.12964472,\n",
              "       -8.12964472, -8.12964472, -8.12964472, -8.12964472, -8.12964472,\n",
              "       -8.12964472, -8.12964472, -8.12964472, -8.12964472, -8.12964472,\n",
              "       -8.12964472, -8.12964472, -8.12964472, -8.12964472, -8.12964472,\n",
              "       -8.12964472, -8.12964472, -8.12964472, -8.12964472, -8.12964472,\n",
              "       -8.12964472, -8.12964472, -8.12964472, -8.12964472, -8.12964472,\n",
              "       -8.12964472, -8.12964472, -8.12964472, -8.12964472, -8.12964472,\n",
              "       -8.12964472, -8.12964472, -8.12964472, -8.12964472, -8.12964472,\n",
              "       -8.12964472, -8.12964472, -8.12964472, -8.12964472, -8.12964472,\n",
              "       -8.12964472, -8.12964472, -8.12964472, -8.12964472, -8.12964472,\n",
              "       -8.12964472, -8.12964472, -8.12964472, -8.12964472, -8.12964472,\n",
              "       -8.12964472, -8.12964472, -8.12964472, -8.12964472, -8.12964472,\n",
              "       -8.12964472, -8.12964472, -8.12964472, -8.12964472, -8.12964472,\n",
              "       -8.12964472, -8.12964472, -8.12964472, -8.12964472, -8.12964472,\n",
              "       -8.12964472, -8.12964472, -8.12964472, -8.12964472, -8.12964472,\n",
              "       -8.12964472, -8.12964472, -8.12964472, -8.12964472, -8.12964472,\n",
              "       -8.12964472, -8.12964472, -8.12964472, -8.12964472, -8.12964472,\n",
              "       -8.12964472, -8.12964472, -8.12964472, -8.12964472, -8.12964472,\n",
              "       -8.12964472, -8.12964472, -8.12964472, -8.12964472, -8.12964472,\n",
              "       -8.12964472, -8.12964472, -8.12964472, -8.12964472, -8.12964472,\n",
              "       -8.12964472, -8.12964472, -8.12964472, -8.12964472, -8.12964472,\n",
              "       -8.12964472, -8.12964472, -8.12964472, -8.12964472, -8.12964472,\n",
              "       -8.12964472, -8.12964472, -8.12964472, -8.12964472, -8.12964472,\n",
              "       -8.12964472, -8.12964472, -8.12964472, -8.12964472, -8.12964472,\n",
              "       -8.12964472, -8.12964472, -8.12964472, -8.12964472, -8.12964472,\n",
              "       -8.12964472, -8.12964472, -8.12964472, -8.12964472, -8.12964472,\n",
              "       -8.12964472, -8.12964472, -8.12964472, -8.12964472, -8.12964472,\n",
              "       -8.12964472, -8.12964472, -8.12964472, -8.12964472, -8.12964472,\n",
              "       -8.12964472, -8.12964472, -8.12964472, -8.12964472, -8.12964472,\n",
              "       -8.12964472, -8.12964472, -8.12964472, -8.12964472, -8.12964472,\n",
              "       -8.12964472, -8.12964472, -8.12964472, -8.12964472, -8.12964472,\n",
              "       -8.12964472, -8.12964472, -8.12964472, -8.12964472, -8.12964472,\n",
              "       -8.12964472, -8.12964472, -8.12964472, -8.12964472, -8.12964472,\n",
              "       -8.12964472, -8.12964472, -8.12964472, -8.12964472, -8.12964472,\n",
              "       -8.12964472, -8.12964472, -8.12964472, -8.12964472, -8.12964472,\n",
              "       -8.12964472, -8.12964472, -8.12964472, -8.12964472, -8.12964472,\n",
              "       -8.12964472, -8.12964472, -8.12964472, -8.12964472, -8.12964472,\n",
              "       -8.12964472, -8.12964472, -8.12964472, -8.12964472, -8.12964472,\n",
              "       -8.12964472, -8.12964472, -8.12964472, -8.12964472, -8.12964472,\n",
              "       -8.12964472, -8.12964472, -8.12964472, -8.12964472, -8.12964472,\n",
              "       -8.12964472, -8.12964472, -8.12964472, -8.12964472, -8.12964472,\n",
              "       -8.12964472, -8.12964472, -8.12964472, -8.12964472, -8.12964472,\n",
              "       -8.12964472, -8.12964472, -8.12964472, -8.12964472, -8.12964472,\n",
              "       -8.12964472, -8.12964472, -8.12964472, -8.12964472, -8.12964472,\n",
              "       -8.12964472, -8.12964472, -8.12964472, -8.12964472, -8.12964472,\n",
              "       -8.12964472, -8.12964472, -8.12964472, -8.12964472, -8.12964472,\n",
              "       -8.12964472, -8.12964472, -8.12964472, -8.12964472, -8.12964472,\n",
              "       -8.12964472, -8.12964472, -8.12964472, -8.12964472, -8.12964472,\n",
              "       -8.12964472, -8.12964472, -8.12964472, -8.12964472, -8.12964472,\n",
              "       -8.12964472, -8.12964472, -8.12964472, -8.12964472, -8.12964472,\n",
              "       -8.12964472, -8.12964472, -8.12964472, -8.12964472, -8.12964472,\n",
              "       -8.12964472, -8.12964472, -8.12964472, -8.12964472, -8.12964472,\n",
              "       -8.12964472, -8.12964472, -8.12964472, -8.12964472, -8.12964472,\n",
              "       -8.12964472, -8.12964472, -8.12964472, -8.12964472, -8.12964472,\n",
              "       -8.12964472, -8.12964472, -8.12964472, -8.12964472, -8.12964472,\n",
              "       -8.12964472, -8.12964472, -8.12964472, -8.12964472, -8.12964472,\n",
              "       -8.12964472, -8.12964472, -8.12964472, -8.12964472, -8.12964472,\n",
              "       -8.12964472, -8.12964472, -8.12964472, -8.12964472, -8.12964472,\n",
              "       -8.12964472, -8.12964472, -8.12964472, -8.12964472, -8.12964472,\n",
              "       -8.12964472, -8.12964472, -8.12964472, -8.12964472, -8.12964472,\n",
              "       -8.12964472, -8.12964472, -8.12964472, -8.12964472, -8.12964472,\n",
              "       -8.12964472, -8.12964472, -8.12964472, -8.12964472, -8.12964472,\n",
              "       -8.12964472, -8.12964472, -8.12964472, -8.12964472, -8.12964472,\n",
              "       -8.12964472, -8.12964472, -8.12964472, -8.12964472, -8.12964472,\n",
              "       -8.12964472, -8.12964472, -8.12964472, -8.12964472, -8.12964472,\n",
              "       -8.12964472, -8.12964472, -8.12964472, -8.12964472, -8.12964472,\n",
              "       -8.12964472, -8.12964472, -8.12964472, -8.12964472, -8.12964472,\n",
              "       -8.12964472, -8.12964472, -8.12964472, -8.12964472, -8.12964472,\n",
              "       -8.12964472, -8.12964472, -8.12964472, -8.12964472, -8.12964472,\n",
              "       -8.12964472, -8.12964472, -8.12964472, -8.12964472, -8.12964472,\n",
              "       -8.12964472, -8.12964472, -8.12964472, -8.12964472, -8.12964472,\n",
              "       -8.12964472, -8.12964472, -8.12964472, -8.12964472, -8.12964472,\n",
              "       -8.12964472, -8.12964472, -8.12964472, -8.12964472, -8.12964472,\n",
              "       -8.12964472, -8.12964472, -8.12964472, -8.12964472, -8.12964472,\n",
              "       -8.12964472, -8.12964472, -8.12964472, -8.12964472, -8.12964472,\n",
              "       -8.12964472, -8.12964472, -8.12964472, -8.12964472, -8.12964472,\n",
              "       -8.12964472, -8.12964472, -8.12964472, -8.12964472, -8.12964472,\n",
              "       -8.12964472, -8.12964472, -8.12964472, -8.12964472, -8.12964472,\n",
              "       -8.12964472, -8.12964472, -8.12964472, -8.12964472, -8.12964472,\n",
              "       -8.12964472, -8.12964472, -8.12964472, -8.12964472, -8.12964472,\n",
              "       -8.12964472, -8.12964472, -8.12964472, -8.12964472, -8.12964472,\n",
              "       -8.12964472, -8.12964472, -8.12964472, -8.12964472, -8.12964472,\n",
              "       -8.12964472, -8.12964472, -8.12964472, -8.12964472, -8.12964472,\n",
              "       -8.12964472, -8.12964472, -8.12964472, -8.12964472, -8.12964472,\n",
              "       -8.12964472, -8.12964472, -8.12964472, -8.12964472, -8.12964472,\n",
              "       -8.12964472, -8.12964472, -8.12964472, -8.12964472, -8.12964472,\n",
              "       -8.12964472, -8.12964472, -8.12964472, -8.12964472, -8.12964472,\n",
              "       -8.12964472, -8.12964472, -8.12964472, -8.12964472, -8.12964472,\n",
              "       -8.12964472, -8.12964472, -8.12964472, -8.12964472, -8.12964472,\n",
              "       -8.12964472, -8.12964472, -8.12964472, -8.12964472, -8.12964472,\n",
              "       -8.12964472, -8.12964472, -8.12964472, -8.12964472, -8.12964472,\n",
              "       -8.12964472, -8.12964472, -8.12964472, -8.12964472, -8.12964472])"
            ]
          },
          "metadata": {
            "tags": []
          },
          "execution_count": 337
        }
      ]
    },
    {
      "cell_type": "code",
      "metadata": {
        "id": "2Us0c2nagIp_",
        "colab_type": "code",
        "colab": {
          "base_uri": "https://localhost:8080/",
          "height": 608
        },
        "outputId": "f56f8a76-1866-4ff4-e8a4-1bd0b12b2855"
      },
      "source": [
        "B_graph = B_mat[1, :]/B_star\n",
        "K_graph = K_mat[1, :]/K_star\n",
        "q_graph = q_mat[1, :]/q_star\n",
        "\n",
        "plt.figure(1, figsize=(15,10))\n",
        "plt.plot(time, B_graph, alpha=0.8, label='$B_t/B^*$')\n",
        "plt.plot(time, K_graph, alpha=0.8, label='$K_t/K^*$')\n",
        "plt.plot(time, q_graph, alpha=0.8, label='$q_t/q^*$')\n",
        "plt.xlabel(\"$\\mathrm{t}$\")\n",
        "plt.legend()\n",
        "plt.grid()\n",
        "#lt.xlim(0, 40)\n",
        "#plt.ylim(-20, 20)"
      ],
      "execution_count": 362,
      "outputs": [
        {
          "output_type": "display_data",
          "data": {
            "image/png": "[encoded data removed]",
            "text/plain": [
              "<Figure size 1080x720 with 1 Axes>"
            ]
          },
          "metadata": {
            "tags": []
          }
        }
      ]
    },
    {
      "cell_type": "code",
      "metadata": {
        "id": "r2PUVKdsNKlv",
        "colab_type": "code",
        "colab": {}
      },
      "source": [
        ""
      ],
      "execution_count": 0,
      "outputs": []
    },
    {
      "cell_type": "code",
      "metadata": {
        "id": "Ze0DO4jK7VCe",
        "colab_type": "code",
        "colab": {}
      },
      "source": [
        "q"
      ],
      "execution_count": 0,
      "outputs": []
    },
    {
      "cell_type": "code",
      "metadata": {
        "id": "kKWqmsTjg5mr",
        "colab_type": "code",
        "colab": {}
      },
      "source": [
        "for t in range(1, periods):\n",
        "  def f(variables):\n",
        "    (q_tplus1, K_t, B_t) = variables\n",
        "    first_eq = q_tplus1 - R*(q[t] - K_t - v)\n",
        "    sec_eq = K_t - (1 - π)*λ*K[t-1] - ((π)/(ϕ + q[t] - (1/R)*q_tplus1))*( (a_t[t] + q[t] + λ*ϕ)*K[t-1] - R*B[t-1])\n",
        "    third_eq = B_t - R*B[t] - q[t]*(K[t]-K[t-1]) - ϕ*(K[t]-λ*K[t-1]) + a_t[t]*K[t-1]\n",
        "    return [first_eq, sec_eq, third_eq]\n",
        "\n",
        "  solution = opt.fsolve(f, (0, 0, 0))\n",
        "  print(solution)\n",
        "\n",
        "  q[t+1], K[t], B[t] = solution"
      ],
      "execution_count": 0,
      "outputs": []
    },
    {
      "cell_type": "code",
      "metadata": {
        "id": "WFvwPv0apItx",
        "colab_type": "code",
        "colab": {}
      },
      "source": [
        "plt.plot(time, B, alpha=0.5)\n",
        "plt.plot(time, K, alpha=0.5)\n",
        "plt.plot(time, q, alpha=0.5)"
      ],
      "execution_count": 0,
      "outputs": []
    },
    {
      "cell_type": "code",
      "metadata": {
        "id": "X3vOExygqKwR",
        "colab_type": "code",
        "colab": {}
      },
      "source": [
        ""
      ],
      "execution_count": 0,
      "outputs": []
    }
  ]
}