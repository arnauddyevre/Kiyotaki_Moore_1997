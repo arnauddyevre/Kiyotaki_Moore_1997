{
  "nbformat": 4,
  "nbformat_minor": 0,
  "metadata": {
    "colab": {
      "name": "Copy of EC539_assignment1_Dyevre.ipynb",
      "provenance": [],
      "collapsed_sections": [],
      "include_colab_link": true
    },
    "kernelspec": {
      "name": "python3",
      "display_name": "Python 3"
    }
  },
  "cells": [
    {
      "cell_type": "markdown",
      "metadata": {
        "id": "view-in-github",
        "colab_type": "text"
      },
      "source": [
        "<a href=\"https://colab.research.google.com/github/arnauddyevre/ec539_assignment1/blob/master/EC539_assignment1_Dyevre.ipynb\" target=\"_parent\"><img src=\"https://colab.research.google.com/assets/colab-badge.svg\" alt=\"Open In Colab\"/></a>"
      ]
    },
    {
      "cell_type": "markdown",
      "metadata": {
        "id": "2SnqTwDbrGso",
        "colab_type": "text"
      },
      "source": [
        "# EC539 - Assignment 1\n",
        "Reproduction of the numerical results in *N. Kiyotaki & J. Moore* \"Credit Cycles\" (1997) \n",
        "\n",
        "*Sunday, January 06*\n",
        "\n",
        "[![Open In Colab](https://colab.research.google.com/assets/colab-badge.svg)](https://colab.research.google.com/github/arnauddyevre/Python-for-Social-Scientists/blob/master/statistics_and_econometrics/time_series/time_series.ipynb)\n",
        "\n",
        "This Notebook presents the tools we need to analyse time series in Python.\n",
        "\n",
        "We first review some essential results about covariance stationarity and strict stationarity, MA, AR and ARMA processes. We then use the `statsmodels` library to decompose seasonal time series into trends and cyclical components, we show how to do time series forecasting and how to use common filters. Finally, we implement tests of unit roots in `statsmodels`.\n",
        "\n",
        "Some familiarity with time-series is required.\n",
        "\n",
        "### Content\n",
        "\n",
        "- [1. Setup](#1.-Setup)\n",
        "    - [1.1. Parameter values](#1.1.-Parameter-values)\n",
        "    - [1.2. Model equilibrium](#1.2.-Model-equilibrium)\n",
        "    - [1.3. Wold's decomposition theorem](#1.3.-Wold's-decomposition-theorem)\n",
        "    - [1.4. AR(p) processes](#1.4.-AR(p)-processes)\n",
        "    - [1.5. MA(p) processes](#1.5.-MA(q)-processes)\n",
        "    - [1.6. ARMA(p, q) processes](#1.6.-ARMA(p,-q)-processes)\n",
        "- [2. Time series in statsmodels](#2.-Time-series-in-statsmodels)\n",
        "    - [2.1. Seasonal decomposition](#2.1.-Seasonal-decomposition)\n",
        "    - [2.2. Time series forecasting](#2.2.-Time-series-forecasting)\n",
        "    - [2.3. Time series filters](#2.3.-Time-series-filters)\n",
        "    - [2.4. Tests of stationarity and unit roots](#2.4.-Tests-of-stationarity-and-unit-roots)"
      ]
    },
    {
      "cell_type": "markdown",
      "metadata": {
        "id": "EP1dTYh3rE8J",
        "colab_type": "text"
      },
      "source": [
        ""
      ]
    },
    {
      "cell_type": "markdown",
      "metadata": {
        "id": "8n9bFvdSNl8L",
        "colab_type": "text"
      },
      "source": [
        "### 1. Setup\n",
        "\n",
        "### 1.1. Assumptions\n",
        "\n",
        "#### 1.2. Parameter values\n",
        "\n",
        "$R = 1.01 \\\\\n",
        "\\lambda = 0.975\\\\\n",
        "u(K) = K - v\\\\\n",
        "\\eta = 0.10 \\\\\n",
        "a = 1\\\\\n",
        "\\pi = 0.1\\\\\n",
        "\\phi = 20\\\\\n",
        "\\Delta = 0.01\\\\\n",
        "c = 1$\n",
        "\n",
        "#### 1.3. Model equilibrium\n",
        "\n",
        "*(1) Land market equilibrium condition*\n",
        "$$q_{t+1}= R(q_{t} - u\\left(K_{t}\\right))$$\n",
        "\n",
        "*(2) Law of motion of the farmers' aggregate landholding*\n",
        "$$\\begin{equation}\n",
        "K_{t}=(1-\\pi) \\lambda K_{t-1} +\\frac{\\pi}{\\phi + q_t - \\frac{1}{R} q_{t+1}}\\left[\\left(a+q_{t}+\\lambda \\phi\\right) K_{t-1}-R B_{t-1}\\right]\n",
        "\\end{equation}$$\n",
        "\n",
        "*(3) Law of motion of the farmers' aggregate debt*\n",
        "$$B_{t}=R B_{t-1}+q_{t}\\left(K_{t}-K_{t-1}\\right)+\\phi\\left(K_{t}-\\lambda K_{t-1}\\right)-a K_{t-1}$$\n",
        "\n",
        "Where:\n",
        "\n",
        "- $ q_t = $ price of land \n",
        "- $K_t=$ landholding of farmers\n",
        "- $ B_t = $ aggregate debt of farmers\n",
        "- $R_t = R = $ constant rate of interest\n",
        "- $u(.) =$ downpayment required for the purchase of $K_t$ units or land (or opportunity cost of holding land)\n",
        "- $a = $ constant proportional to the share of tradeable fruit\n",
        "- $\\lambda =$ fraction of trees surviving after one period\n",
        "- $\\pi = $ probability that a new opportunity to plant tree arises\n",
        "- $\\phi = $ amount of trees created with one fruit  \n",
        "\n",
        "I simulate this non-linear model.\n",
        "\n",
        "#### 1.4. (No NEED!) Linearisation around the steady state\n",
        "\n",
        "Equations (1), (2) and (3) form a nonlinear system that I need to solve for $(K_{t}^{*}, B_{t}^*, q_{t}^*)$. I linearise the model around its steady state\n",
        "\n",
        "*Steady state*\n",
        "$$\\begin{align} \n",
        "\\frac{R-1}{R} q^{*}=u^{*} & =\\frac{\\pi a-(1-\\lambda)(1-R+\\pi R) \\phi}{\\lambda \\pi+(1-\\lambda)(1-R+\\pi R)} \\\\\n",
        "u^{*} & =\\frac{1}{R} G^{\\prime}\\left[\\frac{1}{m}\\left(\\bar{K}-K^{*}\\right)\\right] \\\\\n",
        "B^{*} & =\\frac{1}{R-1}(a-\\phi+\\lambda \\phi) K^{*}\n",
        "\\end{align}$$\n",
        "\n",
        "To find the steady state value of $K$, we instead use (1): $$K^* = \\frac{R - 1}{R} q^* + v$$ \n",
        "\n",
        "In the text of the paper, $\\eta$ is defined as the elasticity of the residual supply of land to the farmers with respect to the user/opportunity cost in the steady state. We can thus calculate $v$ in the expression of $u(K) = K - v$ that we are assuming.\n",
        "\n",
        "$$ \\dfrac{1}{\\eta} = \\left . \\dfrac{\\mathrm{d} \\log(K - v)}{\\mathrm{d} log(K)} \\right|_{K = K^*} = \\left.\\dfrac{\\mathrm{d} (K - v)}{\\mathrm{d}K}\\right|_{K=K^*} \\dfrac{K^*}{K^*-v} = \\dfrac{K^*}{K^*-v} $$\n",
        "\n",
        "So $v = K^*(1 - \\eta)$ and $K^* = \\frac{R - 1}{R} \\dfrac{q^*}{\\eta}$\n",
        "\n",
        "#### 1.5. Impact of a small change in productivity\n",
        "\n",
        "\n"
      ]
    },
    {
      "cell_type": "code",
      "metadata": {
        "id": "wb-ME2HVe5b7",
        "colab_type": "code",
        "colab": {}
      },
      "source": [
        "#Necessary modules\n",
        "import numpy as np\n",
        "import matplotlib.pyplot as plt\n",
        "import pandas as pd\n",
        "import statsmodels as sm\n",
        "import scipy.optimize as opt\n",
        "#%matplotlib nbagg"
      ],
      "execution_count": 0,
      "outputs": []
    },
    {
      "cell_type": "code",
      "metadata": {
        "id": "NHIqX1T8gM_0",
        "colab_type": "code",
        "colab": {
          "base_uri": "https://localhost:8080/",
          "height": 34
        },
        "outputId": "7f14aff1-29c8-4078-9cbd-2ffc6915912e"
      },
      "source": [
        "#Setting timeline\n",
        "periods = 100                                        \n",
        "time = np.linspace(0, 100, 100)\n",
        "\n",
        "#Vectors of variable of interest\n",
        "B = np.zeros(periods)\n",
        "q = np.zeros(periods)\n",
        "K = np.zeros(periods)\n",
        "\n",
        "#Parameter values\n",
        "R = 1.01\n",
        "λ = 0.975\n",
        "v = 1.0\n",
        "η = 0.10\n",
        "a = 1.0\n",
        "Δa = 0.01\n",
        "π = 0.1\n",
        "ϕ = 20.0\n",
        "Δ = 0.01\n",
        "c = 1.0\n",
        "\n",
        "#Finding the steady state values\n",
        "q_star = (R/(R-1))* (π*a - (1-λ)*(1 - R + π*R)*ϕ) / (λ*π + (1-λ)*(1 - R + π*R))\n",
        "K_star = ((R-1)/R)*(q_star/η)\n",
        "B_star = (1/(R-1))*(a - ϕ + λ*ϕ)*K_star\n",
        "q_star, K_star, B_star"
      ],
      "execution_count": 71,
      "outputs": [
        {
          "output_type": "execute_result",
          "data": {
            "text/plain": [
              "(55.1691305437233, 5.462290152843895, 273.11450764219455)"
            ]
          },
          "metadata": {
            "tags": []
          },
          "execution_count": 71
        }
      ]
    },
    {
      "cell_type": "code",
      "metadata": {
        "id": "ZENObO4T0pb6",
        "colab_type": "code",
        "colab": {
          "base_uri": "https://localhost:8080/",
          "height": 34
        },
        "outputId": "65f17791-df0a-42de-cc62-22ac6d9b8b2a"
      },
      "source": [
        "#Calculating the values of q, B and K after the productivity shock (need to solve non-linear equations for each period)\n",
        "a_t = np.ones(periods)\n",
        "a_t[0] = a + Δa\n",
        "B[0], q[0], K[0] = B_star, q_star, K_star\n",
        "B[0]"
      ],
      "execution_count": 72,
      "outputs": [
        {
          "output_type": "execute_result",
          "data": {
            "text/plain": [
              "273.11450764219455"
            ]
          },
          "metadata": {
            "tags": []
          },
          "execution_count": 72
        }
      ]
    },
    {
      "cell_type": "code",
      "metadata": {
        "id": "BQzXDcaOCipX",
        "colab_type": "code",
        "colab": {}
      },
      "source": [
        "#t = 1\n",
        "\n",
        "#def f(variables):\n",
        "#  (q_tplus1, K_t, B_t) = variables\n",
        "#  first_eq = q_tplus1 - R*(q[t] - K[t-1] - v)\n",
        "#  sec_eq = K_t - (1 - π)*λ*K[t-1] - ((π)/(ϕ + q[t] - (1/R)*q_tplus1))*( (a_t[t] + q[t] + λ*ϕ)*K[t-1] - R*B[t-1])\n",
        "#  third_eq = B_t - R*B[t] - q[t]*(K[t]-K[t-1]) - ϕ*(K[t]-λ*K[t-1]) + a_t[t]*K[t-1]\n",
        "#  return [first_eq, sec_eq, third_eq]\n",
        "          \n",
        "#solution = opt.fsolve(f, (0, 0, 0))\n",
        "#print(solution)"
      ],
      "execution_count": 0,
      "outputs": []
    },
    {
      "cell_type": "code",
      "metadata": {
        "id": "kKWqmsTjg5mr",
        "colab_type": "code",
        "colab": {
          "base_uri": "https://localhost:8080/",
          "height": 1000
        },
        "outputId": "4c1e3b5e-c32f-44c2-cae3-d5682edd970b"
      },
      "source": [
        "for t in range(1, periods):\n",
        "  def f(variables):\n",
        "    (q_tplus1, K_t, B_t) = variables\n",
        "    first_eq = q_tplus1 - R*(q[t] - K[t-1] - v)\n",
        "    sec_eq = K_t - (1 - π)*λ*K[t-1] - ((π)/(ϕ + q[t] - (1/R)*q_tplus1))*( (a_t[t] + q[t] + λ*ϕ)*K[t-1] - R*B[t-1])\n",
        "    third_eq = B_t - R*B[t] - q[t]*(K[t]-K[t-1]) - ϕ*(K[t]-λ*K[t-1]) + a_t[t]*K[t-1]\n",
        "    return [first_eq, sec_eq, third_eq]\n",
        "\n",
        "  solution = opt.fsolve(f, (0, 0, 0))\n",
        "  print(solution)\n",
        "\n",
        "  q[t], K[t], B[t] = solution"
      ],
      "execution_count": 74,
      "outputs": [
        {
          "output_type": "stream",
          "text": [
            "[  -6.52691305    4.17390593 -111.97694813]\n",
            "[ -5.22564499   4.45176005 -85.56507162]\n",
            "[ -5.50627765   4.60453149 -91.26108093]\n",
            "[ -5.6605768    4.76912313 -94.3928955 ]\n",
            "[ -5.82681436   4.9342669  -97.76702423]\n",
            "[  -5.99360957    5.10060315 -101.15247142]\n",
            "[  -6.16160918    5.26781598 -104.56236457]\n",
            "[  -6.33049414    5.43566412 -107.99022764]\n",
            "[  -6.50002076    5.60390045 -111.43111449]\n",
            "[  -6.66993945    5.77227994 -114.8799592 ]\n",
            "[  -6.84000274    5.94056056 -118.33173883]\n",
            "[  -7.00996616    6.10850457 -121.7814914 ]\n",
            "[  -7.17958962    6.27587983 -125.22434372]\n",
            "[  -7.34863863    6.44246088 -128.65553658]\n",
            "[  -7.51688549    6.60802999 -132.07044811]\n",
            "[  -7.68411029    6.77237809 -135.4646149 ]\n",
            "[  -7.85010187    6.93530556 -138.83375088]\n",
            "[  -8.01465861    7.09662292 -142.17376393]\n",
            "[  -8.17758915    7.25615145 -145.48076996]\n",
            "[  -8.33871296    7.41372355 -148.75110464]\n",
            "[  -8.49786079    7.56918319 -151.98133278]\n",
            "[  -8.65487502    7.72238606 -155.16825534]\n",
            "[  -8.80960992    7.87319976 -158.30891425]\n",
            "[  -8.96193176    8.02150381 -161.40059515]\n",
            "[  -9.11171885    8.16718958 -164.44082808]\n",
            "[  -9.25886148    8.31016021 -167.42738646]\n",
            "[  -9.40326181    8.45033034 -170.35828428]\n",
            "[  -9.54483364    8.58762587 -173.23177189]\n",
            "[  -9.68350213    8.72198366 -176.04633044]\n",
            "[  -9.8192035     8.85335109 -178.80066509]\n",
            "[  -9.9518846     8.98168568 -181.49369735]\n",
            "[ -10.08150254    9.10695464 -184.12455647]\n",
            "[ -10.20802419    9.22913439 -186.69257019]\n",
            "[ -10.33142573    9.34821005 -189.197255  ]\n",
            "[ -10.45169215    9.46417493 -191.63830593]\n",
            "[ -10.56881668    9.57703005 -194.01558608]\n",
            "[ -10.68280035    9.68678357 -196.32911605]\n",
            "[ -10.79365141    9.7934503  -198.57906321]\n",
            "[ -10.9013848     9.89705117 -200.7657311 ]\n",
            "[ -11.00602168    9.99761273 -202.8895489 ]\n",
            "[ -11.10758886   10.0951667  -204.95106106]\n",
            "[ -11.20611836   10.18974939 -206.95091725]\n",
            "[ -11.30164689   10.28140136 -208.88986253]\n",
            "[ -11.39421538   10.37016689 -210.76872792]\n",
            "[ -11.48386856   10.4560936  -212.5884213 ]\n",
            "[ -11.57065453   10.53923201 -214.34991874]\n",
            "[ -11.65462433   10.61963521 -216.05425621]\n",
            "[ -11.73583156   10.69735845 -217.70252181]\n",
            "[ -11.81433204   10.77245884 -219.2958483 ]\n",
            "[ -11.89018343   10.84499499 -220.83540623]\n",
            "[ -11.96344494   10.91502676 -222.32239736]\n",
            "[ -12.03417703   10.98261496 -223.75804865]\n",
            "[ -12.10244111   11.04782108 -225.14360663]\n",
            "[ -12.16829929   11.1107071  -226.48033211]\n",
            "[ -12.23181417   11.17133522 -227.76949545]\n",
            "[ -12.29304858   11.22976773 -229.0123721 ]\n",
            "[ -12.35206541   11.28606677 -230.21023856]\n",
            "[ -12.40892743   11.34029417 -231.36436872]\n",
            "[ -12.46369711   11.39251136 -232.4760305 ]\n",
            "[ -12.51643647   11.44277917 -233.54648286]\n",
            "[ -12.56720697   11.49115777 -234.57697309]\n",
            "[ -12.61606935   11.53770652 -235.56873438]\n",
            "[ -12.66308359   11.5824839  -236.52298373]\n",
            "[ -12.70830874   11.62554743 -237.44092   ]\n",
            "[ -12.7518029    11.66695359 -238.32372231]\n",
            "[ -12.79362313   11.70675777 -239.17254859]\n",
            "[ -12.83382535   11.74501423 -239.98853438]\n",
            "[ -12.87246438   11.78177603 -240.77279177]\n",
            "[ -12.90959379   11.81709501 -241.52640858]\n",
            "[ -12.94526596   11.85102176 -242.25044762]\n",
            "[ -12.97953198   11.88360564 -242.94594618]\n",
            "[ -13.01244169   11.91489468 -243.61391557]\n",
            "[ -13.04404362   11.94493565 -244.2553409 ]\n",
            "[ -13.07438501   11.97377402 -244.8711808 ]\n",
            "[ -13.10351176   12.00145397 -245.46236743]\n",
            "[ -13.13146851   12.02801839 -246.02980643]\n",
            "[ -13.15829858   12.05350889 -246.57437703]\n",
            "[ -13.18404398   12.0779658  -247.09693222]\n",
            "[ -13.20874546   12.10142822 -247.59829895]\n",
            "[ -13.2324425    12.12393397 -248.07927844]\n",
            "[ -13.25517331   12.1455197  -248.54064649]\n",
            "[ -13.2769749    12.16622082 -248.98315388]\n",
            "[ -13.29788303   12.18607157 -249.40752677]\n",
            "[ -13.31793228   12.20510504 -249.81446715]\n",
            "[ -13.33715609   12.22335319 -250.2046533 ]\n",
            "[ -13.35558672   12.24084686 -250.57874032]\n",
            "[ -13.37325533   12.25761583 -250.93736061]\n",
            "[ -13.39019198   12.2736888  -251.28112442]\n",
            "[ -13.40642569   12.28909347 -251.61062039]\n",
            "[ -13.4219844    12.30385652 -251.92641611]\n",
            "[ -13.43689508   12.31800367 -252.22905865]\n",
            "[ -13.4511837    12.33155968 -252.51907516]\n",
            "[ -13.46487528   12.34454841 -252.79697341]\n",
            "[ -13.47799389   12.35699281 -253.06324233]\n",
            "[ -13.49056274   12.36891499 -253.31835261]\n",
            "[ -13.50260414   12.3803362  -253.56275726]\n",
            "[ -13.51413956   12.39127689 -253.79689209]\n",
            "[ -13.52518966   12.40175674 -254.02117634]\n",
            "[ -13.53577431   12.41179464 -254.23601315]\n"
          ],
          "name": "stdout"
        }
      ]
    },
    {
      "cell_type": "code",
      "metadata": {
        "id": "WFvwPv0apItx",
        "colab_type": "code",
        "colab": {
          "base_uri": "https://localhost:8080/",
          "height": 34
        },
        "outputId": "3c442c90-2d1c-4b6c-f349-818427fd3a7b"
      },
      "source": [
        "plt.figure(1, figsize=(15,8))\n",
        "plt.plot(K, time, alpha=0.5, label='White noise')"
      ],
      "execution_count": 77,
      "outputs": [
        {
          "output_type": "execute_result",
          "data": {
            "text/plain": [
              "[<matplotlib.lines.Line2D at 0x7f67f11ea8d0>]"
            ]
          },
          "metadata": {
            "tags": []
          },
          "execution_count": 77
        }
      ]
    },
    {
      "cell_type": "code",
      "metadata": {
        "id": "X3vOExygqKwR",
        "colab_type": "code",
        "colab": {}
      },
      "source": [
        ""
      ],
      "execution_count": 0,
      "outputs": []
    }
  ]
}