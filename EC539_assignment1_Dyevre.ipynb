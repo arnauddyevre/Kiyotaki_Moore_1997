{
  "nbformat": 4,
  "nbformat_minor": 0,
  "metadata": {
    "colab": {
      "name": "Copy of EC539_assignment1_Dyevre.ipynb",
      "provenance": [],
      "collapsed_sections": [],
      "include_colab_link": true
    },
    "kernelspec": {
      "name": "python3",
      "display_name": "Python 3"
    }
  },
  "cells": [
    {
      "cell_type": "markdown",
      "metadata": {
        "id": "view-in-github",
        "colab_type": "text"
      },
      "source": [
        "<a href=\"https://colab.research.google.com/github/arnauddyevre/ec539_assignment1/blob/master/EC539_assignment1_Dyevre.ipynb\" target=\"_parent\"><img src=\"https://colab.research.google.com/assets/colab-badge.svg\" alt=\"Open In Colab\"/></a>"
      ]
    },
    {
      "cell_type": "markdown",
      "metadata": {
        "id": "2SnqTwDbrGso",
        "colab_type": "text"
      },
      "source": [
        "# EC539 - Assignment 1\n",
        "Reproduction of the numerical results in *N. Kiyotaki & J. Moore* \"Credit Cycles\" (1997) \n",
        "\n",
        "*Sunday, January 06*\n",
        "\n",
        "[![Open In Colab](https://colab.research.google.com/assets/colab-badge.svg)](https://colab.research.google.com/github/arnauddyevre/Python-for-Social-Scientists/blob/master/statistics_and_econometrics/time_series/time_series.ipynb)\n",
        "\n",
        "This Notebook presents the tools we need to analyse time series in Python.\n",
        "\n",
        "We first review some essential results about covariance stationarity and strict stationarity, MA, AR and ARMA processes. We then use the `statsmodels` library to decompose seasonal time series into trends and cyclical components, we show how to do time series forecasting and how to use common filters. Finally, we implement tests of unit roots in `statsmodels`.\n",
        "\n",
        "Some familiarity with time-series is required.\n",
        "\n",
        "### Content\n",
        "\n",
        "- [1. Setup](#1.-Setup)\n",
        "    - [1.1. Parameter values](#1.1.-Parameter-values)\n",
        "    - [1.2. Model equilibrium](#1.2.-Model-equilibrium)\n",
        "    - [1.3. Wold's decomposition theorem](#1.3.-Wold's-decomposition-theorem)\n",
        "    - [1.4. AR(p) processes](#1.4.-AR(p)-processes)\n",
        "    - [1.5. MA(p) processes](#1.5.-MA(q)-processes)\n",
        "    - [1.6. ARMA(p, q) processes](#1.6.-ARMA(p,-q)-processes)\n",
        "- [2. Time series in statsmodels](#2.-Time-series-in-statsmodels)\n",
        "    - [2.1. Seasonal decomposition](#2.1.-Seasonal-decomposition)\n",
        "    - [2.2. Time series forecasting](#2.2.-Time-series-forecasting)\n",
        "    - [2.3. Time series filters](#2.3.-Time-series-filters)\n",
        "    - [2.4. Tests of stationarity and unit roots](#2.4.-Tests-of-stationarity-and-unit-roots)"
      ]
    },
    {
      "cell_type": "markdown",
      "metadata": {
        "id": "EP1dTYh3rE8J",
        "colab_type": "text"
      },
      "source": [
        ""
      ]
    },
    {
      "cell_type": "markdown",
      "metadata": {
        "id": "8n9bFvdSNl8L",
        "colab_type": "text"
      },
      "source": [
        "### 1. Setup\n",
        "\n",
        "### 1.1. Assumptions\n",
        "\n",
        "#### 1.2. Parameter values\n",
        "\n",
        "$R = 1.01 \\\\\n",
        "\\lambda = 0.975\\\\\n",
        "u(K) = K - v\\\\\n",
        "\\eta = 0.10 \\\\\n",
        "a = 1\\\\\n",
        "\\pi = 0.1\\\\\n",
        "\\phi = 20\\\\\n",
        "\\Delta = 0.01\\\\\n",
        "c = 1$\n",
        "\n",
        "#### 1.3. Model equilibrium\n",
        "\n",
        "*(1) Land market equilibrium condition*\n",
        "$$q_{t+1}= R(q_{t} - u\\left(K_{t}\\right))$$\n",
        "\n",
        "*(2) Law of motion of the farmers' aggregate landholding*\n",
        "$$\\begin{equation}\n",
        "K_{t}=(1-\\pi) \\lambda K_{t-1} +\\frac{\\pi}{\\phi + q_t - \\frac{1}{R} q_{t+1}}\\left[\\left(a+q_{t}+\\lambda \\phi\\right) K_{t-1}-R B_{t-1}\\right]\n",
        "\\end{equation}$$\n",
        "\n",
        "*(3) Law of motion of the farmers' aggregate debt*\n",
        "$$B_{t}=R B_{t-1}+q_{t}\\left(K_{t}-K_{t-1}\\right)+\\phi\\left(K_{t}-\\lambda K_{t-1}\\right)-a K_{t-1}$$\n",
        "\n",
        "Where:\n",
        "\n",
        "- $ q_t = $ price of land \n",
        "- $K_t=$ landholding of farmers\n",
        "- $ B_t = $ aggregate debt of farmers\n",
        "- $R_t = R = $ constant rate of interest\n",
        "- $u(.) =$ downpayment required for the purchase of $K_t$ units or land (or opportunity cost of holding land)\n",
        "- $a = $ constant proportional to the share of tradeable fruit\n",
        "- $\\lambda =$ fraction of trees surviving after one period\n",
        "- $\\pi = $ probability that a new opportunity to plant tree arises\n",
        "- $\\phi = $ amount of trees created with one fruit  \n",
        "\n",
        "I simulate this non-linear model.\n",
        "\n",
        "#### 1.4. (No NEED!) Linearisation around the steady state\n",
        "\n",
        "Equations (1), (2) and (3) form a nonlinear system that I need to solve for $(K_{t}^{*}, B_{t}^*, q_{t}^*)$. I linearise the model around its steady state\n",
        "\n",
        "*Steady state*\n",
        "$$\\begin{align} \n",
        "\\frac{R-1}{R} q^{*}=u^{*} & =\\frac{\\pi a-(1-\\lambda)(1-R+\\pi R) \\phi}{\\lambda \\pi+(1-\\lambda)(1-R+\\pi R)} \\\\\n",
        "u^{*} & =\\frac{1}{R} G^{\\prime}\\left[\\frac{1}{m}\\left(\\bar{K}-K^{*}\\right)\\right] \\\\\n",
        "B^{*} & =\\frac{1}{R-1}(a-\\phi+\\lambda \\phi) K^{*}\n",
        "\\end{align}$$\n",
        "\n",
        "To find the steady state value of $K$, we instead use (1): $$K^* = \\frac{R - 1}{R} q^* + \\nu$$ \n",
        "\n",
        "\n",
        "In the text of the paper, $\\eta$ is defined as the elasticity of the residual supply of land to the farmers with respect to the user/opportunity cost in the steady state. We can thus calculate $v$ in the expression of $u(K) = K - v$ that we are assuming.\n",
        "\n",
        "$$ \\dfrac{1}{\\eta} = \\left . \\dfrac{\\mathrm{d} \\log(K - \\nu)}{\\mathrm{d} log(K)} \\right|_{K = K^*} = \\left.\\dfrac{\\mathrm{d} (K - \\nu)}{\\mathrm{d}K}\\right|_{K=K^*} \\dfrac{K^*}{K^*-\\nu} = \\dfrac{K^*}{K^*-\\nu} $$\n",
        "\n",
        "So $v = K^*(1 - \\eta)$ and $K^* = \\frac{R - 1}{R} \\dfrac{q^*}{\\eta}$\n",
        "\n",
        "#### 1.5. Impact of a small change in productivity\n",
        "\n",
        "\n"
      ]
    },
    {
      "cell_type": "code",
      "metadata": {
        "id": "wb-ME2HVe5b7",
        "colab_type": "code",
        "colab": {}
      },
      "source": [
        "#Necessary modules\n",
        "import numpy as np\n",
        "import matplotlib.pyplot as plt\n",
        "import pandas as pd\n",
        "import statsmodels as sm\n",
        "import scipy.optimize as opt\n",
        "#%matplotlib nbagg"
      ],
      "execution_count": 0,
      "outputs": []
    },
    {
      "cell_type": "code",
      "metadata": {
        "id": "NHIqX1T8gM_0",
        "colab_type": "code",
        "outputId": "6fbf1781-c487-4291-e2b4-0db921440d87",
        "colab": {
          "base_uri": "https://localhost:8080/",
          "height": 34
        }
      },
      "source": [
        "#Setting timeline\n",
        "periods = 1000\n",
        "time = np.linspace(0, 1000, 1000)                                    \n",
        "trials = 1000\n",
        "\n",
        "#Vectors of variable of interest\n",
        "B = np.zeros(periods)\n",
        "q = np.zeros(periods)\n",
        "K = np.zeros(periods)\n",
        "\n",
        "#Parameter values\n",
        "R = 1.01\n",
        "λ = 0.975\n",
        "#ν = 2.0\n",
        "#ν = 4.91606\n",
        "η = 0.10\n",
        "a = 1.0\n",
        "Δa = 0.01\n",
        "π = 0.1\n",
        "ϕ = 20.0\n",
        "c = 1.0\n",
        "\n",
        "#Finding the steady state values\n",
        "q_star = (R/(R-1))*(π*a - (1-λ)*(1 - R + π*R)*ϕ) / (λ*π + (1-λ)*(1 - R + π*R))\n",
        "ν = ((R -1)/R)*(q_star/η)\n",
        "#K_star = ((R-1)/R)*q_star + ν\n",
        "K_star = ((R-1)/R)*q_star + ν\n",
        "B_star = (1/(R-1))*(a - ϕ + λ*ϕ)*K_star\n",
        "q_star, K_star, B_star, ν\n"
      ],
      "execution_count": 223,
      "outputs": [
        {
          "output_type": "execute_result",
          "data": {
            "text/plain": [
              "(55.1691305437233, 6.008519168128284, 300.42595840641394, 5.462290152843895)"
            ]
          },
          "metadata": {
            "tags": []
          },
          "execution_count": 223
        }
      ]
    },
    {
      "cell_type": "code",
      "metadata": {
        "id": "ZENObO4T0pb6",
        "colab_type": "code",
        "outputId": "a333e2b0-0858-40b5-d796-f2dd11aa8405",
        "colab": {
          "base_uri": "https://localhost:8080/",
          "height": 187
        }
      },
      "source": [
        "#Calculating the values of q, B and K after the productivity shock (need to solve non-linear equations for each period)\n",
        "#a_t = np.ones(periods)\n",
        "#a_t[1] = a #+ Δa\n",
        "Δt = np.zeros(periods)\n",
        "Δt[1] = Δa\n",
        "B[0], K[0] = B_star, K_star\n",
        "q[0] = q_star\n",
        "#a_t\n",
        "Δt"
      ],
      "execution_count": 224,
      "outputs": [
        {
          "output_type": "execute_result",
          "data": {
            "text/plain": [
              "array([0.  , 0.01, 0.  , 0.  , 0.  , 0.  , 0.  , 0.  , 0.  , 0.  , 0.  ,\n",
              "       0.  , 0.  , 0.  , 0.  , 0.  , 0.  , 0.  , 0.  , 0.  , 0.  , 0.  ,\n",
              "       0.  , 0.  , 0.  , 0.  , 0.  , 0.  , 0.  , 0.  , 0.  , 0.  , 0.  ,\n",
              "       0.  , 0.  , 0.  , 0.  , 0.  , 0.  , 0.  , 0.  , 0.  , 0.  , 0.  ,\n",
              "       0.  , 0.  , 0.  , 0.  , 0.  , 0.  , 0.  , 0.  , 0.  , 0.  , 0.  ,\n",
              "       0.  , 0.  , 0.  , 0.  , 0.  , 0.  , 0.  , 0.  , 0.  , 0.  , 0.  ,\n",
              "       0.  , 0.  , 0.  , 0.  , 0.  , 0.  , 0.  , 0.  , 0.  , 0.  , 0.  ,\n",
              "       0.  , 0.  , 0.  , 0.  , 0.  , 0.  , 0.  , 0.  , 0.  , 0.  , 0.  ,\n",
              "       0.  , 0.  , 0.  , 0.  , 0.  , 0.  , 0.  , 0.  , 0.  , 0.  , 0.  ,\n",
              "       0.  ])"
            ]
          },
          "metadata": {
            "tags": []
          },
          "execution_count": 224
        }
      ]
    },
    {
      "cell_type": "markdown",
      "metadata": {
        "id": "TWS8CUKGM_bq",
        "colab_type": "text"
      },
      "source": [
        "I need to use shooting method to solve for this nonlinear dynamic problem. For this, I need two boundary conditions.\n",
        "\n",
        "$$ (q_0, B_0, K_0) = (q^*, B^*, K^*) $$ and $$ (q_\\infty, B_\\infty, K_\\infty) = (q^g, B^g, K^g) $$ where $(q^g, B^g, K^g)$ are guesses for the final values of our variables of interest.\n",
        "\n",
        "And my three dynamic equations.\n",
        "\n",
        "Use reverse shooting here."
      ]
    },
    {
      "cell_type": "code",
      "metadata": {
        "id": "qRgZpPE_ctmE",
        "colab_type": "code",
        "outputId": "cc2e7414-cc8a-471b-843c-2b030048ecf3",
        "colab": {
          "base_uri": "https://localhost:8080/",
          "height": 357
        }
      },
      "source": [
        "#Vectors of variable of interest\n",
        "B = np.zeros(periods)\n",
        "q = np.zeros(periods)\n",
        "K = np.zeros(periods)\n",
        "\n",
        "#Calculating the values of q, B and K after the productivity shock (need to solve non-linear equations for each period)\n",
        "a_t = np.ones(periods)\n",
        "a_t[1] = a + Δa\n",
        "B[0], K[0] = B_star, K_star\n",
        "a_t\n",
        "\n",
        "#Generating test values for q_1, checking which ones lead to the steady state\n",
        "q_vec = np.linspace(q_star*(1.0037-0.0005), q_star*(1.0037+0.0005), trials)\n",
        "#q_vec = np.linspace(q_star*1.0037, q_star*1.0037, trials)\n",
        "q_vecSS = np.linspace(q_star, q_star, trials)\n",
        "q_mat = np.zeros((trials, 100))\n",
        "q_mat[:,1] = q_vec\n",
        "q_mat[:,0] = q_vecSS\n",
        "\n",
        "B_mat = np.zeros((trials, 100))\n",
        "K_mat = np.zeros((trials, 100))\n",
        "B_vec = np.linspace(B_star, B_star, trials)\n",
        "K_vec = np.linspace(K_star, K_star, trials)\n",
        "B_mat[:,0] = B_vec\n",
        "K_mat[:,0] = K_vec\n",
        "q_vec"
      ],
      "execution_count": 226,
      "outputs": [
        {
          "output_type": "execute_result",
          "data": {
            "text/plain": [
              "array([55.34567176, 55.34622903, 55.34678629, 55.34734355, 55.34790082,\n",
              "       55.34845808, 55.34901535, 55.34957261, 55.35012987, 55.35068714,\n",
              "       55.3512444 , 55.35180166, 55.35235893, 55.35291619, 55.35347346,\n",
              "       55.35403072, 55.35458798, 55.35514525, 55.35570251, 55.35625978,\n",
              "       55.35681704, 55.3573743 , 55.35793157, 55.35848883, 55.3590461 ,\n",
              "       55.35960336, 55.36016062, 55.36071789, 55.36127515, 55.36183242,\n",
              "       55.36238968, 55.36294694, 55.36350421, 55.36406147, 55.36461874,\n",
              "       55.365176  , 55.36573326, 55.36629053, 55.36684779, 55.36740506,\n",
              "       55.36796232, 55.36851958, 55.36907685, 55.36963411, 55.37019138,\n",
              "       55.37074864, 55.3713059 , 55.37186317, 55.37242043, 55.37297769,\n",
              "       55.37353496, 55.37409222, 55.37464949, 55.37520675, 55.37576401,\n",
              "       55.37632128, 55.37687854, 55.37743581, 55.37799307, 55.37855033,\n",
              "       55.3791076 , 55.37966486, 55.38022213, 55.38077939, 55.38133665,\n",
              "       55.38189392, 55.38245118, 55.38300845, 55.38356571, 55.38412297,\n",
              "       55.38468024, 55.3852375 , 55.38579477, 55.38635203, 55.38690929,\n",
              "       55.38746656, 55.38802382, 55.38858109, 55.38913835, 55.38969561,\n",
              "       55.39025288, 55.39081014, 55.3913674 , 55.39192467, 55.39248193,\n",
              "       55.3930392 , 55.39359646, 55.39415372, 55.39471099, 55.39526825,\n",
              "       55.39582552, 55.39638278, 55.39694004, 55.39749731, 55.39805457,\n",
              "       55.39861184, 55.3991691 , 55.39972636, 55.40028363, 55.40084089])"
            ]
          },
          "metadata": {
            "tags": []
          },
          "execution_count": 226
        }
      ]
    },
    {
      "cell_type": "code",
      "metadata": {
        "id": "xPaa4pklF0HX",
        "colab_type": "code",
        "colab": {}
      },
      "source": [
        "#NEW code!\n",
        "for s in range(0, trials):\n",
        "  for t in range(1, periods-1):\n",
        "    def f(variables):\n",
        "      (q_tplus1, K_t, B_t) = variables\n",
        "      first_eq = -(q_tplus1 - R*q_mat[s, t] + R*(K_t - ν))\n",
        "      #second_eq = K_t - (1-π)*λ*K_mat[s, t-1] - (π/(ϕ + q_mat[s, t] - (q_tplus1/R)))*( (a_t[t] +q_mat[s, t] + λ*ϕ)*K_mat[s, t-1] - R*B_mat[s, t-1])\n",
        "      second_eq = -(K_t - (1-π)*λ*K_mat[s, t-1] - (π/(ϕ + q_mat[s, t] - (q_tplus1/R)))*( (a + Δt[t] +q_mat[s, t] + λ*ϕ)*K_mat[s, t-1] - R*B_mat[s, t-1]))\n",
        "      #third_eq = B_t - R*B_mat[s, t-1] - q_mat[s, t]*(K_t - K_mat[s, t-1]) - ϕ*(K_t - K_mat[s, t-1]) + a_t[t]*K_mat[s, t-1]\n",
        "      third_eq = -(B_t - R*B_mat[s, t-1] - q_mat[s, t]*(K_t - K_mat[s, t-1]) - ϕ*(K_t - λ*K_mat[s, t-1]) + (a+Δt[t])*K_mat[s, t-1]) \n",
        "      return [first_eq, second_eq, third_eq]\n",
        "\n",
        "    solution = opt.fsolve(f, (q_star, K_star, B_star))\n",
        "    q_mat[s, t+1], K_mat[s, t], B_mat[s, t] = solution     "
      ],
      "execution_count": 0,
      "outputs": []
    },
    {
      "cell_type": "markdown",
      "metadata": {
        "id": "o0iwRAydPhAW",
        "colab_type": "text"
      },
      "source": [
        "Selecting the initial value of land price $q_1$ for which the long term price $q_T$ is closest to $q^*$."
      ]
    },
    {
      "cell_type": "code",
      "metadata": {
        "id": "zKwEn390MQmk",
        "colab_type": "code",
        "outputId": "ec31f596-f0be-4f66-81c8-ef424f50195d",
        "colab": {
          "base_uri": "https://localhost:8080/",
          "height": 34
        }
      },
      "source": [
        "#Defining a new vector of absolute distances to the steady state vale q*\n",
        "q_vec_abs = np.zeros(trials)\n",
        "for i in range(0, trials):\n",
        "  q_vec_abs[i] = abs(1 - q_mat[i, -1]/q_star)\n",
        "\n",
        "#Smallest absolute deviation\n",
        "index = np.argwhere(q_vec_abs == np.min(q_vec_abs))[0, 0]\n",
        "index, q_mat[index, -1], q_vec[index], q_vec_abs[index]"
      ],
      "execution_count": 238,
      "outputs": [
        {
          "output_type": "execute_result",
          "data": {
            "text/plain": [
              "(82, 55.16913684866983, 55.39136740494387, 1.1428395674251135e-07)"
            ]
          },
          "metadata": {
            "tags": []
          },
          "execution_count": 238
        }
      ]
    },
    {
      "cell_type": "markdown",
      "metadata": {
        "id": "Cq6p5qeASCnM",
        "colab_type": "text"
      },
      "source": [
        "Graphing the results"
      ]
    },
    {
      "cell_type": "code",
      "metadata": {
        "id": "4YR335NkNL8J",
        "colab_type": "code",
        "outputId": "94742cf1-8764-4144-c1ba-982bbcb19768",
        "colab": {
          "base_uri": "https://localhost:8080/",
          "height": 305
        }
      },
      "source": [
        "B_graph = B_mat[index, :]/B_star\n",
        "K_graph = K_mat[index, :]/K_star\n",
        "q_graph = q_mat[index, :]/q_star\n",
        "\n",
        "plt.figure(1) #, figsize=(15,10))\n",
        "plt.plot(time, B_graph, alpha=0.8, label='$B_t/B^*$')\n",
        "plt.plot(time, K_graph, alpha=0.8, label='$K_t/K^*$')\n",
        "plt.plot(time, q_graph, alpha=0.8, label='$q_t/q^*$')\n",
        "plt.xlabel(\"$\\mathrm{t}$\" \"q_vec[s]\")\n",
        "plt.legend()\n",
        "plt.grid()\n",
        "plt.xlim(0, 40)\n",
        "plt.ylim(0.998, 1.006)"
      ],
      "execution_count": 240,
      "outputs": [
        {
          "output_type": "execute_result",
          "data": {
            "text/plain": [
              "(0.998, 1.006)"
            ]
          },
          "metadata": {
            "tags": []
          },
          "execution_count": 240
        },
        {
          "output_type": "display_data",
          "data": {
            "image/png": "[encoded data removed]",
            "text/plain": [
              "<Figure size 432x288 with 1 Axes>"
            ]
          },
          "metadata": {
            "tags": []
          }
        }
      ]
    },
    {
      "cell_type": "code",
      "metadata": {
        "id": "JcMBq85nSg1n",
        "colab_type": "code",
        "outputId": "c85df336-ec1a-4656-a433-a556bec604fa",
        "colab": {
          "base_uri": "https://localhost:8080/",
          "height": 34
        }
      },
      "source": [
        "\n",
        "\n",
        "# Sum of distances\n",
        "#index = np.argwhere(q_vec_sum == np.min(q_vec_sum))[0, 0]\n",
        "#index, q_mat[index, -1], q_vec[index], q_vec_sum[index]"
      ],
      "execution_count": 59,
      "outputs": [
        {
          "output_type": "execute_result",
          "data": {
            "text/plain": [
              "(2, 12.236070156226665, 55.37172385088664, 0.22179197017667676)"
            ]
          },
          "metadata": {
            "tags": []
          },
          "execution_count": 59
        }
      ]
    },
    {
      "cell_type": "code",
      "metadata": {
        "id": "TcGB5-OQpe6g",
        "colab_type": "code",
        "colab": {}
      },
      "source": [
        "\n"
      ],
      "execution_count": 0,
      "outputs": []
    },
    {
      "cell_type": "code",
      "metadata": {
        "id": "p0OuliIdNaXo",
        "colab_type": "code",
        "colab": {
          "base_uri": "https://localhost:8080/",
          "height": 357
        },
        "outputId": "ca8118f6-6237-4647-c497-e70e35359206"
      },
      "source": [
        "q_graph_check = q_mat/q_star\n",
        "q_graph_check[:, periods-1]"
      ],
      "execution_count": 235,
      "outputs": [
        {
          "output_type": "execute_result",
          "data": {
            "text/plain": [
              "array([0.99989959, 0.99990079, 0.999902  , 0.99990321, 0.99990442,\n",
              "       0.99990563, 0.99990684, 0.99990805, 0.99990927, 0.99991048,\n",
              "       0.99991169, 0.9999129 , 0.99991412, 0.99991533, 0.99991654,\n",
              "       0.99991776, 0.99991897, 0.99992019, 0.9999214 , 0.99992262,\n",
              "       0.99992384, 0.99992505, 0.99992627, 0.99992749, 0.99992871,\n",
              "       0.99992993, 0.99993115, 0.99993237, 0.99993359, 0.99993481,\n",
              "       0.99993603, 0.99993725, 0.99993847, 0.99993969, 0.99994092,\n",
              "       0.99994214, 0.99994336, 0.99994459, 0.99994581, 0.99994704,\n",
              "       0.99994826, 0.99994949, 0.99995071, 0.99995194, 0.99995317,\n",
              "       0.99995439, 0.99995562, 0.99995685, 0.99995808, 0.99995931,\n",
              "       0.99996054, 0.99996177, 0.999963  , 0.99996423, 0.99996546,\n",
              "       0.99996669, 0.99996793, 0.99996916, 0.99997039, 0.99997162,\n",
              "       0.99997286, 0.99997409, 0.99997533, 0.99997656, 0.9999778 ,\n",
              "       0.99997903, 0.99998027, 0.99998151, 0.99998275, 0.99998398,\n",
              "       0.99998522, 0.99998646, 0.9999877 , 0.99998894, 0.99999018,\n",
              "       0.99999142, 0.99999266, 0.9999939 , 0.99999514, 0.99999639,\n",
              "       0.99999763, 0.99999887, 1.00000011, 1.00000136, 1.0000026 ,\n",
              "       1.00000385, 1.00000509, 1.00000634, 1.00000758, 1.00000883,\n",
              "       1.00001008, 1.00001132, 1.00001257, 1.00001382, 1.00001507,\n",
              "       1.00001632, 1.00001757, 1.00001882, 1.00002007, 1.00002132])"
            ]
          },
          "metadata": {
            "tags": []
          },
          "execution_count": 235
        }
      ]
    },
    {
      "cell_type": "code",
      "metadata": {
        "id": "aCuKA9QKE9SR",
        "colab_type": "code",
        "colab": {}
      },
      "source": [
        "\n",
        "for s in range(0, trials):\n",
        "\n",
        "  for t in range(1, periods-1):\n",
        "    def f(variables):\n",
        "      (q_tplus1, K_t, B_t) = variables\n",
        "      \n",
        "      #first_eq = q_tplus1 - R*(q_mat[s, t] - K_t - ν)\n",
        "      first_eq = q_mat[s, t] - q_tplus1/R - (K_t - ν)\n",
        "      #sec_eq = K_t - (1 - π)*λ*K_mat[s, t-1] - ((π)/(ϕ + q_mat[s, t] - (1/R)*q_tplus1))*( (a_t[t] + q_mat[s, t] + λ*ϕ)*K_mat[s, t-1] - R*B_mat[s, t-1])\n",
        "      sec_eq = ((π)/(ϕ + q_mat[s, t] - q_tplus1/R))*( (a_t[t] + q_mat[s, t] + λ*ϕ)*K_mat[s, t-1] - R*B_mat[s, t-1]) + (1 - π)*λ*K_mat[s, t-1] - K_t\n",
        "      #third_eq = B_t - R*B_mat[s, t-1] - q_mat[s, t]*(K_mat[s, t]-K_mat[s, t-1]) - ϕ*(K_mat[s, t]-λ*K_mat[s, t-1]) + a_t[t]*K_mat[s, t-1]\n",
        "      third_eq = R*B_mat[s, t-1] + q_mat[s, t]*(K_t - K_mat[s, t-1]) + ϕ*(K_t-λ*K_mat[s, t-1]) + a_t[t]*K_mat[s, t-1] - B_t \n",
        "      return [first_eq, sec_eq, third_eq]\n",
        "\n",
        "    solution = opt.fsolve(f, (0, 0, 0))\n",
        "    q_mat[s, t+1], K_mat[s, t], B_mat[s, t] = solution\n",
        "  print(s)\n"
      ],
      "execution_count": 0,
      "outputs": []
    },
    {
      "cell_type": "code",
      "metadata": {
        "id": "kndNJdYe_TYN",
        "colab_type": "code",
        "colab": {}
      },
      "source": [
        "for s in range(0, trials):\n",
        "  B_graph = B_mat[s, :]/B_star\n",
        "  K_graph = K_mat[s, :]/K_star\n",
        "  q_graph = q_mat[s, :]/q_star\n",
        "\n",
        "  plt.figure(s) #, figsize=(15,10))\n",
        "  plt.plot(time, B_graph, alpha=0.8, label='$B_t/B^*$')\n",
        "  plt.plot(time, K_graph, alpha=0.8, label='$K_t/K^*$')\n",
        "  plt.plot(time, q_graph, alpha=0.8, label='$q_t/q^*$')\n",
        "  plt.xlabel(\"$\\mathrm{t}$\")\n",
        "  plt.legend()\n",
        "  plt.grid()\n",
        "  #lt.xlim(0, 40)\n",
        "  #plt.ylim(-20, 20)"
      ],
      "execution_count": 0,
      "outputs": []
    },
    {
      "cell_type": "code",
      "metadata": {
        "id": "H65u3TxgWtzy",
        "colab_type": "code",
        "outputId": "9dc35735-54c8-4899-e2f3-4374b2a8f264",
        "colab": {
          "base_uri": "https://localhost:8080/",
          "height": 34
        }
      },
      "source": [
        "new_start = q_vec[index]\n",
        "new_start"
      ],
      "execution_count": 60,
      "outputs": [
        {
          "output_type": "execute_result",
          "data": {
            "text/plain": [
              "55.37172385088664"
            ]
          },
          "metadata": {
            "tags": []
          },
          "execution_count": 60
        }
      ]
    },
    {
      "cell_type": "code",
      "metadata": {
        "id": "nP-rnefCSycN",
        "colab_type": "code",
        "outputId": "4a517f2b-f17d-47f3-f92e-4e2f000e2a04",
        "colab": {
          "base_uri": "https://localhost:8080/",
          "height": 1000
        }
      },
      "source": [
        "#Generating test values for q_1, checking which ones lead to the steady state\n",
        "q_vec2 = np.linspace(new_start, new_start, trials) \n",
        "#- (-55.37049787+55.3705536), new_start + (-55.37049787+55.3705536), 100)\n",
        "q_vec2\n",
        "#q_vecSS = np.linspace(q_star, q_star, 100)\n",
        "q_mat = np.zeros((trials, 100))\n",
        "q_mat[:,1] = q_vec2\n",
        "q_mat[:,0] = q_vecSS\n",
        "\n",
        "B_mat = np.zeros((trials, 100))\n",
        "K_mat = np.zeros((trials, 100))\n",
        "B_vec = np.linspace(B_star, B_star, trials)\n",
        "K_vec = np.linspace(K_star, K_star, trials)\n",
        "B_mat[:,0] = B_vec\n",
        "K_mat[:,0] = K_vec\n",
        "q_mat"
      ],
      "execution_count": 61,
      "outputs": [
        {
          "output_type": "execute_result",
          "data": {
            "text/plain": [
              "array([[55.16913054, 55.37172385,  0.        ,  0.        ,  0.        ,\n",
              "         0.        ,  0.        ,  0.        ,  0.        ,  0.        ,\n",
              "         0.        ,  0.        ,  0.        ,  0.        ,  0.        ,\n",
              "         0.        ,  0.        ,  0.        ,  0.        ,  0.        ,\n",
              "         0.        ,  0.        ,  0.        ,  0.        ,  0.        ,\n",
              "         0.        ,  0.        ,  0.        ,  0.        ,  0.        ,\n",
              "         0.        ,  0.        ,  0.        ,  0.        ,  0.        ,\n",
              "         0.        ,  0.        ,  0.        ,  0.        ,  0.        ,\n",
              "         0.        ,  0.        ,  0.        ,  0.        ,  0.        ,\n",
              "         0.        ,  0.        ,  0.        ,  0.        ,  0.        ,\n",
              "         0.        ,  0.        ,  0.        ,  0.        ,  0.        ,\n",
              "         0.        ,  0.        ,  0.        ,  0.        ,  0.        ,\n",
              "         0.        ,  0.        ,  0.        ,  0.        ,  0.        ,\n",
              "         0.        ,  0.        ,  0.        ,  0.        ,  0.        ,\n",
              "         0.        ,  0.        ,  0.        ,  0.        ,  0.        ,\n",
              "         0.        ,  0.        ,  0.        ,  0.        ,  0.        ,\n",
              "         0.        ,  0.        ,  0.        ,  0.        ,  0.        ,\n",
              "         0.        ,  0.        ,  0.        ,  0.        ,  0.        ,\n",
              "         0.        ,  0.        ,  0.        ,  0.        ,  0.        ,\n",
              "         0.        ,  0.        ,  0.        ,  0.        ,  0.        ],\n",
              "       [55.16913054, 55.37172385,  0.        ,  0.        ,  0.        ,\n",
              "         0.        ,  0.        ,  0.        ,  0.        ,  0.        ,\n",
              "         0.        ,  0.        ,  0.        ,  0.        ,  0.        ,\n",
              "         0.        ,  0.        ,  0.        ,  0.        ,  0.        ,\n",
              "         0.        ,  0.        ,  0.        ,  0.        ,  0.        ,\n",
              "         0.        ,  0.        ,  0.        ,  0.        ,  0.        ,\n",
              "         0.        ,  0.        ,  0.        ,  0.        ,  0.        ,\n",
              "         0.        ,  0.        ,  0.        ,  0.        ,  0.        ,\n",
              "         0.        ,  0.        ,  0.        ,  0.        ,  0.        ,\n",
              "         0.        ,  0.        ,  0.        ,  0.        ,  0.        ,\n",
              "         0.        ,  0.        ,  0.        ,  0.        ,  0.        ,\n",
              "         0.        ,  0.        ,  0.        ,  0.        ,  0.        ,\n",
              "         0.        ,  0.        ,  0.        ,  0.        ,  0.        ,\n",
              "         0.        ,  0.        ,  0.        ,  0.        ,  0.        ,\n",
              "         0.        ,  0.        ,  0.        ,  0.        ,  0.        ,\n",
              "         0.        ,  0.        ,  0.        ,  0.        ,  0.        ,\n",
              "         0.        ,  0.        ,  0.        ,  0.        ,  0.        ,\n",
              "         0.        ,  0.        ,  0.        ,  0.        ,  0.        ,\n",
              "         0.        ,  0.        ,  0.        ,  0.        ,  0.        ,\n",
              "         0.        ,  0.        ,  0.        ,  0.        ,  0.        ],\n",
              "       [55.16913054, 55.37172385,  0.        ,  0.        ,  0.        ,\n",
              "         0.        ,  0.        ,  0.        ,  0.        ,  0.        ,\n",
              "         0.        ,  0.        ,  0.        ,  0.        ,  0.        ,\n",
              "         0.        ,  0.        ,  0.        ,  0.        ,  0.        ,\n",
              "         0.        ,  0.        ,  0.        ,  0.        ,  0.        ,\n",
              "         0.        ,  0.        ,  0.        ,  0.        ,  0.        ,\n",
              "         0.        ,  0.        ,  0.        ,  0.        ,  0.        ,\n",
              "         0.        ,  0.        ,  0.        ,  0.        ,  0.        ,\n",
              "         0.        ,  0.        ,  0.        ,  0.        ,  0.        ,\n",
              "         0.        ,  0.        ,  0.        ,  0.        ,  0.        ,\n",
              "         0.        ,  0.        ,  0.        ,  0.        ,  0.        ,\n",
              "         0.        ,  0.        ,  0.        ,  0.        ,  0.        ,\n",
              "         0.        ,  0.        ,  0.        ,  0.        ,  0.        ,\n",
              "         0.        ,  0.        ,  0.        ,  0.        ,  0.        ,\n",
              "         0.        ,  0.        ,  0.        ,  0.        ,  0.        ,\n",
              "         0.        ,  0.        ,  0.        ,  0.        ,  0.        ,\n",
              "         0.        ,  0.        ,  0.        ,  0.        ,  0.        ,\n",
              "         0.        ,  0.        ,  0.        ,  0.        ,  0.        ,\n",
              "         0.        ,  0.        ,  0.        ,  0.        ,  0.        ,\n",
              "         0.        ,  0.        ,  0.        ,  0.        ,  0.        ],\n",
              "       [55.16913054, 55.37172385,  0.        ,  0.        ,  0.        ,\n",
              "         0.        ,  0.        ,  0.        ,  0.        ,  0.        ,\n",
              "         0.        ,  0.        ,  0.        ,  0.        ,  0.        ,\n",
              "         0.        ,  0.        ,  0.        ,  0.        ,  0.        ,\n",
              "         0.        ,  0.        ,  0.        ,  0.        ,  0.        ,\n",
              "         0.        ,  0.        ,  0.        ,  0.        ,  0.        ,\n",
              "         0.        ,  0.        ,  0.        ,  0.        ,  0.        ,\n",
              "         0.        ,  0.        ,  0.        ,  0.        ,  0.        ,\n",
              "         0.        ,  0.        ,  0.        ,  0.        ,  0.        ,\n",
              "         0.        ,  0.        ,  0.        ,  0.        ,  0.        ,\n",
              "         0.        ,  0.        ,  0.        ,  0.        ,  0.        ,\n",
              "         0.        ,  0.        ,  0.        ,  0.        ,  0.        ,\n",
              "         0.        ,  0.        ,  0.        ,  0.        ,  0.        ,\n",
              "         0.        ,  0.        ,  0.        ,  0.        ,  0.        ,\n",
              "         0.        ,  0.        ,  0.        ,  0.        ,  0.        ,\n",
              "         0.        ,  0.        ,  0.        ,  0.        ,  0.        ,\n",
              "         0.        ,  0.        ,  0.        ,  0.        ,  0.        ,\n",
              "         0.        ,  0.        ,  0.        ,  0.        ,  0.        ,\n",
              "         0.        ,  0.        ,  0.        ,  0.        ,  0.        ,\n",
              "         0.        ,  0.        ,  0.        ,  0.        ,  0.        ],\n",
              "       [55.16913054, 55.37172385,  0.        ,  0.        ,  0.        ,\n",
              "         0.        ,  0.        ,  0.        ,  0.        ,  0.        ,\n",
              "         0.        ,  0.        ,  0.        ,  0.        ,  0.        ,\n",
              "         0.        ,  0.        ,  0.        ,  0.        ,  0.        ,\n",
              "         0.        ,  0.        ,  0.        ,  0.        ,  0.        ,\n",
              "         0.        ,  0.        ,  0.        ,  0.        ,  0.        ,\n",
              "         0.        ,  0.        ,  0.        ,  0.        ,  0.        ,\n",
              "         0.        ,  0.        ,  0.        ,  0.        ,  0.        ,\n",
              "         0.        ,  0.        ,  0.        ,  0.        ,  0.        ,\n",
              "         0.        ,  0.        ,  0.        ,  0.        ,  0.        ,\n",
              "         0.        ,  0.        ,  0.        ,  0.        ,  0.        ,\n",
              "         0.        ,  0.        ,  0.        ,  0.        ,  0.        ,\n",
              "         0.        ,  0.        ,  0.        ,  0.        ,  0.        ,\n",
              "         0.        ,  0.        ,  0.        ,  0.        ,  0.        ,\n",
              "         0.        ,  0.        ,  0.        ,  0.        ,  0.        ,\n",
              "         0.        ,  0.        ,  0.        ,  0.        ,  0.        ,\n",
              "         0.        ,  0.        ,  0.        ,  0.        ,  0.        ,\n",
              "         0.        ,  0.        ,  0.        ,  0.        ,  0.        ,\n",
              "         0.        ,  0.        ,  0.        ,  0.        ,  0.        ,\n",
              "         0.        ,  0.        ,  0.        ,  0.        ,  0.        ],\n",
              "       [55.16913054, 55.37172385,  0.        ,  0.        ,  0.        ,\n",
              "         0.        ,  0.        ,  0.        ,  0.        ,  0.        ,\n",
              "         0.        ,  0.        ,  0.        ,  0.        ,  0.        ,\n",
              "         0.        ,  0.        ,  0.        ,  0.        ,  0.        ,\n",
              "         0.        ,  0.        ,  0.        ,  0.        ,  0.        ,\n",
              "         0.        ,  0.        ,  0.        ,  0.        ,  0.        ,\n",
              "         0.        ,  0.        ,  0.        ,  0.        ,  0.        ,\n",
              "         0.        ,  0.        ,  0.        ,  0.        ,  0.        ,\n",
              "         0.        ,  0.        ,  0.        ,  0.        ,  0.        ,\n",
              "         0.        ,  0.        ,  0.        ,  0.        ,  0.        ,\n",
              "         0.        ,  0.        ,  0.        ,  0.        ,  0.        ,\n",
              "         0.        ,  0.        ,  0.        ,  0.        ,  0.        ,\n",
              "         0.        ,  0.        ,  0.        ,  0.        ,  0.        ,\n",
              "         0.        ,  0.        ,  0.        ,  0.        ,  0.        ,\n",
              "         0.        ,  0.        ,  0.        ,  0.        ,  0.        ,\n",
              "         0.        ,  0.        ,  0.        ,  0.        ,  0.        ,\n",
              "         0.        ,  0.        ,  0.        ,  0.        ,  0.        ,\n",
              "         0.        ,  0.        ,  0.        ,  0.        ,  0.        ,\n",
              "         0.        ,  0.        ,  0.        ,  0.        ,  0.        ,\n",
              "         0.        ,  0.        ,  0.        ,  0.        ,  0.        ],\n",
              "       [55.16913054, 55.37172385,  0.        ,  0.        ,  0.        ,\n",
              "         0.        ,  0.        ,  0.        ,  0.        ,  0.        ,\n",
              "         0.        ,  0.        ,  0.        ,  0.        ,  0.        ,\n",
              "         0.        ,  0.        ,  0.        ,  0.        ,  0.        ,\n",
              "         0.        ,  0.        ,  0.        ,  0.        ,  0.        ,\n",
              "         0.        ,  0.        ,  0.        ,  0.        ,  0.        ,\n",
              "         0.        ,  0.        ,  0.        ,  0.        ,  0.        ,\n",
              "         0.        ,  0.        ,  0.        ,  0.        ,  0.        ,\n",
              "         0.        ,  0.        ,  0.        ,  0.        ,  0.        ,\n",
              "         0.        ,  0.        ,  0.        ,  0.        ,  0.        ,\n",
              "         0.        ,  0.        ,  0.        ,  0.        ,  0.        ,\n",
              "         0.        ,  0.        ,  0.        ,  0.        ,  0.        ,\n",
              "         0.        ,  0.        ,  0.        ,  0.        ,  0.        ,\n",
              "         0.        ,  0.        ,  0.        ,  0.        ,  0.        ,\n",
              "         0.        ,  0.        ,  0.        ,  0.        ,  0.        ,\n",
              "         0.        ,  0.        ,  0.        ,  0.        ,  0.        ,\n",
              "         0.        ,  0.        ,  0.        ,  0.        ,  0.        ,\n",
              "         0.        ,  0.        ,  0.        ,  0.        ,  0.        ,\n",
              "         0.        ,  0.        ,  0.        ,  0.        ,  0.        ,\n",
              "         0.        ,  0.        ,  0.        ,  0.        ,  0.        ],\n",
              "       [55.16913054, 55.37172385,  0.        ,  0.        ,  0.        ,\n",
              "         0.        ,  0.        ,  0.        ,  0.        ,  0.        ,\n",
              "         0.        ,  0.        ,  0.        ,  0.        ,  0.        ,\n",
              "         0.        ,  0.        ,  0.        ,  0.        ,  0.        ,\n",
              "         0.        ,  0.        ,  0.        ,  0.        ,  0.        ,\n",
              "         0.        ,  0.        ,  0.        ,  0.        ,  0.        ,\n",
              "         0.        ,  0.        ,  0.        ,  0.        ,  0.        ,\n",
              "         0.        ,  0.        ,  0.        ,  0.        ,  0.        ,\n",
              "         0.        ,  0.        ,  0.        ,  0.        ,  0.        ,\n",
              "         0.        ,  0.        ,  0.        ,  0.        ,  0.        ,\n",
              "         0.        ,  0.        ,  0.        ,  0.        ,  0.        ,\n",
              "         0.        ,  0.        ,  0.        ,  0.        ,  0.        ,\n",
              "         0.        ,  0.        ,  0.        ,  0.        ,  0.        ,\n",
              "         0.        ,  0.        ,  0.        ,  0.        ,  0.        ,\n",
              "         0.        ,  0.        ,  0.        ,  0.        ,  0.        ,\n",
              "         0.        ,  0.        ,  0.        ,  0.        ,  0.        ,\n",
              "         0.        ,  0.        ,  0.        ,  0.        ,  0.        ,\n",
              "         0.        ,  0.        ,  0.        ,  0.        ,  0.        ,\n",
              "         0.        ,  0.        ,  0.        ,  0.        ,  0.        ,\n",
              "         0.        ,  0.        ,  0.        ,  0.        ,  0.        ],\n",
              "       [55.16913054, 55.37172385,  0.        ,  0.        ,  0.        ,\n",
              "         0.        ,  0.        ,  0.        ,  0.        ,  0.        ,\n",
              "         0.        ,  0.        ,  0.        ,  0.        ,  0.        ,\n",
              "         0.        ,  0.        ,  0.        ,  0.        ,  0.        ,\n",
              "         0.        ,  0.        ,  0.        ,  0.        ,  0.        ,\n",
              "         0.        ,  0.        ,  0.        ,  0.        ,  0.        ,\n",
              "         0.        ,  0.        ,  0.        ,  0.        ,  0.        ,\n",
              "         0.        ,  0.        ,  0.        ,  0.        ,  0.        ,\n",
              "         0.        ,  0.        ,  0.        ,  0.        ,  0.        ,\n",
              "         0.        ,  0.        ,  0.        ,  0.        ,  0.        ,\n",
              "         0.        ,  0.        ,  0.        ,  0.        ,  0.        ,\n",
              "         0.        ,  0.        ,  0.        ,  0.        ,  0.        ,\n",
              "         0.        ,  0.        ,  0.        ,  0.        ,  0.        ,\n",
              "         0.        ,  0.        ,  0.        ,  0.        ,  0.        ,\n",
              "         0.        ,  0.        ,  0.        ,  0.        ,  0.        ,\n",
              "         0.        ,  0.        ,  0.        ,  0.        ,  0.        ,\n",
              "         0.        ,  0.        ,  0.        ,  0.        ,  0.        ,\n",
              "         0.        ,  0.        ,  0.        ,  0.        ,  0.        ,\n",
              "         0.        ,  0.        ,  0.        ,  0.        ,  0.        ,\n",
              "         0.        ,  0.        ,  0.        ,  0.        ,  0.        ],\n",
              "       [55.16913054, 55.37172385,  0.        ,  0.        ,  0.        ,\n",
              "         0.        ,  0.        ,  0.        ,  0.        ,  0.        ,\n",
              "         0.        ,  0.        ,  0.        ,  0.        ,  0.        ,\n",
              "         0.        ,  0.        ,  0.        ,  0.        ,  0.        ,\n",
              "         0.        ,  0.        ,  0.        ,  0.        ,  0.        ,\n",
              "         0.        ,  0.        ,  0.        ,  0.        ,  0.        ,\n",
              "         0.        ,  0.        ,  0.        ,  0.        ,  0.        ,\n",
              "         0.        ,  0.        ,  0.        ,  0.        ,  0.        ,\n",
              "         0.        ,  0.        ,  0.        ,  0.        ,  0.        ,\n",
              "         0.        ,  0.        ,  0.        ,  0.        ,  0.        ,\n",
              "         0.        ,  0.        ,  0.        ,  0.        ,  0.        ,\n",
              "         0.        ,  0.        ,  0.        ,  0.        ,  0.        ,\n",
              "         0.        ,  0.        ,  0.        ,  0.        ,  0.        ,\n",
              "         0.        ,  0.        ,  0.        ,  0.        ,  0.        ,\n",
              "         0.        ,  0.        ,  0.        ,  0.        ,  0.        ,\n",
              "         0.        ,  0.        ,  0.        ,  0.        ,  0.        ,\n",
              "         0.        ,  0.        ,  0.        ,  0.        ,  0.        ,\n",
              "         0.        ,  0.        ,  0.        ,  0.        ,  0.        ,\n",
              "         0.        ,  0.        ,  0.        ,  0.        ,  0.        ,\n",
              "         0.        ,  0.        ,  0.        ,  0.        ,  0.        ]])"
            ]
          },
          "metadata": {
            "tags": []
          },
          "execution_count": 61
        }
      ]
    },
    {
      "cell_type": "code",
      "metadata": {
        "id": "x9PsYaAdVba5",
        "colab_type": "code",
        "outputId": "9a4e84f2-3b4e-4652-e260-6d8a95491235",
        "colab": {
          "base_uri": "https://localhost:8080/",
          "height": 289
        }
      },
      "source": [
        "for s in range(0, trials):\n",
        "\n",
        "  for t in range(1, periods-1):\n",
        "    def f(variables):\n",
        "      (q_tplus1, K_t, B_t) = variables\n",
        "      \n",
        "      first_eq = q_tplus1 - R*(q_mat[s, t] - K_t - ν)\n",
        "      sec_eq = K_t - (1 - π)*λ*K_mat[s, t-1] - ((π)/(ϕ + q_mat[s, t] - (1/R)*q_tplus1))*( (a_t[t] + q_mat[s, t] + λ*ϕ)*K_mat[s, t-1] - R*B_mat[s, t-1])\n",
        "      third_eq = B_t - R*B_mat[s, t-1] - q_mat[s, t]*(K_mat[s, t]-K_mat[s, t-1]) - ϕ*(K_mat[s, t]-λ*K_mat[s, t-1]) + a_t[t]*K_mat[s, t-1]\n",
        "      return [first_eq, sec_eq, third_eq]\n",
        "\n",
        "    solution = opt.fsolve(f, (0, 0, 0))\n",
        "    #print(solution)\n",
        "\n",
        "    q_mat[s, t+1], K_mat[s, t], B_mat[s, t] = solution\n",
        "  print(s)"
      ],
      "execution_count": 62,
      "outputs": [
        {
          "output_type": "stream",
          "text": [
            "/usr/local/lib/python3.6/dist-packages/scipy/optimize/minpack.py:162: RuntimeWarning: The iteration is not making good progress, as measured by the \n",
            "  improvement from the last ten iterations.\n",
            "  warnings.warn(msg, RuntimeWarning)\n",
            "/usr/local/lib/python3.6/dist-packages/scipy/optimize/minpack.py:162: RuntimeWarning: The iteration is not making good progress, as measured by the \n",
            "  improvement from the last five Jacobian evaluations.\n",
            "  warnings.warn(msg, RuntimeWarning)\n"
          ],
          "name": "stderr"
        },
        {
          "output_type": "stream",
          "text": [
            "0\n",
            "1\n",
            "2\n",
            "3\n",
            "4\n",
            "5\n",
            "6\n",
            "7\n",
            "8\n",
            "9\n"
          ],
          "name": "stdout"
        }
      ]
    },
    {
      "cell_type": "code",
      "metadata": {
        "id": "toF6gvKrNmBm",
        "colab_type": "code",
        "outputId": "69fb7905-59d2-4515-f381-0744dd03cd47",
        "colab": {
          "base_uri": "https://localhost:8080/",
          "height": 51
        }
      },
      "source": [
        "q_mat[:, -1]"
      ],
      "execution_count": 63,
      "outputs": [
        {
          "output_type": "execute_result",
          "data": {
            "text/plain": [
              "array([12.23607016, 12.23607016, 12.23607016, 12.23607016, 12.23607016,\n",
              "       12.23607016, 12.23607016, 12.23607016, 12.23607016, 12.23607016])"
            ]
          },
          "metadata": {
            "tags": []
          },
          "execution_count": 63
        }
      ]
    },
    {
      "cell_type": "code",
      "metadata": {
        "id": "2Us0c2nagIp_",
        "colab_type": "code",
        "outputId": "de82e64d-cbd1-43a2-e6c3-554d1d14fe53",
        "colab": {
          "base_uri": "https://localhost:8080/",
          "height": 608
        }
      },
      "source": [
        "B_graph = B_mat[1, :]/B_star\n",
        "K_graph = K_mat[1, :]/K_star\n",
        "q_graph = q_mat[1, :]/q_star\n",
        "\n",
        "plt.figure(1, figsize=(15,10))\n",
        "plt.plot(time, B_graph, alpha=0.8, label='$B_t/B^*$')\n",
        "plt.plot(time, K_graph, alpha=0.8, label='$K_t/K^*$')\n",
        "plt.plot(time, q_graph, alpha=0.8, label='$q_t/q^*$')\n",
        "plt.xlabel(\"$\\mathrm{t}$\")\n",
        "plt.legend()\n",
        "plt.grid()\n",
        "#lt.xlim(0, 40)\n",
        "#plt.ylim(-20, 20)"
      ],
      "execution_count": 64,
      "outputs": [
        {
          "output_type": "display_data",
          "data": {
            "image/png": "[encoded data removed]",
            "text/plain": [
              "<Figure size 1080x720 with 1 Axes>"
            ]
          },
          "metadata": {
            "tags": []
          }
        }
      ]
    },
    {
      "cell_type": "code",
      "metadata": {
        "id": "r2PUVKdsNKlv",
        "colab_type": "code",
        "colab": {}
      },
      "source": [
        ""
      ],
      "execution_count": 0,
      "outputs": []
    },
    {
      "cell_type": "code",
      "metadata": {
        "id": "Ze0DO4jK7VCe",
        "colab_type": "code",
        "colab": {}
      },
      "source": [
        "q"
      ],
      "execution_count": 0,
      "outputs": []
    },
    {
      "cell_type": "code",
      "metadata": {
        "id": "kKWqmsTjg5mr",
        "colab_type": "code",
        "colab": {}
      },
      "source": [
        "for t in range(1, periods):\n",
        "  def f(variables):\n",
        "    (q_tplus1, K_t, B_t) = variables\n",
        "    first_eq = q_tplus1 - R*(q[t] - K_t - v)\n",
        "    sec_eq = K_t - (1 - π)*λ*K[t-1] - ((π)/(ϕ + q[t] - (1/R)*q_tplus1))*( (a_t[t] + q[t] + λ*ϕ)*K[t-1] - R*B[t-1])\n",
        "    third_eq = B_t - R*B[t] - q[t]*(K[t]-K[t-1]) - ϕ*(K[t]-λ*K[t-1]) + a_t[t]*K[t-1]\n",
        "    return [first_eq, sec_eq, third_eq]\n",
        "\n",
        "  solution = opt.fsolve(f, (0, 0, 0))\n",
        "  print(solution)\n",
        "\n",
        "  q[t+1], K[t], B[t] = solution"
      ],
      "execution_count": 0,
      "outputs": []
    },
    {
      "cell_type": "code",
      "metadata": {
        "id": "WFvwPv0apItx",
        "colab_type": "code",
        "colab": {}
      },
      "source": [
        "plt.plot(time, B, alpha=0.5)\n",
        "plt.plot(time, K, alpha=0.5)\n",
        "plt.plot(time, q, alpha=0.5)"
      ],
      "execution_count": 0,
      "outputs": []
    },
    {
      "cell_type": "code",
      "metadata": {
        "id": "X3vOExygqKwR",
        "colab_type": "code",
        "colab": {}
      },
      "source": [
        ""
      ],
      "execution_count": 0,
      "outputs": []
    }
  ]
}